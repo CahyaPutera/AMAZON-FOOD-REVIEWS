{
  "nbformat": 4,
  "nbformat_minor": 0,
  "metadata": {
    "kernelspec": {
      "display_name": "Python 3",
      "language": "python",
      "name": "python3"
    },
    "language_info": {
      "codemirror_mode": {
        "name": "ipython",
        "version": 3
      },
      "file_extension": ".py",
      "mimetype": "text/x-python",
      "name": "python",
      "nbconvert_exporter": "python",
      "pygments_lexer": "ipython3",
      "version": "3.8.5"
    },
    "colab": {
      "name": "AmazonFood-LDA.ipynb",
      "provenance": [],
      "collapsed_sections": [],
      "include_colab_link": true
    },
    "accelerator": "TPU"
  },
  "cells": [
    {
      "cell_type": "markdown",
      "metadata": {
        "id": "view-in-github",
        "colab_type": "text"
      },
      "source": [
        "<a href=\"https://colab.research.google.com/github/CahyaPutera/AMAZON-FOOD-REVIEWS/blob/main/AmazonFood_LDA.ipynb\" target=\"_parent\"><img src=\"https://colab.research.google.com/assets/colab-badge.svg\" alt=\"Open In Colab\"/></a>"
      ]
    },
    {
      "cell_type": "markdown",
      "metadata": {
        "id": "R6YypOJvMYUp"
      },
      "source": [
        "# AMAZON FINE FOOD REVIEWS"
      ]
    },
    {
      "cell_type": "markdown",
      "metadata": {
        "id": "UhTsy63pMYUt"
      },
      "source": [
        "> In this notebook, I will try to demonstrate the **Latent Dirichlet Allocation Model (LDA)** for topic modelling using Gensim Package, and **pyLDAvis** to visualize the LDA topics. \n",
        "\n",
        "> The dataset used are from the **Amazon Fine Food Reviews** dataset : https://www.kaggle.com/snap/amazon-fine-food-reviews.\n",
        "\n",
        "> Since the process on this notebook (especially the model training part) will take a rigorous amount of time to run only on a normal everyday CPU, I will be using google colab's TPU to accelerate the process a little bit and will only take the short reviews (about 40% of the total data), and further reduce the it, so in the end we only got 20% of the total filtered data, that is about 150 thousand data."
      ]
    },
    {
      "cell_type": "markdown",
      "metadata": {
        "id": "4Xk8A9hFMYUx"
      },
      "source": [
        "## PREPARATION"
      ]
    },
    {
      "cell_type": "code",
      "metadata": {
        "colab": {
          "base_uri": "https://localhost:8080/"
        },
        "id": "8p_ybskSMYUy",
        "outputId": "99b3d0d7-3921-493c-f6a0-947de2875070"
      },
      "source": [
        "# insall spacy\r\n",
        "\r\n",
        "!pip install spacy"
      ],
      "execution_count": 1,
      "outputs": [
        {
          "output_type": "stream",
          "text": [
            "Requirement already satisfied: spacy in /usr/local/lib/python3.6/dist-packages (2.2.4)\n",
            "Requirement already satisfied: plac<1.2.0,>=0.9.6 in /usr/local/lib/python3.6/dist-packages (from spacy) (1.1.3)\n",
            "Requirement already satisfied: murmurhash<1.1.0,>=0.28.0 in /usr/local/lib/python3.6/dist-packages (from spacy) (1.0.5)\n",
            "Requirement already satisfied: wasabi<1.1.0,>=0.4.0 in /usr/local/lib/python3.6/dist-packages (from spacy) (0.8.0)\n",
            "Requirement already satisfied: tqdm<5.0.0,>=4.38.0 in /usr/local/lib/python3.6/dist-packages (from spacy) (4.41.1)\n",
            "Requirement already satisfied: catalogue<1.1.0,>=0.0.7 in /usr/local/lib/python3.6/dist-packages (from spacy) (1.0.0)\n",
            "Requirement already satisfied: numpy>=1.15.0 in /usr/local/lib/python3.6/dist-packages (from spacy) (1.19.4)\n",
            "Requirement already satisfied: thinc==7.4.0 in /usr/local/lib/python3.6/dist-packages (from spacy) (7.4.0)\n",
            "Requirement already satisfied: requests<3.0.0,>=2.13.0 in /usr/local/lib/python3.6/dist-packages (from spacy) (2.23.0)\n",
            "Requirement already satisfied: srsly<1.1.0,>=1.0.2 in /usr/local/lib/python3.6/dist-packages (from spacy) (1.0.5)\n",
            "Requirement already satisfied: setuptools in /usr/local/lib/python3.6/dist-packages (from spacy) (51.0.0)\n",
            "Requirement already satisfied: cymem<2.1.0,>=2.0.2 in /usr/local/lib/python3.6/dist-packages (from spacy) (2.0.5)\n",
            "Requirement already satisfied: blis<0.5.0,>=0.4.0 in /usr/local/lib/python3.6/dist-packages (from spacy) (0.4.1)\n",
            "Requirement already satisfied: preshed<3.1.0,>=3.0.2 in /usr/local/lib/python3.6/dist-packages (from spacy) (3.0.5)\n",
            "Requirement already satisfied: importlib-metadata>=0.20; python_version < \"3.8\" in /usr/local/lib/python3.6/dist-packages (from catalogue<1.1.0,>=0.0.7->spacy) (3.3.0)\n",
            "Requirement already satisfied: certifi>=2017.4.17 in /usr/local/lib/python3.6/dist-packages (from requests<3.0.0,>=2.13.0->spacy) (2020.12.5)\n",
            "Requirement already satisfied: urllib3!=1.25.0,!=1.25.1,<1.26,>=1.21.1 in /usr/local/lib/python3.6/dist-packages (from requests<3.0.0,>=2.13.0->spacy) (1.24.3)\n",
            "Requirement already satisfied: chardet<4,>=3.0.2 in /usr/local/lib/python3.6/dist-packages (from requests<3.0.0,>=2.13.0->spacy) (3.0.4)\n",
            "Requirement already satisfied: idna<3,>=2.5 in /usr/local/lib/python3.6/dist-packages (from requests<3.0.0,>=2.13.0->spacy) (2.10)\n",
            "Requirement already satisfied: zipp>=0.5 in /usr/local/lib/python3.6/dist-packages (from importlib-metadata>=0.20; python_version < \"3.8\"->catalogue<1.1.0,>=0.0.7->spacy) (3.4.0)\n",
            "Requirement already satisfied: typing-extensions>=3.6.4; python_version < \"3.8\" in /usr/local/lib/python3.6/dist-packages (from importlib-metadata>=0.20; python_version < \"3.8\"->catalogue<1.1.0,>=0.0.7->spacy) (3.7.4.3)\n"
          ],
          "name": "stdout"
        }
      ]
    },
    {
      "cell_type": "code",
      "metadata": {
        "colab": {
          "base_uri": "https://localhost:8080/"
        },
        "id": "Ik12vYeZMYUz",
        "outputId": "22cfd952-8762-4f55-fa8d-6caa93e4be1d"
      },
      "source": [
        "# install english spacy model\r\n",
        "\r\n",
        "!python -m spacy download en_core_web_sm"
      ],
      "execution_count": 2,
      "outputs": [
        {
          "output_type": "stream",
          "text": [
            "Requirement already satisfied: en_core_web_sm==2.2.5 from https://github.com/explosion/spacy-models/releases/download/en_core_web_sm-2.2.5/en_core_web_sm-2.2.5.tar.gz#egg=en_core_web_sm==2.2.5 in /usr/local/lib/python3.6/dist-packages (2.2.5)\n",
            "Requirement already satisfied: spacy>=2.2.2 in /usr/local/lib/python3.6/dist-packages (from en_core_web_sm==2.2.5) (2.2.4)\n",
            "Requirement already satisfied: setuptools in /usr/local/lib/python3.6/dist-packages (from spacy>=2.2.2->en_core_web_sm==2.2.5) (51.0.0)\n",
            "Requirement already satisfied: requests<3.0.0,>=2.13.0 in /usr/local/lib/python3.6/dist-packages (from spacy>=2.2.2->en_core_web_sm==2.2.5) (2.23.0)\n",
            "Requirement already satisfied: preshed<3.1.0,>=3.0.2 in /usr/local/lib/python3.6/dist-packages (from spacy>=2.2.2->en_core_web_sm==2.2.5) (3.0.5)\n",
            "Requirement already satisfied: thinc==7.4.0 in /usr/local/lib/python3.6/dist-packages (from spacy>=2.2.2->en_core_web_sm==2.2.5) (7.4.0)\n",
            "Requirement already satisfied: wasabi<1.1.0,>=0.4.0 in /usr/local/lib/python3.6/dist-packages (from spacy>=2.2.2->en_core_web_sm==2.2.5) (0.8.0)\n",
            "Requirement already satisfied: catalogue<1.1.0,>=0.0.7 in /usr/local/lib/python3.6/dist-packages (from spacy>=2.2.2->en_core_web_sm==2.2.5) (1.0.0)\n",
            "Requirement already satisfied: tqdm<5.0.0,>=4.38.0 in /usr/local/lib/python3.6/dist-packages (from spacy>=2.2.2->en_core_web_sm==2.2.5) (4.41.1)\n",
            "Requirement already satisfied: numpy>=1.15.0 in /usr/local/lib/python3.6/dist-packages (from spacy>=2.2.2->en_core_web_sm==2.2.5) (1.19.4)\n",
            "Requirement already satisfied: cymem<2.1.0,>=2.0.2 in /usr/local/lib/python3.6/dist-packages (from spacy>=2.2.2->en_core_web_sm==2.2.5) (2.0.5)\n",
            "Requirement already satisfied: srsly<1.1.0,>=1.0.2 in /usr/local/lib/python3.6/dist-packages (from spacy>=2.2.2->en_core_web_sm==2.2.5) (1.0.5)\n",
            "Requirement already satisfied: murmurhash<1.1.0,>=0.28.0 in /usr/local/lib/python3.6/dist-packages (from spacy>=2.2.2->en_core_web_sm==2.2.5) (1.0.5)\n",
            "Requirement already satisfied: blis<0.5.0,>=0.4.0 in /usr/local/lib/python3.6/dist-packages (from spacy>=2.2.2->en_core_web_sm==2.2.5) (0.4.1)\n",
            "Requirement already satisfied: plac<1.2.0,>=0.9.6 in /usr/local/lib/python3.6/dist-packages (from spacy>=2.2.2->en_core_web_sm==2.2.5) (1.1.3)\n",
            "Requirement already satisfied: chardet<4,>=3.0.2 in /usr/local/lib/python3.6/dist-packages (from requests<3.0.0,>=2.13.0->spacy>=2.2.2->en_core_web_sm==2.2.5) (3.0.4)\n",
            "Requirement already satisfied: urllib3!=1.25.0,!=1.25.1,<1.26,>=1.21.1 in /usr/local/lib/python3.6/dist-packages (from requests<3.0.0,>=2.13.0->spacy>=2.2.2->en_core_web_sm==2.2.5) (1.24.3)\n",
            "Requirement already satisfied: certifi>=2017.4.17 in /usr/local/lib/python3.6/dist-packages (from requests<3.0.0,>=2.13.0->spacy>=2.2.2->en_core_web_sm==2.2.5) (2020.12.5)\n",
            "Requirement already satisfied: idna<3,>=2.5 in /usr/local/lib/python3.6/dist-packages (from requests<3.0.0,>=2.13.0->spacy>=2.2.2->en_core_web_sm==2.2.5) (2.10)\n",
            "Requirement already satisfied: importlib-metadata>=0.20; python_version < \"3.8\" in /usr/local/lib/python3.6/dist-packages (from catalogue<1.1.0,>=0.0.7->spacy>=2.2.2->en_core_web_sm==2.2.5) (3.3.0)\n",
            "Requirement already satisfied: zipp>=0.5 in /usr/local/lib/python3.6/dist-packages (from importlib-metadata>=0.20; python_version < \"3.8\"->catalogue<1.1.0,>=0.0.7->spacy>=2.2.2->en_core_web_sm==2.2.5) (3.4.0)\n",
            "Requirement already satisfied: typing-extensions>=3.6.4; python_version < \"3.8\" in /usr/local/lib/python3.6/dist-packages (from importlib-metadata>=0.20; python_version < \"3.8\"->catalogue<1.1.0,>=0.0.7->spacy>=2.2.2->en_core_web_sm==2.2.5) (3.7.4.3)\n",
            "\u001b[38;5;2m✔ Download and installation successful\u001b[0m\n",
            "You can now load the model via spacy.load('en_core_web_sm')\n"
          ],
          "name": "stdout"
        }
      ]
    },
    {
      "cell_type": "code",
      "metadata": {
        "colab": {
          "base_uri": "https://localhost:8080/"
        },
        "id": "a4kY8iYYMYU0",
        "outputId": "eeade3f9-d401-4434-ff1a-93d5f2f74bf0"
      },
      "source": [
        "# install pyLDAvis\r\n",
        "\r\n",
        "!pip install pyLDAvis"
      ],
      "execution_count": 3,
      "outputs": [
        {
          "output_type": "stream",
          "text": [
            "Requirement already satisfied: pyLDAvis in /usr/local/lib/python3.6/dist-packages (2.1.2)\n",
            "Requirement already satisfied: numpy>=1.9.2 in /usr/local/lib/python3.6/dist-packages (from pyLDAvis) (1.19.4)\n",
            "Requirement already satisfied: jinja2>=2.7.2 in /usr/local/lib/python3.6/dist-packages (from pyLDAvis) (2.11.2)\n",
            "Requirement already satisfied: pandas>=0.17.0 in /usr/local/lib/python3.6/dist-packages (from pyLDAvis) (1.1.5)\n",
            "Requirement already satisfied: joblib>=0.8.4 in /usr/local/lib/python3.6/dist-packages (from pyLDAvis) (1.0.0)\n",
            "Requirement already satisfied: pytest in /usr/local/lib/python3.6/dist-packages (from pyLDAvis) (3.6.4)\n",
            "Requirement already satisfied: scipy>=0.18.0 in /usr/local/lib/python3.6/dist-packages (from pyLDAvis) (1.4.1)\n",
            "Requirement already satisfied: future in /usr/local/lib/python3.6/dist-packages (from pyLDAvis) (0.16.0)\n",
            "Requirement already satisfied: funcy in /usr/local/lib/python3.6/dist-packages (from pyLDAvis) (1.15)\n",
            "Requirement already satisfied: numexpr in /usr/local/lib/python3.6/dist-packages (from pyLDAvis) (2.7.1)\n",
            "Requirement already satisfied: wheel>=0.23.0 in /usr/local/lib/python3.6/dist-packages (from pyLDAvis) (0.36.2)\n",
            "Requirement already satisfied: MarkupSafe>=0.23 in /usr/local/lib/python3.6/dist-packages (from jinja2>=2.7.2->pyLDAvis) (1.1.1)\n",
            "Requirement already satisfied: pytz>=2017.2 in /usr/local/lib/python3.6/dist-packages (from pandas>=0.17.0->pyLDAvis) (2018.9)\n",
            "Requirement already satisfied: python-dateutil>=2.7.3 in /usr/local/lib/python3.6/dist-packages (from pandas>=0.17.0->pyLDAvis) (2.8.1)\n",
            "Requirement already satisfied: more-itertools>=4.0.0 in /usr/local/lib/python3.6/dist-packages (from pytest->pyLDAvis) (8.6.0)\n",
            "Requirement already satisfied: setuptools in /usr/local/lib/python3.6/dist-packages (from pytest->pyLDAvis) (51.0.0)\n",
            "Requirement already satisfied: pluggy<0.8,>=0.5 in /usr/local/lib/python3.6/dist-packages (from pytest->pyLDAvis) (0.7.1)\n",
            "Requirement already satisfied: py>=1.5.0 in /usr/local/lib/python3.6/dist-packages (from pytest->pyLDAvis) (1.10.0)\n",
            "Requirement already satisfied: atomicwrites>=1.0 in /usr/local/lib/python3.6/dist-packages (from pytest->pyLDAvis) (1.4.0)\n",
            "Requirement already satisfied: six>=1.10.0 in /usr/local/lib/python3.6/dist-packages (from pytest->pyLDAvis) (1.15.0)\n",
            "Requirement already satisfied: attrs>=17.4.0 in /usr/local/lib/python3.6/dist-packages (from pytest->pyLDAvis) (20.3.0)\n"
          ],
          "name": "stdout"
        }
      ]
    },
    {
      "cell_type": "code",
      "metadata": {
        "colab": {
          "base_uri": "https://localhost:8080/"
        },
        "id": "pZoablYGMYU0",
        "outputId": "6588c837-d31c-4980-f3f6-fdcc667b305a"
      },
      "source": [
        "# install gensim\r\n",
        "\r\n",
        "!pip install gensim"
      ],
      "execution_count": 4,
      "outputs": [
        {
          "output_type": "stream",
          "text": [
            "Requirement already satisfied: gensim in /usr/local/lib/python3.6/dist-packages (3.6.0)\n",
            "Requirement already satisfied: six>=1.5.0 in /usr/local/lib/python3.6/dist-packages (from gensim) (1.15.0)\n",
            "Requirement already satisfied: smart-open>=1.2.1 in /usr/local/lib/python3.6/dist-packages (from gensim) (4.0.1)\n",
            "Requirement already satisfied: numpy>=1.11.3 in /usr/local/lib/python3.6/dist-packages (from gensim) (1.19.4)\n",
            "Requirement already satisfied: scipy>=0.18.1 in /usr/local/lib/python3.6/dist-packages (from gensim) (1.4.1)\n"
          ],
          "name": "stdout"
        }
      ]
    },
    {
      "cell_type": "markdown",
      "metadata": {
        "id": "Tt4QnUubMYU1"
      },
      "source": [
        "## IMPORT LIBRARIES"
      ]
    },
    {
      "cell_type": "code",
      "metadata": {
        "colab": {
          "base_uri": "https://localhost:8080/"
        },
        "id": "97es3P7pPvzP",
        "outputId": "aec733a8-b009-45f4-b0c1-be76c84837e6"
      },
      "source": [
        "# integrate to google drive\n",
        "\n",
        "from google.colab import drive\n",
        "drive.mount('/content/drive')"
      ],
      "execution_count": 5,
      "outputs": [
        {
          "output_type": "stream",
          "text": [
            "Drive already mounted at /content/drive; to attempt to forcibly remount, call drive.mount(\"/content/drive\", force_remount=True).\n"
          ],
          "name": "stdout"
        }
      ]
    },
    {
      "cell_type": "code",
      "metadata": {
        "colab": {
          "base_uri": "https://localhost:8080/"
        },
        "id": "L7gq59I_MYU2",
        "outputId": "8a8d317d-c6a5-4f16-e571-edd2a2b642a9"
      },
      "source": [
        "# data wrangling\n",
        "\n",
        "import re\n",
        "import string\n",
        "import pandas as pd\n",
        "import numpy as np\n",
        "import spacy\n",
        "\n",
        "# data visualization\n",
        "\n",
        "import matplotlib.pyplot as plt\n",
        "import seaborn as sns\n",
        "import pyLDAvis\n",
        "import pyLDAvis.gensim\n",
        "\n",
        "# text modelling \n",
        "\n",
        "import nltk\n",
        "from nltk.corpus import stopwords\n",
        "import en_core_web_sm\n",
        "import gensim\n",
        "from gensim import corpora\n",
        "from gensim.models.coherencemodel import CoherenceModel\n",
        "\n",
        "# filter warning\n",
        "\n",
        "import warnings\n",
        "warnings.filterwarnings('ignore')"
      ],
      "execution_count": 6,
      "outputs": [
        {
          "output_type": "stream",
          "text": [
            "/usr/local/lib/python3.6/dist-packages/scipy/sparse/sparsetools.py:21: DeprecationWarning: `scipy.sparse.sparsetools` is deprecated!\n",
            "scipy.sparse.sparsetools is a private module for scipy.sparse, and should not be used.\n",
            "  _deprecated()\n"
          ],
          "name": "stderr"
        }
      ]
    },
    {
      "cell_type": "markdown",
      "metadata": {
        "id": "L1GKuSrKMYU2"
      },
      "source": [
        "## OVERVIEW"
      ]
    },
    {
      "cell_type": "code",
      "metadata": {
        "id": "nfgeLjXFMYU3"
      },
      "source": [
        "# load data\n",
        "\n",
        "df = pd.read_csv('/content/drive/MyDrive/Reviews.csv', error_bad_lines=False, engine=\"python\")"
      ],
      "execution_count": 7,
      "outputs": []
    },
    {
      "cell_type": "code",
      "metadata": {
        "colab": {
          "base_uri": "https://localhost:8080/",
          "height": 306
        },
        "id": "3C5nYrEvMYU3",
        "outputId": "7a6052c3-2cf1-42bf-c963-8480a1798d9a"
      },
      "source": [
        "# show top 5\n",
        "\n",
        "df.head()"
      ],
      "execution_count": 8,
      "outputs": [
        {
          "output_type": "execute_result",
          "data": {
            "text/html": [
              "<div>\n",
              "<style scoped>\n",
              "    .dataframe tbody tr th:only-of-type {\n",
              "        vertical-align: middle;\n",
              "    }\n",
              "\n",
              "    .dataframe tbody tr th {\n",
              "        vertical-align: top;\n",
              "    }\n",
              "\n",
              "    .dataframe thead th {\n",
              "        text-align: right;\n",
              "    }\n",
              "</style>\n",
              "<table border=\"1\" class=\"dataframe\">\n",
              "  <thead>\n",
              "    <tr style=\"text-align: right;\">\n",
              "      <th></th>\n",
              "      <th>Id</th>\n",
              "      <th>ProductId</th>\n",
              "      <th>UserId</th>\n",
              "      <th>ProfileName</th>\n",
              "      <th>HelpfulnessNumerator</th>\n",
              "      <th>HelpfulnessDenominator</th>\n",
              "      <th>Score</th>\n",
              "      <th>Time</th>\n",
              "      <th>Summary</th>\n",
              "      <th>Text</th>\n",
              "    </tr>\n",
              "  </thead>\n",
              "  <tbody>\n",
              "    <tr>\n",
              "      <th>0</th>\n",
              "      <td>1</td>\n",
              "      <td>B001E4KFG0</td>\n",
              "      <td>A3SGXH7AUHU8GW</td>\n",
              "      <td>delmartian</td>\n",
              "      <td>1</td>\n",
              "      <td>1</td>\n",
              "      <td>5</td>\n",
              "      <td>1303862400</td>\n",
              "      <td>Good Quality Dog Food</td>\n",
              "      <td>I have bought several of the Vitality canned d...</td>\n",
              "    </tr>\n",
              "    <tr>\n",
              "      <th>1</th>\n",
              "      <td>2</td>\n",
              "      <td>B00813GRG4</td>\n",
              "      <td>A1D87F6ZCVE5NK</td>\n",
              "      <td>dll pa</td>\n",
              "      <td>0</td>\n",
              "      <td>0</td>\n",
              "      <td>1</td>\n",
              "      <td>1346976000</td>\n",
              "      <td>Not as Advertised</td>\n",
              "      <td>Product arrived labeled as Jumbo Salted Peanut...</td>\n",
              "    </tr>\n",
              "    <tr>\n",
              "      <th>2</th>\n",
              "      <td>3</td>\n",
              "      <td>B000LQOCH0</td>\n",
              "      <td>ABXLMWJIXXAIN</td>\n",
              "      <td>Natalia Corres \"Natalia Corres\"</td>\n",
              "      <td>1</td>\n",
              "      <td>1</td>\n",
              "      <td>4</td>\n",
              "      <td>1219017600</td>\n",
              "      <td>\"Delight\" says it all</td>\n",
              "      <td>This is a confection that has been around a fe...</td>\n",
              "    </tr>\n",
              "    <tr>\n",
              "      <th>3</th>\n",
              "      <td>4</td>\n",
              "      <td>B000UA0QIQ</td>\n",
              "      <td>A395BORC6FGVXV</td>\n",
              "      <td>Karl</td>\n",
              "      <td>3</td>\n",
              "      <td>3</td>\n",
              "      <td>2</td>\n",
              "      <td>1307923200</td>\n",
              "      <td>Cough Medicine</td>\n",
              "      <td>If you are looking for the secret ingredient i...</td>\n",
              "    </tr>\n",
              "    <tr>\n",
              "      <th>4</th>\n",
              "      <td>5</td>\n",
              "      <td>B006K2ZZ7K</td>\n",
              "      <td>A1UQRSCLF8GW1T</td>\n",
              "      <td>Michael D. Bigham \"M. Wassir\"</td>\n",
              "      <td>0</td>\n",
              "      <td>0</td>\n",
              "      <td>5</td>\n",
              "      <td>1350777600</td>\n",
              "      <td>Great taffy</td>\n",
              "      <td>Great taffy at a great price.  There was a wid...</td>\n",
              "    </tr>\n",
              "  </tbody>\n",
              "</table>\n",
              "</div>"
            ],
            "text/plain": [
              "   Id  ...                                               Text\n",
              "0   1  ...  I have bought several of the Vitality canned d...\n",
              "1   2  ...  Product arrived labeled as Jumbo Salted Peanut...\n",
              "2   3  ...  This is a confection that has been around a fe...\n",
              "3   4  ...  If you are looking for the secret ingredient i...\n",
              "4   5  ...  Great taffy at a great price.  There was a wid...\n",
              "\n",
              "[5 rows x 10 columns]"
            ]
          },
          "metadata": {
            "tags": []
          },
          "execution_count": 8
        }
      ]
    },
    {
      "cell_type": "code",
      "metadata": {
        "colab": {
          "base_uri": "https://localhost:8080/"
        },
        "id": "AG0IflSTMYU4",
        "outputId": "8f012e07-ecec-404e-f6a5-4e662dcee10d"
      },
      "source": [
        "# check info\n",
        "\n",
        "df.info()"
      ],
      "execution_count": 9,
      "outputs": [
        {
          "output_type": "stream",
          "text": [
            "<class 'pandas.core.frame.DataFrame'>\n",
            "RangeIndex: 568454 entries, 0 to 568453\n",
            "Data columns (total 10 columns):\n",
            " #   Column                  Non-Null Count   Dtype \n",
            "---  ------                  --------------   ----- \n",
            " 0   Id                      568454 non-null  int64 \n",
            " 1   ProductId               568454 non-null  object\n",
            " 2   UserId                  568454 non-null  object\n",
            " 3   ProfileName             568438 non-null  object\n",
            " 4   HelpfulnessNumerator    568454 non-null  int64 \n",
            " 5   HelpfulnessDenominator  568454 non-null  int64 \n",
            " 6   Score                   568454 non-null  int64 \n",
            " 7   Time                    568454 non-null  int64 \n",
            " 8   Summary                 568427 non-null  object\n",
            " 9   Text                    568454 non-null  object\n",
            "dtypes: int64(5), object(5)\n",
            "memory usage: 43.4+ MB\n"
          ],
          "name": "stdout"
        }
      ]
    },
    {
      "cell_type": "code",
      "metadata": {
        "id": "VokVcJLqMYU4",
        "colab": {
          "base_uri": "https://localhost:8080/"
        },
        "outputId": "4a435a9d-c8fc-4882-da27-1f82974a095b"
      },
      "source": [
        "# check for null values\n",
        "\n",
        "df.isna().sum()"
      ],
      "execution_count": 10,
      "outputs": [
        {
          "output_type": "execute_result",
          "data": {
            "text/plain": [
              "Id                         0\n",
              "ProductId                  0\n",
              "UserId                     0\n",
              "ProfileName               16\n",
              "HelpfulnessNumerator       0\n",
              "HelpfulnessDenominator     0\n",
              "Score                      0\n",
              "Time                       0\n",
              "Summary                   27\n",
              "Text                       0\n",
              "dtype: int64"
            ]
          },
          "metadata": {
            "tags": []
          },
          "execution_count": 10
        }
      ]
    },
    {
      "cell_type": "markdown",
      "metadata": {
        "id": "lQm86DI2MYU5"
      },
      "source": [
        "> Since the null values are not more than 1% of the total data, I will drop the null values."
      ]
    },
    {
      "cell_type": "markdown",
      "metadata": {
        "id": "d-QHX866MYU5"
      },
      "source": [
        "## PREPROCESSING"
      ]
    },
    {
      "cell_type": "code",
      "metadata": {
        "id": "OyJjpUS3MYU7"
      },
      "source": [
        "# drop the null values\n",
        "\n",
        "df.dropna(axis = 0, how ='any',inplace=True) "
      ],
      "execution_count": 11,
      "outputs": []
    },
    {
      "cell_type": "code",
      "metadata": {
        "id": "Kub3YjyBMYU8",
        "colab": {
          "base_uri": "https://localhost:8080/"
        },
        "outputId": "e7b241d6-6fdd-45ef-9b33-d6b301042746"
      },
      "source": [
        "# check info after dropping null\n",
        "\n",
        "df.info()"
      ],
      "execution_count": 12,
      "outputs": [
        {
          "output_type": "stream",
          "text": [
            "<class 'pandas.core.frame.DataFrame'>\n",
            "Int64Index: 568411 entries, 0 to 568453\n",
            "Data columns (total 10 columns):\n",
            " #   Column                  Non-Null Count   Dtype \n",
            "---  ------                  --------------   ----- \n",
            " 0   Id                      568411 non-null  int64 \n",
            " 1   ProductId               568411 non-null  object\n",
            " 2   UserId                  568411 non-null  object\n",
            " 3   ProfileName             568411 non-null  object\n",
            " 4   HelpfulnessNumerator    568411 non-null  int64 \n",
            " 5   HelpfulnessDenominator  568411 non-null  int64 \n",
            " 6   Score                   568411 non-null  int64 \n",
            " 7   Time                    568411 non-null  int64 \n",
            " 8   Summary                 568411 non-null  object\n",
            " 9   Text                    568411 non-null  object\n",
            "dtypes: int64(5), object(5)\n",
            "memory usage: 47.7+ MB\n"
          ],
          "name": "stdout"
        }
      ]
    },
    {
      "cell_type": "code",
      "metadata": {
        "id": "RUCbSFYSMYU8",
        "colab": {
          "base_uri": "https://localhost:8080/"
        },
        "outputId": "18a897e5-7553-44f7-a2e8-9a69ce63fbc6"
      },
      "source": [
        "# check null values after dropping\n",
        "\n",
        "df.isna().sum()"
      ],
      "execution_count": 13,
      "outputs": [
        {
          "output_type": "execute_result",
          "data": {
            "text/plain": [
              "Id                        0\n",
              "ProductId                 0\n",
              "UserId                    0\n",
              "ProfileName               0\n",
              "HelpfulnessNumerator      0\n",
              "HelpfulnessDenominator    0\n",
              "Score                     0\n",
              "Time                      0\n",
              "Summary                   0\n",
              "Text                      0\n",
              "dtype: int64"
            ]
          },
          "metadata": {
            "tags": []
          },
          "execution_count": 13
        }
      ]
    },
    {
      "cell_type": "code",
      "metadata": {
        "id": "GlXI_SMVMYU6",
        "colab": {
          "base_uri": "https://localhost:8080/"
        },
        "outputId": "82e990a3-ce00-4aeb-a199-46c8470dddd8"
      },
      "source": [
        "# download the stopwords\n",
        "\n",
        "nltk.download('stopwords')"
      ],
      "execution_count": 14,
      "outputs": [
        {
          "output_type": "stream",
          "text": [
            "[nltk_data] Downloading package stopwords to /root/nltk_data...\n",
            "[nltk_data]   Package stopwords is already up-to-date!\n"
          ],
          "name": "stdout"
        },
        {
          "output_type": "execute_result",
          "data": {
            "text/plain": [
              "True"
            ]
          },
          "metadata": {
            "tags": []
          },
          "execution_count": 14
        }
      ]
    },
    {
      "cell_type": "code",
      "metadata": {
        "id": "3AFqjnVjMYU6"
      },
      "source": [
        "# create function for case folding\n",
        "\n",
        "def case_fold(text ): \n",
        "    delete_dict = {sp_character: '' for sp_character in string.punctuation} \n",
        "    delete_dict[' '] = ' ' \n",
        "    table = str.maketrans(delete_dict)\n",
        "    text = text.translate(table)\n",
        "    textArr= text.split()\n",
        "    text_clean = ' '.join([w for w in textArr if ( not w.isdigit() and  ( not w.isdigit() and len(w)>3))]) \n",
        "    \n",
        "    return text_clean.lower()"
      ],
      "execution_count": 15,
      "outputs": []
    },
    {
      "cell_type": "code",
      "metadata": {
        "id": "q4HoguJsMYU9"
      },
      "source": [
        "# apply casefolding and create number words feature\n",
        "\n",
        "df['Text'] = df['Text'].apply(case_fold)\n",
        "df['Num_words_text'] = df['Text'].apply(lambda x:len(str(x).split())) "
      ],
      "execution_count": 16,
      "outputs": []
    },
    {
      "cell_type": "markdown",
      "metadata": {
        "id": "vqR_EXTuvzbB"
      },
      "source": [
        "> Before going further, I will filter the data first so that the process might not take a long training time."
      ]
    },
    {
      "cell_type": "code",
      "metadata": {
        "id": "OrUFe9lsMYU9",
        "colab": {
          "base_uri": "https://localhost:8080/"
        },
        "outputId": "34cbcdd4-f39a-4a9d-b6c6-d4dfce0d5455"
      },
      "source": [
        "# filter the short reviews only\n",
        "\n",
        "max_review_data_sentence_length = df['Num_words_text'].max()\n",
        "\n",
        "mask = (df['Num_words_text'] >=20) & (df['Num_words_text'] < 100)\n",
        "df_short_reviews = df[mask]\n",
        "df_sampled = df_short_reviews.groupby('Score').apply(lambda x: x.sample(n=20000)).reset_index(drop = True)\n",
        "\n",
        "print('No of Short reviews')\n",
        "print(len(df_short_reviews))"
      ],
      "execution_count": 25,
      "outputs": [
        {
          "output_type": "stream",
          "text": [
            "No of Short reviews\n",
            "373281\n"
          ],
          "name": "stdout"
        }
      ]
    },
    {
      "cell_type": "code",
      "metadata": {
        "id": "itisirFUtqDg"
      },
      "source": [
        "# replace original dataframe\r\n",
        "\r\n",
        "df = df_short_reviews\r\n",
        "\r\n",
        "# further reduce the dataframe (take only 150000 data)\r\n",
        "\r\n",
        "df = df[:150000].reset_index(drop='index')"
      ],
      "execution_count": 33,
      "outputs": []
    },
    {
      "cell_type": "code",
      "metadata": {
        "colab": {
          "base_uri": "https://localhost:8080/",
          "height": 459
        },
        "id": "snrlbXyRu8R2",
        "outputId": "416aa778-d2f1-4a62-ceb7-cf038ab05e34"
      },
      "source": [
        "# show top 5 data\r\n",
        "\r\n",
        "df.head()"
      ],
      "execution_count": 34,
      "outputs": [
        {
          "output_type": "execute_result",
          "data": {
            "text/html": [
              "<div>\n",
              "<style scoped>\n",
              "    .dataframe tbody tr th:only-of-type {\n",
              "        vertical-align: middle;\n",
              "    }\n",
              "\n",
              "    .dataframe tbody tr th {\n",
              "        vertical-align: top;\n",
              "    }\n",
              "\n",
              "    .dataframe thead th {\n",
              "        text-align: right;\n",
              "    }\n",
              "</style>\n",
              "<table border=\"1\" class=\"dataframe\">\n",
              "  <thead>\n",
              "    <tr style=\"text-align: right;\">\n",
              "      <th></th>\n",
              "      <th>Id</th>\n",
              "      <th>ProductId</th>\n",
              "      <th>UserId</th>\n",
              "      <th>ProfileName</th>\n",
              "      <th>HelpfulnessNumerator</th>\n",
              "      <th>HelpfulnessDenominator</th>\n",
              "      <th>Score</th>\n",
              "      <th>Time</th>\n",
              "      <th>Summary</th>\n",
              "      <th>Text</th>\n",
              "      <th>Num_words_text</th>\n",
              "    </tr>\n",
              "  </thead>\n",
              "  <tbody>\n",
              "    <tr>\n",
              "      <th>0</th>\n",
              "      <td>1</td>\n",
              "      <td>B001E4KFG0</td>\n",
              "      <td>A3SGXH7AUHU8GW</td>\n",
              "      <td>delmartian</td>\n",
              "      <td>1</td>\n",
              "      <td>1</td>\n",
              "      <td>5</td>\n",
              "      <td>1303862400</td>\n",
              "      <td>Good Quality Dog Food</td>\n",
              "      <td>have bought several vitality canned food produ...</td>\n",
              "      <td>30</td>\n",
              "    </tr>\n",
              "    <tr>\n",
              "      <th>1</th>\n",
              "      <td>2</td>\n",
              "      <td>B00813GRG4</td>\n",
              "      <td>A1D87F6ZCVE5NK</td>\n",
              "      <td>dll pa</td>\n",
              "      <td>0</td>\n",
              "      <td>0</td>\n",
              "      <td>1</td>\n",
              "      <td>1346976000</td>\n",
              "      <td>Not as Advertised</td>\n",
              "      <td>product arrived labeled jumbo salted peanutsth...</td>\n",
              "      <td>20</td>\n",
              "    </tr>\n",
              "    <tr>\n",
              "      <th>2</th>\n",
              "      <td>3</td>\n",
              "      <td>B000LQOCH0</td>\n",
              "      <td>ABXLMWJIXXAIN</td>\n",
              "      <td>Natalia Corres \"Natalia Corres\"</td>\n",
              "      <td>1</td>\n",
              "      <td>1</td>\n",
              "      <td>4</td>\n",
              "      <td>1219017600</td>\n",
              "      <td>\"Delight\" says it all</td>\n",
              "      <td>this confection that been around centuries lig...</td>\n",
              "      <td>52</td>\n",
              "    </tr>\n",
              "    <tr>\n",
              "      <th>3</th>\n",
              "      <td>4</td>\n",
              "      <td>B000UA0QIQ</td>\n",
              "      <td>A395BORC6FGVXV</td>\n",
              "      <td>Karl</td>\n",
              "      <td>3</td>\n",
              "      <td>3</td>\n",
              "      <td>2</td>\n",
              "      <td>1307923200</td>\n",
              "      <td>Cough Medicine</td>\n",
              "      <td>looking secret ingredient robitussin believe h...</td>\n",
              "      <td>22</td>\n",
              "    </tr>\n",
              "    <tr>\n",
              "      <th>4</th>\n",
              "      <td>6</td>\n",
              "      <td>B006K2ZZ7K</td>\n",
              "      <td>ADT0SRK1MGOEU</td>\n",
              "      <td>Twoapennything</td>\n",
              "      <td>0</td>\n",
              "      <td>0</td>\n",
              "      <td>4</td>\n",
              "      <td>1342051200</td>\n",
              "      <td>Nice Taffy</td>\n",
              "      <td>wild hair taffy ordered this five pound taffy ...</td>\n",
              "      <td>43</td>\n",
              "    </tr>\n",
              "  </tbody>\n",
              "</table>\n",
              "</div>"
            ],
            "text/plain": [
              "   Id  ... Num_words_text\n",
              "0   1  ...             30\n",
              "1   2  ...             20\n",
              "2   3  ...             52\n",
              "3   4  ...             22\n",
              "4   6  ...             43\n",
              "\n",
              "[5 rows x 11 columns]"
            ]
          },
          "metadata": {
            "tags": []
          },
          "execution_count": 34
        }
      ]
    },
    {
      "cell_type": "code",
      "metadata": {
        "colab": {
          "base_uri": "https://localhost:8080/"
        },
        "id": "K3v-gnUUu_p2",
        "outputId": "26aad4e2-b359-4b15-b73a-50c48c63d08e"
      },
      "source": [
        "# show info\r\n",
        "\r\n",
        "df.info()"
      ],
      "execution_count": 35,
      "outputs": [
        {
          "output_type": "stream",
          "text": [
            "<class 'pandas.core.frame.DataFrame'>\n",
            "RangeIndex: 150000 entries, 0 to 149999\n",
            "Data columns (total 11 columns):\n",
            " #   Column                  Non-Null Count   Dtype \n",
            "---  ------                  --------------   ----- \n",
            " 0   Id                      150000 non-null  int64 \n",
            " 1   ProductId               150000 non-null  object\n",
            " 2   UserId                  150000 non-null  object\n",
            " 3   ProfileName             150000 non-null  object\n",
            " 4   HelpfulnessNumerator    150000 non-null  int64 \n",
            " 5   HelpfulnessDenominator  150000 non-null  int64 \n",
            " 6   Score                   150000 non-null  int64 \n",
            " 7   Time                    150000 non-null  int64 \n",
            " 8   Summary                 150000 non-null  object\n",
            " 9   Text                    150000 non-null  object\n",
            " 10  Num_words_text          150000 non-null  int64 \n",
            "dtypes: int64(6), object(5)\n",
            "memory usage: 12.6+ MB\n"
          ],
          "name": "stdout"
        }
      ]
    },
    {
      "cell_type": "markdown",
      "metadata": {
        "id": "j7bI0tIhwFiz"
      },
      "source": [
        "> Now that the data is properly filtered, I'll continue the process."
      ]
    },
    {
      "cell_type": "code",
      "metadata": {
        "id": "AArqQ5nLMYU-"
      },
      "source": [
        "# function to remove stopwords\n",
        "\n",
        "def remove_stopwords(text):\n",
        "    textArr = text.split(' ')\n",
        "    stop_clean = \" \".join([i for i in textArr if i not in stop_words])\n",
        "    return stop_clean"
      ],
      "execution_count": 36,
      "outputs": []
    },
    {
      "cell_type": "code",
      "metadata": {
        "id": "r8vQKS2nMYU_"
      },
      "source": [
        "# remove stopwords from the cleaned text\n",
        "\n",
        "stop_words = stopwords.words('english')\n",
        "\n",
        "df['Text'] = df['Text'].apply(remove_stopwords)"
      ],
      "execution_count": 37,
      "outputs": []
    },
    {
      "cell_type": "code",
      "metadata": {
        "id": "25R6bjqeMYU_"
      },
      "source": [
        "# load spacymodel for lemmatization\n",
        "\n",
        "nlp = en_core_web_sm.load(disable=['parser', 'ner'])"
      ],
      "execution_count": 38,
      "outputs": []
    },
    {
      "cell_type": "code",
      "metadata": {
        "id": "7U6IwxFLMYU_"
      },
      "source": [
        "# function to lemmatize text\n",
        "\n",
        "def lemmatization(texts,allowed_postags=['NOUN', 'ADJ']): \n",
        "    output = []\n",
        "    for sent in texts:\n",
        "        doc = nlp(sent) \n",
        "        output.append([token.lemma_ for token in doc if token.pos_ in allowed_postags ])\n",
        "    return output"
      ],
      "execution_count": 39,
      "outputs": []
    },
    {
      "cell_type": "code",
      "metadata": {
        "id": "bzvsH_kFMYVA"
      },
      "source": [
        "# apply lemmatization\n",
        "\n",
        "text_list = df['Text'].tolist()\n",
        "tokenized_reviews = lemmatization(text_list)"
      ],
      "execution_count": 40,
      "outputs": []
    },
    {
      "cell_type": "markdown",
      "metadata": {
        "id": "NCMN_MvpwvRE"
      },
      "source": [
        "> I'll show the difference between the before and after lemmatization process."
      ]
    },
    {
      "cell_type": "code",
      "metadata": {
        "id": "7r2r0_PKMYVA",
        "colab": {
          "base_uri": "https://localhost:8080/"
        },
        "outputId": "bf2c3922-f4b3-47a2-fdf4-74a43de000f8"
      },
      "source": [
        "# before lemma\r\n",
        "\r\n",
        "print(text_list[2])"
      ],
      "execution_count": 41,
      "outputs": [
        {
          "output_type": "stream",
          "text": [
            "confection around centuries light pillowy citrus gelatin nuts case filberts tiny squares liberally coated powdered sugar tiny mouthful heaven chewy flavorful highly recommend yummy treat familiar story lewis lion witch wardrobe treat seduces edmund selling brother sisters witch\n"
          ],
          "name": "stdout"
        }
      ]
    },
    {
      "cell_type": "code",
      "metadata": {
        "id": "dM8OTaV-MYVB",
        "colab": {
          "base_uri": "https://localhost:8080/"
        },
        "outputId": "7decb062-f40a-44d5-8115-f87db6fb78a8"
      },
      "source": [
        "# after lemma\r\n",
        "\r\n",
        "print(tokenized_reviews[2])"
      ],
      "execution_count": 42,
      "outputs": [
        {
          "output_type": "stream",
          "text": [
            "['confection', 'century', 'pillowy', 'case', 'tiny', 'square', 'powdered', 'sugar', 'tiny', 'chewy', 'yummy', 'treat', 'familiar', 'story', 'seduce', 'selling', 'brother', 'sister']\n"
          ],
          "name": "stdout"
        }
      ]
    },
    {
      "cell_type": "markdown",
      "metadata": {
        "id": "m6px1Kn0bKyq"
      },
      "source": [
        "## MODELLING"
      ]
    },
    {
      "cell_type": "markdown",
      "metadata": {
        "id": "uLTUzXtRMYVB"
      },
      "source": [
        "> Now, I'll create vocabulary dictionary and document term matrix."
      ]
    },
    {
      "cell_type": "code",
      "metadata": {
        "id": "mOLGRGLbMYVC"
      },
      "source": [
        "# create dict and document matrix\n",
        "\n",
        "dictionary = corpora.Dictionary(tokenized_reviews)\n",
        "doc_term_matrix = [dictionary.doc2bow(rev) for rev in tokenized_reviews]"
      ],
      "execution_count": 43,
      "outputs": []
    },
    {
      "cell_type": "markdown",
      "metadata": {
        "id": "W20DZgbXJvZO"
      },
      "source": [
        "> I'll start to build the model using LDA."
      ]
    },
    {
      "cell_type": "code",
      "metadata": {
        "id": "Q8fV3XxfMYVC"
      },
      "source": [
        "# Creating the object for LDA model using gensim library\n",
        "\n",
        "LDA = gensim.models.ldamodel.LdaModel"
      ],
      "execution_count": 44,
      "outputs": []
    },
    {
      "cell_type": "code",
      "metadata": {
        "id": "acrD-i1Fsa0h"
      },
      "source": [
        "# Build LDA model\r\n",
        "\r\n",
        "lda_model = LDA(corpus = doc_term_matrix, id2word = dictionary, num_topics = 6, \r\n",
        "                random_state = 100, chunksize = 100, passes = 20)"
      ],
      "execution_count": 45,
      "outputs": []
    },
    {
      "cell_type": "code",
      "metadata": {
        "id": "7c9SePeSMYVD",
        "colab": {
          "base_uri": "https://localhost:8080/"
        },
        "outputId": "bd44ef73-6a4c-4751-f08b-07c9e5ad55d9"
      },
      "source": [
        "# print topics\r\n",
        "\r\n",
        "lda_model.print_topics()"
      ],
      "execution_count": 46,
      "outputs": [
        {
          "output_type": "execute_result",
          "data": {
            "text/plain": [
              "[(0,\n",
              "  '0.036*\"sugar\" + 0.027*\"treat\" + 0.021*\"bottle\" + 0.017*\"amount\" + 0.015*\"small\" + 0.013*\"sweet\" + 0.013*\"syrup\" + 0.012*\"hard\" + 0.012*\"money\" + 0.012*\"candy\"'),\n",
              " (1,\n",
              "  '0.038*\"chocolate\" + 0.037*\"flavor\" + 0.034*\"good\" + 0.026*\"taste\" + 0.022*\"snack\" + 0.021*\"great\" + 0.019*\"milk\" + 0.018*\"sweet\" + 0.017*\"chip\" + 0.016*\"little\"'),\n",
              " (2,\n",
              "  '0.070*\"product\" + 0.030*\"great\" + 0.021*\"good\" + 0.019*\"free\" + 0.017*\"time\" + 0.016*\"price\" + 0.016*\"whole\" + 0.012*\"kid\" + 0.011*\"year\" + 0.011*\"family\"'),\n",
              " (3,\n",
              "  '0.058*\"water\" + 0.050*\"taste\" + 0.048*\"flavor\" + 0.019*\"good\" + 0.015*\"star\" + 0.014*\"review\" + 0.011*\"coconut\" + 0.010*\"soup\" + 0.009*\"tea\" + 0.009*\"green\"'),\n",
              " (4,\n",
              "  '0.065*\"food\" + 0.034*\"cereal\" + 0.020*\"product\" + 0.015*\"salt\" + 0.015*\"package\" + 0.014*\"healthy\" + 0.013*\"small\" + 0.013*\"dog\" + 0.012*\"month\" + 0.012*\"year\"'),\n",
              " (5,\n",
              "  '0.081*\"coffee\" + 0.043*\"store\" + 0.032*\"good\" + 0.023*\"flavor\" + 0.021*\"price\" + 0.018*\"great\" + 0.017*\"local\" + 0.015*\"taste\" + 0.014*\"favorite\" + 0.014*\"grocery\"')]"
            ]
          },
          "metadata": {
            "tags": []
          },
          "execution_count": 46
        }
      ]
    },
    {
      "cell_type": "markdown",
      "metadata": {
        "id": "BURTvXmY1Abd"
      },
      "source": [
        "## VISUALIZATION"
      ]
    },
    {
      "cell_type": "markdown",
      "metadata": {
        "id": "iOsdqllOxHxT"
      },
      "source": [
        "> Now, I'll visualize the topics, but before that I'll measure the perplexity. **Perplexity** is a measure of how good the model is, the lower the better."
      ]
    },
    {
      "cell_type": "code",
      "metadata": {
        "id": "hlI6xyXBMYVD"
      },
      "source": [
        "# visualize topics\n",
        "\n",
        "pyLDAvis.enable_notebook()\n",
        "vis = pyLDAvis.gensim.prepare(lda_model, doc_term_matrix, dictionary)"
      ],
      "execution_count": 47,
      "outputs": []
    },
    {
      "cell_type": "code",
      "metadata": {
        "id": "xY8-hY46MYVE",
        "colab": {
          "base_uri": "https://localhost:8080/"
        },
        "outputId": "470d4b6d-e5a7-4752-9a24-c13bd299ac3d"
      },
      "source": [
        "# print perplexity\n",
        "\n",
        "print('\\nPerplexity: ', lda_model.log_perplexity(doc_term_matrix,total_docs=10000)) "
      ],
      "execution_count": 48,
      "outputs": [
        {
          "output_type": "stream",
          "text": [
            "\n",
            "Perplexity:  -8.911059853716743\n"
          ],
          "name": "stdout"
        }
      ]
    },
    {
      "cell_type": "code",
      "metadata": {
        "id": "_oaq2CE8fYOO",
        "colab": {
          "base_uri": "https://localhost:8080/",
          "height": 861
        },
        "outputId": "7cb7c298-928e-41f0-f6fd-e7685f8c4d83"
      },
      "source": [
        "# show visualization\r\n",
        "\r\n",
        "vis"
      ],
      "execution_count": 49,
      "outputs": [
        {
          "output_type": "execute_result",
          "data": {
            "text/html": [
              "\n",
              "<link rel=\"stylesheet\" type=\"text/css\" href=\"https://cdn.rawgit.com/bmabey/pyLDAvis/files/ldavis.v1.0.0.css\">\n",
              "\n",
              "\n",
              "<div id=\"ldavis_el47451406650814728486690443715\"></div>\n",
              "<script type=\"text/javascript\">\n",
              "\n",
              "var ldavis_el47451406650814728486690443715_data = {\"mdsDat\": {\"x\": [0.11224968156692389, -0.19183475013018716, -0.24173335130311363, 0.028784437627148853, 0.2882364854931606, 0.00429749674606717], \"y\": [-0.04433635586385063, -0.0791372694218428, -0.023222058860097674, -0.17419428435817735, -0.04290718131565925, 0.36379714981962785], \"topics\": [1, 2, 3, 4, 5, 6], \"cluster\": [1, 1, 1, 1, 1, 1], \"Freq\": [20.974004001577033, 17.966542943288356, 17.296923661245796, 16.277868555399966, 14.040099736849315, 13.444561101639534]}, \"tinfo\": {\"Term\": [\"coffee\", \"food\", \"product\", \"water\", \"flavor\", \"store\", \"taste\", \"chocolate\", \"cereal\", \"sugar\", \"treat\", \"snack\", \"price\", \"sweet\", \"free\", \"bottle\", \"chip\", \"milk\", \"local\", \"whole\", \"cookie\", \"great\", \"small\", \"salt\", \"amount\", \"package\", \"star\", \"grocery\", \"review\", \"dog\", \"chocolate\", \"snack\", \"chip\", \"cookie\", \"texture\", \"one\", \"day\", \"sauce\", \"bar\", \"able\", \"vanilla\", \"chicken\", \"protein\", \"kind\", \"couple\", \"amazon\", \"fine\", \"difference\", \"soda\", \"plain\", \"rice\", \"can\", \"bite\", \"stick\", \"spicy\", \"cocoa\", \"ginger\", \"beef\", \"option\", \"night\", \"milk\", \"butter\", \"tasty\", \"sweet\", \"calorie\", \"flavor\", \"delicious\", \"breakfast\", \"good\", \"taste\", \"little\", \"great\", \"nice\", \"case\", \"love\", \"different\", \"thing\", \"free\", \"whole\", \"kid\", \"family\", \"shipping\", \"company\", \"week\", \"cost\", \"wheat\", \"packaging\", \"cup\", \"alternative\", \"idea\", \"cold\", \"energy\", \"powder\", \"ounce\", \"reviewer\", \"noodle\", \"condition\", \"hair\", \"terrible\", \"special\", \"particular\", \"plant\", \"consistency\", \"big\", \"normal\", \"jar\", \"seasoning\", \"product\", \"organic\", \"cheap\", \"great\", \"price\", \"time\", \"last\", \"work\", \"people\", \"happy\", \"year\", \"fruit\", \"good\", \"many\", \"wonderful\", \"healthy\", \"high\", \"well\", \"drink\", \"love\", \"item\", \"month\", \"thing\", \"food\", \"cereal\", \"salt\", \"package\", \"dog\", \"cat\", \"peanut\", \"container\", \"baby\", \"cracker\", \"blue\", \"plastic\", \"almond\", \"chew\", \"date\", \"bread\", \"seed\", \"service\", \"grain\", \"customer\", \"child\", \"animal\", \"thick\", \"picture\", \"disappointed\", \"experience\", \"formula\", \"crunchy\", \"coat\", \"salad\", \"health\", \"large\", \"month\", \"piece\", \"healthy\", \"problem\", \"small\", \"ingredient\", \"size\", \"year\", \"product\", \"order\", \"time\", \"diet\", \"good\", \"love\", \"brand\", \"little\", \"great\", \"coffee\", \"store\", \"local\", \"grocery\", \"less\", \"kcup\", \"half\", \"bean\", \"rich\", \"bitter\", \"thank\", \"meat\", \"huge\", \"buying\", \"machine\", \"potato\", \"stock\", \"convenient\", \"wife\", \"sale\", \"fiber\", \"roast\", \"lunch\", \"weak\", \"fast\", \"instant\", \"flavorful\", \"restaurant\", \"maker\", \"shop\", \"blend\", \"deal\", \"price\", \"favorite\", \"strong\", \"morning\", \"good\", \"box\", \"flavor\", \"great\", \"drink\", \"brand\", \"bag\", \"love\", \"taste\", \"pack\", \"available\", \"year\", \"wonderful\", \"time\", \"water\", \"star\", \"coconut\", \"soup\", \"tea\", \"green\", \"amazing\", \"bold\", \"juice\", \"cube\", \"hour\", \"lemon\", \"caffeine\", \"course\", \"house\", \"shipment\", \"italian\", \"need\", \"true\", \"loose\", \"dish\", \"decent\", \"double\", \"drinker\", \"subscribe\", \"leave\", \"beverage\", \"aroma\", \"stale\", \"guess\", \"dinner\", \"artificial\", \"review\", \"taste\", \"flavor\", \"spice\", \"enough\", \"strong\", \"good\", \"light\", \"stuff\", \"brand\", \"order\", \"first\", \"little\", \"favorite\", \"fresh\", \"time\", \"sugar\", \"treat\", \"bottle\", \"amount\", \"syrup\", \"hard\", \"money\", \"candy\", \"dark\", \"peach\", \"corn\", \"black\", \"smell\", \"tooth\", \"mouth\", \"color\", \"glass\", \"pound\", \"bowl\", \"biscuit\", \"bad\", \"content\", \"change\", \"apple\", \"cinnamon\", \"sweetness\", \"honey\", \"sour\", \"supermarket\", \"world\", \"small\", \"sweet\", \"bag\", \"natural\", \"stuff\", \"much\", \"little\", \"drink\", \"work\", \"review\", \"time\", \"full\", \"good\"], \"Freq\": [36112.0, 30726.0, 43914.0, 22340.0, 50330.0, 19376.0, 41209.0, 21894.0, 15982.0, 13431.0, 9958.0, 12672.0, 18713.0, 15380.0, 9528.0, 7848.0, 9951.0, 11331.0, 7795.0, 7979.0, 8475.0, 39021.0, 12375.0, 7053.0, 6164.0, 6968.0, 5720.0, 6045.0, 8142.0, 5973.0, 21893.25636817731, 12671.776325609235, 9950.619306760014, 8474.410068782261, 5329.746076310574, 4618.109871847279, 4537.186390762805, 4448.0973191525645, 4338.377763422864, 4322.282943432349, 4124.380590399021, 3683.611747279302, 3622.1136040190545, 3597.727098498598, 3507.4436120828404, 2946.8965879215525, 2714.6078589620984, 2693.4882871987797, 2608.770687924814, 2571.209937340361, 2553.0629882286885, 2458.6422442397334, 2394.2109165525503, 2362.259783930486, 2288.2873570230427, 2141.9070202652924, 2120.6743654290794, 1878.4932151047506, 1884.101894061789, 1802.5063534337799, 10682.950115993828, 5891.404882806556, 5447.51934678574, 10656.253389024516, 3897.1509539794665, 21454.621750075086, 4488.76510429737, 3509.0375065930775, 19772.520833256844, 15248.131207407234, 9239.602309253398, 12049.687963941587, 5451.268929292906, 3952.91070140072, 5662.70181284884, 4038.4650885853794, 3711.217699714899, 9528.138294762488, 7978.849921671092, 5854.501496457689, 5407.077976422306, 5368.178138172038, 4991.617941259807, 4560.667283771112, 3172.7023294673645, 3012.81182312117, 3013.854275540487, 3018.779265696121, 2889.845643341724, 2775.199778242379, 2754.446104140441, 2718.2440941420164, 2371.4172325706904, 2307.4898031898183, 2256.0559454296053, 1686.4271715319628, 1662.3457392660687, 1630.3551359219598, 1621.6811320281618, 1610.6819490443202, 1597.4683590308655, 1566.0651693516097, 1499.184814235332, 1498.3063366399092, 1429.8802286637717, 1420.3949688087328, 1370.3143917079437, 34440.11648800567, 3501.075760822321, 3657.5686444685202, 14767.669622885975, 8066.460969134031, 8243.748664224113, 3402.129652022182, 3586.939505431631, 3546.524250238468, 3197.843680286585, 5499.054178482358, 2961.2318013974027, 10196.293300791378, 4036.158819824276, 3279.499235687317, 3923.375855807599, 3486.869129163393, 3810.805702844777, 3406.278088667042, 3617.673006762146, 3055.4887128510386, 3071.364969030764, 3073.0327550111388, 30725.898139617457, 15981.830337853178, 7052.3240685059245, 6967.196852469951, 5972.410797657593, 5436.524317206496, 4769.623805064155, 4419.466133659147, 3537.3755368809802, 3427.7384476330863, 2938.695698485146, 2772.08905098816, 2632.8176669513055, 2418.6606087108507, 2392.3088111593565, 2227.931279304557, 2078.2776370533516, 2066.80261435694, 2037.321426071641, 1984.9804632800715, 1908.6090807353023, 1774.884267421422, 1783.069602184747, 1767.8016534879387, 1759.2768072652652, 1747.8794440815493, 1670.666639523159, 1622.8595762591008, 1500.7777160408796, 1492.8240323026037, 3248.456263149416, 5154.688874295366, 5685.2577800224635, 4004.0594264421447, 6624.589190213725, 4818.1775944118235, 6081.798314454432, 4521.95677772167, 4012.22318911861, 5474.50623522762, 9473.320657658483, 4067.717659130833, 5133.401760234223, 2917.9986639691842, 5380.934708759917, 3686.4764912042274, 3386.7961755382703, 3405.369852950702, 3140.4559974767967, 36111.22324544841, 19375.629199059495, 7795.03449517816, 6044.909696888801, 4627.788034112468, 4467.201495276997, 3717.6739664720803, 3624.0071264907847, 3375.4297434635, 3323.2976169119297, 2935.9946075192224, 2729.3662897786357, 2605.5448372434084, 2496.363122931163, 2387.546829477705, 2363.7313839014255, 2346.4468731722804, 2297.5006751451, 2274.948690407066, 2277.125807500787, 2247.0763445387, 2191.3262391596154, 2205.9401584729167, 2173.5884399919637, 2020.0027818032186, 1777.6346383371279, 1669.6478814656691, 1584.6600471518382, 1559.8318340216315, 1538.5002092000375, 4257.678128179955, 2795.430841358145, 9495.357115297618, 6227.927871028472, 4682.8772586905325, 3459.334745198343, 14196.897281347023, 3343.919221717305, 10337.237634728304, 8132.306912337098, 4517.79239949424, 4889.824981329911, 3633.994047328889, 5404.814367463435, 6638.089568820178, 3384.0832425468043, 2815.600407027094, 3488.867205315775, 2960.8954883871593, 3186.8942348986748, 22339.557175522797, 5719.623028764109, 4167.517945255696, 3682.1490661221883, 3531.851102707957, 3485.687856625657, 3142.330170934198, 2424.4743097734977, 2401.2166858097016, 2408.9034363098826, 2233.927988427324, 1946.0199321938665, 1945.937499108668, 1934.4035121136649, 1800.9114816988015, 1794.963368884475, 1774.7435567641064, 1716.6962973620712, 1692.384284197402, 1687.089889095761, 1679.2842481764046, 1601.8497687737843, 1579.2979444283546, 1539.3631554871674, 1509.200009608405, 1464.2479372223554, 1445.0813469498016, 1416.9711261187617, 1396.9219271376933, 1355.8034421953216, 1356.2231505179993, 3077.772673322038, 5545.389658241116, 19322.90710833687, 18537.977475148506, 2067.530610003205, 3033.851822668472, 3230.376248822933, 7204.6150094264285, 2443.028398875965, 3124.3694563709378, 3215.199222321933, 2810.1489030163257, 2609.850514220552, 2894.854734823127, 2225.4030784312354, 2065.788919240121, 2242.312995649187, 13431.079250880077, 9958.113019703836, 7847.3916783035065, 6163.687688637562, 4681.826966987547, 4591.350234292334, 4535.585622459408, 4419.845075119452, 4166.610175439869, 4090.3994564681757, 3941.0453645330917, 3810.7285605788916, 3422.8238258752403, 3230.9778082604457, 2909.94898980755, 2449.1791376821893, 2332.631167741372, 2323.8956978775173, 2105.747136649033, 1966.2104092704606, 1923.7860697637293, 1838.8230273786855, 1818.9803804968783, 1801.2482107519786, 1732.7160033257378, 1625.8758498697068, 1395.0532474451109, 1398.381307545619, 1393.8291294317055, 1308.499436357623, 5489.59145413956, 4723.477934942398, 3099.068515853852, 2970.4480732489396, 2897.4175158821763, 2953.005337420387, 3560.270713116288, 2953.4837718560843, 2436.173184746, 2596.799721669096, 3207.8045216532073, 2282.0442070786607, 2296.9441206332303], \"Total\": [36112.0, 30726.0, 43914.0, 22340.0, 50330.0, 19376.0, 41209.0, 21894.0, 15982.0, 13431.0, 9958.0, 12672.0, 18713.0, 15380.0, 9528.0, 7848.0, 9951.0, 11331.0, 7795.0, 7979.0, 8475.0, 39021.0, 12375.0, 7053.0, 6164.0, 6968.0, 5720.0, 6045.0, 8142.0, 5973.0, 21894.092412173457, 12672.612124451394, 9951.456595703832, 8475.244833859102, 5330.5821660296415, 4618.9491876930815, 4538.029002593602, 4448.93377003939, 4339.212847911568, 4323.124948658484, 4125.218384152629, 3684.4494436459267, 3622.950915999535, 3598.5662320819556, 3508.2843008880022, 2947.7419500453393, 2715.4508822206676, 2694.331336521046, 2609.621896939776, 2572.0496950328657, 2553.898653656835, 2459.4804418906306, 2395.0475483467985, 2363.097617278388, 2289.1227335380963, 2142.745467362272, 2121.5106964406077, 1879.3299329418794, 1884.944550178229, 1803.3487250829698, 11331.680250214658, 6643.149243912471, 6654.63321926381, 15380.404766799718, 4549.831070036866, 50330.33831757037, 6001.952176537671, 4245.187680252089, 59048.20525421483, 41209.62977033639, 21029.445971868503, 39021.739762376776, 9508.36391148599, 6432.8494299123, 21409.20614929021, 8571.626598285333, 11258.479923351162, 9528.966102136957, 7979.67915945966, 5855.330643419126, 5407.90579924519, 5369.004367827898, 4992.445400162249, 4561.494566602391, 3173.52979899361, 3013.6390406568657, 3014.682877909871, 3019.610457428941, 2890.6757582396704, 2776.032592682271, 2755.2759207503677, 2719.0709198037002, 2372.245555099996, 2308.3188457304555, 2256.8857067789427, 1687.2534313963124, 1663.1727361194653, 1631.178584003414, 1622.5112605593713, 1611.5118541102324, 1598.2974546717085, 1566.8928218060041, 1500.0148781813557, 1499.1385305610356, 1430.7119817422144, 1421.2271486050688, 1371.1449623411766, 43914.09752963937, 4982.12357558933, 5298.847722261335, 39021.739762376776, 18713.47789318285, 22451.80909527679, 5455.3712019348095, 6023.777951788099, 6177.542405308543, 5349.159207056059, 14462.912135426319, 4732.006565364845, 59048.20525421483, 10108.933782840892, 6241.048740782366, 11024.645659947939, 7679.956080049275, 12181.260914935358, 10878.043772221017, 21409.20614929021, 5543.217347086004, 8757.282582853168, 11258.479923351162, 30726.72318240604, 15982.666951294943, 7053.152821240564, 6968.027154978348, 5973.234005221807, 5437.3483783218135, 4770.456107873658, 4420.297986877644, 3538.1998697303566, 3428.565062629699, 2939.5286030127386, 2772.920130322677, 2633.6549197273316, 2419.4874337313067, 2393.137800647916, 2228.757200629141, 2079.1039219257623, 2067.6301061173563, 2038.148617833125, 1985.8093557252269, 1909.4381907707163, 1775.7114406019832, 1783.9012187275223, 1768.635026195356, 1760.1107485321963, 1748.7143982221535, 1671.4923171022608, 1623.6914857179074, 1501.6012375903372, 1493.6549624056215, 3872.9091487649043, 7234.075478543956, 8757.282582853168, 5457.262860213981, 11024.645659947939, 7101.635378156149, 12375.875672163873, 8368.777714284748, 7601.048414304248, 14462.912135426319, 43914.09752963937, 9550.912676427302, 22451.80909527679, 5488.571355541423, 59048.20525421483, 21409.20614929021, 13708.571381036627, 21029.445971868503, 39021.739762376776, 36112.04001082501, 19376.449903719174, 7795.854856126346, 6045.728778833302, 4628.614375088661, 4468.01960472083, 3718.498132338148, 3624.8245187929506, 3376.252399810907, 3324.1180693969545, 2936.8163659119327, 2730.193345227899, 2606.3715408899143, 2497.1863557867587, 2388.365355256447, 2364.557497576138, 2347.2710367958734, 2298.3247897841384, 2275.7706733649447, 2277.950335281292, 2247.9054378224705, 2192.14276814911, 2206.7656010762116, 2174.4069011926345, 2020.8259395033351, 1778.4548700056312, 1670.4684843521554, 1585.4813944729617, 1560.6498391534496, 1539.3195771610208, 5063.732519328656, 3404.158116543102, 18713.47789318285, 10649.524329610455, 7913.91305882395, 4983.776070909701, 59048.20525421483, 4860.985077371587, 50330.33831757037, 39021.739762376776, 10878.043772221017, 13708.571381036627, 7398.665377230262, 21409.20614929021, 41209.62977033639, 7246.451021079515, 4304.498117800236, 14462.912135426319, 6241.048740782366, 22451.80909527679, 22340.390633917475, 5720.459479704244, 4168.35005526854, 3682.9849297726896, 3532.6817602535193, 3486.51909438154, 3143.169034738768, 2425.312237896922, 2402.048600991857, 2409.7688409351463, 2234.7655270820733, 1946.8520217771254, 1946.7706389529087, 1935.2439331595388, 1801.750631217679, 1795.802388135275, 1775.5844137747902, 1717.5373041609103, 1693.220957666509, 1687.9242189239487, 1680.1201263229063, 1602.6888415958374, 1580.1418886263455, 1540.1982018391209, 1510.036379248769, 1465.0828650444882, 1445.9144725065614, 1417.8062062143701, 1397.7586324487243, 1356.6402416843478, 1357.0613217689724, 3658.8610875918384, 8142.862183917805, 41209.62977033639, 50330.33831757037, 2713.556702766754, 6481.039498205945, 7913.91305882395, 59048.20525421483, 4546.99519272312, 9054.847622017964, 13708.571381036627, 9550.912676427302, 8520.271173938969, 21029.445971868503, 10649.524329610455, 7245.999381372501, 22451.80909527679, 13431.911383571287, 9958.942675653288, 7848.2234061081335, 6164.5222782577885, 4682.657241568263, 4592.182703271985, 4536.418840885588, 4420.675467013148, 4167.4456983715745, 4091.2363822715843, 3941.879479110034, 3811.5619542082823, 3423.6560371317523, 3231.809252359522, 2910.7825790511424, 2450.01185417482, 2333.462770967775, 2324.7283516139337, 2106.5852958982114, 1967.042833509641, 1924.620683511582, 1839.6573438057915, 1819.8147634048462, 1802.0790467129984, 1733.5472764939182, 1626.7066678376996, 1395.8835400769415, 1399.2162079342238, 1394.6632745757809, 1309.3367125281513, 12375.875672163873, 15380.404766799718, 7398.665377230262, 6897.2552232574635, 9054.847622017964, 10612.163690021524, 21029.445971868503, 10878.043772221017, 6023.777951788099, 8142.862183917805, 22451.80909527679, 4707.496496401512, 59048.20525421483], \"Category\": [\"Default\", \"Default\", \"Default\", \"Default\", \"Default\", \"Default\", \"Default\", \"Default\", \"Default\", \"Default\", \"Default\", \"Default\", \"Default\", \"Default\", \"Default\", \"Default\", \"Default\", \"Default\", \"Default\", \"Default\", \"Default\", \"Default\", \"Default\", \"Default\", \"Default\", \"Default\", \"Default\", \"Default\", \"Default\", \"Default\", \"Topic1\", \"Topic1\", \"Topic1\", \"Topic1\", \"Topic1\", \"Topic1\", \"Topic1\", \"Topic1\", \"Topic1\", \"Topic1\", \"Topic1\", \"Topic1\", \"Topic1\", \"Topic1\", \"Topic1\", \"Topic1\", \"Topic1\", \"Topic1\", \"Topic1\", \"Topic1\", \"Topic1\", \"Topic1\", \"Topic1\", \"Topic1\", \"Topic1\", \"Topic1\", \"Topic1\", \"Topic1\", \"Topic1\", \"Topic1\", \"Topic1\", \"Topic1\", \"Topic1\", \"Topic1\", \"Topic1\", \"Topic1\", \"Topic1\", \"Topic1\", \"Topic1\", \"Topic1\", \"Topic1\", \"Topic1\", \"Topic1\", \"Topic1\", \"Topic1\", \"Topic1\", \"Topic1\", \"Topic2\", \"Topic2\", \"Topic2\", \"Topic2\", \"Topic2\", \"Topic2\", \"Topic2\", \"Topic2\", \"Topic2\", \"Topic2\", \"Topic2\", \"Topic2\", \"Topic2\", \"Topic2\", \"Topic2\", \"Topic2\", \"Topic2\", \"Topic2\", \"Topic2\", \"Topic2\", \"Topic2\", \"Topic2\", \"Topic2\", \"Topic2\", \"Topic2\", \"Topic2\", \"Topic2\", \"Topic2\", \"Topic2\", \"Topic2\", \"Topic2\", \"Topic2\", \"Topic2\", \"Topic2\", \"Topic2\", \"Topic2\", \"Topic2\", \"Topic2\", \"Topic2\", \"Topic2\", \"Topic2\", \"Topic2\", \"Topic2\", \"Topic2\", \"Topic2\", \"Topic2\", \"Topic2\", \"Topic2\", \"Topic2\", \"Topic2\", \"Topic2\", \"Topic2\", \"Topic2\", \"Topic3\", \"Topic3\", \"Topic3\", \"Topic3\", \"Topic3\", \"Topic3\", \"Topic3\", \"Topic3\", \"Topic3\", \"Topic3\", \"Topic3\", \"Topic3\", \"Topic3\", \"Topic3\", \"Topic3\", \"Topic3\", \"Topic3\", \"Topic3\", \"Topic3\", \"Topic3\", \"Topic3\", \"Topic3\", \"Topic3\", \"Topic3\", \"Topic3\", \"Topic3\", \"Topic3\", \"Topic3\", \"Topic3\", \"Topic3\", \"Topic3\", \"Topic3\", \"Topic3\", \"Topic3\", \"Topic3\", \"Topic3\", \"Topic3\", \"Topic3\", \"Topic3\", \"Topic3\", \"Topic3\", \"Topic3\", \"Topic3\", \"Topic3\", \"Topic3\", \"Topic3\", \"Topic3\", \"Topic3\", \"Topic3\", \"Topic4\", \"Topic4\", \"Topic4\", \"Topic4\", \"Topic4\", \"Topic4\", \"Topic4\", \"Topic4\", \"Topic4\", \"Topic4\", \"Topic4\", \"Topic4\", \"Topic4\", \"Topic4\", \"Topic4\", \"Topic4\", \"Topic4\", \"Topic4\", \"Topic4\", \"Topic4\", \"Topic4\", \"Topic4\", \"Topic4\", \"Topic4\", \"Topic4\", \"Topic4\", \"Topic4\", \"Topic4\", \"Topic4\", \"Topic4\", \"Topic4\", \"Topic4\", \"Topic4\", \"Topic4\", \"Topic4\", \"Topic4\", \"Topic4\", \"Topic4\", \"Topic4\", \"Topic4\", \"Topic4\", \"Topic4\", \"Topic4\", \"Topic4\", \"Topic4\", \"Topic4\", \"Topic4\", \"Topic4\", \"Topic4\", \"Topic4\", \"Topic5\", \"Topic5\", \"Topic5\", \"Topic5\", \"Topic5\", \"Topic5\", \"Topic5\", \"Topic5\", \"Topic5\", \"Topic5\", \"Topic5\", \"Topic5\", \"Topic5\", \"Topic5\", \"Topic5\", \"Topic5\", \"Topic5\", \"Topic5\", \"Topic5\", \"Topic5\", \"Topic5\", \"Topic5\", \"Topic5\", \"Topic5\", \"Topic5\", \"Topic5\", \"Topic5\", \"Topic5\", \"Topic5\", \"Topic5\", \"Topic5\", \"Topic5\", \"Topic5\", \"Topic5\", \"Topic5\", \"Topic5\", \"Topic5\", \"Topic5\", \"Topic5\", \"Topic5\", \"Topic5\", \"Topic5\", \"Topic5\", \"Topic5\", \"Topic5\", \"Topic5\", \"Topic5\", \"Topic5\", \"Topic6\", \"Topic6\", \"Topic6\", \"Topic6\", \"Topic6\", \"Topic6\", \"Topic6\", \"Topic6\", \"Topic6\", \"Topic6\", \"Topic6\", \"Topic6\", \"Topic6\", \"Topic6\", \"Topic6\", \"Topic6\", \"Topic6\", \"Topic6\", \"Topic6\", \"Topic6\", \"Topic6\", \"Topic6\", \"Topic6\", \"Topic6\", \"Topic6\", \"Topic6\", \"Topic6\", \"Topic6\", \"Topic6\", \"Topic6\", \"Topic6\", \"Topic6\", \"Topic6\", \"Topic6\", \"Topic6\", \"Topic6\", \"Topic6\", \"Topic6\", \"Topic6\", \"Topic6\", \"Topic6\", \"Topic6\", \"Topic6\"], \"logprob\": [30.0, 29.0, 28.0, 27.0, 26.0, 25.0, 24.0, 23.0, 22.0, 21.0, 20.0, 19.0, 18.0, 17.0, 16.0, 15.0, 14.0, 13.0, 12.0, 11.0, 10.0, 9.0, 8.0, 7.0, 6.0, 5.0, 4.0, 3.0, 2.0, 1.0, -3.27020001411438, -3.816999912261963, -4.058700084686279, -4.219299793243408, -4.68310022354126, -4.826399803161621, -4.843999862670898, -4.863900184631348, -4.888899803161621, -4.892600059509277, -4.9394001960754395, -5.052499771118164, -5.069300174713135, -5.076099872589111, -5.101500034332275, -5.275599956512451, -5.357699871063232, -5.365499973297119, -5.397500038146973, -5.4120001792907715, -5.419099807739258, -5.456699848175049, -5.48330020904541, -5.496699810028076, -5.528600215911865, -5.594699859619141, -5.604599952697754, -5.725900173187256, -5.722899913787842, -5.767199993133545, -3.9876999855041504, -4.582900047302246, -4.661200046539307, -3.9902000427246094, -4.996099948883057, -3.2904000282287598, -4.854800224304199, -5.10099983215332, -3.3721001148223877, -3.6319000720977783, -4.132900238037109, -3.867300033569336, -4.6605000495910645, -4.981900215148926, -4.622499942779541, -4.9604997634887695, -5.045000076293945, -3.9472999572753906, -4.124800205230713, -4.4344000816345215, -4.513899803161621, -4.521100044250488, -4.593800067901611, -4.684100151062012, -5.046999931335449, -5.098700046539307, -5.098400115966797, -5.096700191497803, -5.140399932861328, -5.1809000968933105, -5.188399791717529, -5.201600074768066, -5.338099956512451, -5.3653998374938965, -5.388000011444092, -5.678999900817871, -5.693399906158447, -5.712800025939941, -5.718100070953369, -5.724899768829346, -5.7332000732421875, -5.752999782562256, -5.7967000007629395, -5.7972002029418945, -5.843999862670898, -5.850599765777588, -5.886499881744385, -2.662400007247925, -4.948500156402588, -4.904799938201904, -3.5090999603271484, -4.113900184631348, -4.092100143432617, -4.977200031280518, -4.924300193786621, -4.9355998039245605, -5.039100170135498, -4.497000217437744, -5.116000175476074, -3.8796000480651855, -4.806300163269043, -5.013899803161621, -4.83459997177124, -4.952600002288818, -4.863699913024902, -4.97599983215332, -4.915800094604492, -5.08459997177124, -5.079500198364258, -5.07889986038208, -2.7385001182556152, -3.3921000957489014, -4.21019983291626, -4.222400188446045, -4.376399993896484, -4.4704999923706055, -4.60129976272583, -4.677599906921387, -4.900199890136719, -4.931700229644775, -5.085599899291992, -5.144000053405762, -5.195499897003174, -5.280399799346924, -5.291299819946289, -5.362500190734863, -5.43209981918335, -5.437600135803223, -5.452000141143799, -5.478000164031982, -5.517199993133545, -5.589900016784668, -5.585299968719482, -5.593900203704834, -5.598700046539307, -5.605199813842773, -5.650400161743164, -5.6793999671936035, -5.757599830627441, -5.762899875640869, -4.985400199890137, -4.52370023727417, -4.4257001876831055, -4.776299953460693, -4.272799968719482, -4.59119987487793, -4.35830020904541, -4.654699802398682, -4.7743000984191895, -4.463500022888184, -3.91510009765625, -4.760499954223633, -4.5278000831604, -5.092700004577637, -4.4807000160217285, -4.85890007019043, -4.943699836730957, -4.938199996948242, -5.019199848175049, -2.5162999629974365, -3.1389000415802, -4.0493998527526855, -4.303699970245361, -4.570799827575684, -4.606100082397461, -4.78980016708374, -4.815299987792969, -4.88640022277832, -4.901899814605713, -5.0258002281188965, -5.098800182342529, -5.145199775695801, -5.188000202178955, -5.232600212097168, -5.242599964141846, -5.25, -5.271100044250488, -5.280900001525879, -5.28000020980835, -5.2932000160217285, -5.318399906158447, -5.311699867248535, -5.326499938964844, -5.399799823760986, -5.527599811553955, -5.5903000831604, -5.642499923706055, -5.658299922943115, -5.672100067138672, -4.654200077056885, -5.074900150299072, -3.852099895477295, -4.273799896240234, -4.559000015258789, -4.861800193786621, -3.449899911880493, -4.895699977874756, -3.7671000957489014, -4.006999969482422, -4.594900131225586, -4.515699863433838, -4.8125, -4.415599822998047, -4.210100173950195, -4.883800029754639, -5.067699909210205, -4.853300094604492, -5.017399787902832, -4.94379997253418, -2.848599910736084, -4.211100101470947, -4.527699947357178, -4.651500225067139, -4.69320011138916, -4.706299781799316, -4.809999942779541, -5.069399833679199, -5.078999996185303, -5.075799942016602, -5.151199817657471, -5.2891998291015625, -5.2891998291015625, -5.295199871063232, -5.366700172424316, -5.369999885559082, -5.38129997253418, -5.414599895477295, -5.428800106048584, -5.432000160217285, -5.436600208282471, -5.483799934387207, -5.498000144958496, -5.523600101470947, -5.543399810791016, -5.573599815368652, -5.5868000984191895, -5.606500148773193, -5.620699882507324, -5.650599956512451, -5.650300025939941, -4.8308000564575195, -4.242000102996826, -2.9937000274658203, -3.0352001190185547, -5.228600025177002, -4.845200061798096, -4.782400131225586, -3.980299949645996, -5.061800003051758, -4.815800189971924, -4.787099838256836, -4.921800136566162, -4.995699882507324, -4.892099857330322, -5.155099868774414, -5.229499816894531, -5.147500038146973, -3.3141000270843506, -3.613300085067749, -3.8515000343322754, -4.0929999351501465, -4.368000030517578, -4.387499809265137, -4.399700164794922, -4.42549991607666, -4.484499931335449, -4.502999782562256, -4.540200233459473, -4.573800086975098, -4.68120002746582, -4.738900184631348, -4.843500137329102, -5.015900135040283, -5.064599990844727, -5.068399906158447, -5.166999816894531, -5.235499858856201, -5.257400035858154, -5.302499771118164, -5.313399791717529, -5.323200225830078, -5.361999988555908, -5.425600051879883, -5.578700065612793, -5.576300144195557, -5.579599857330322, -5.6427998542785645, -4.208799839019775, -4.359099864959717, -4.7804999351501465, -4.82289981842041, -4.847799777984619, -4.828800201416016, -4.6417999267578125, -4.828700065612793, -5.021200180053711, -4.957399845123291, -4.746099948883057, -5.086599826812744, -5.080100059509277], \"loglift\": [30.0, 29.0, 28.0, 27.0, 26.0, 25.0, 24.0, 23.0, 22.0, 21.0, 20.0, 19.0, 18.0, 17.0, 16.0, 15.0, 14.0, 13.0, 12.0, 11.0, 10.0, 9.0, 8.0, 7.0, 6.0, 5.0, 4.0, 3.0, 2.0, 1.0, 1.5618, 1.5618, 1.5618, 1.5618, 1.5617, 1.5617, 1.5617, 1.5617, 1.5617, 1.5617, 1.5617, 1.5617, 1.5617, 1.5617, 1.5616, 1.5616, 1.5616, 1.5616, 1.5616, 1.5616, 1.5616, 1.5615, 1.5615, 1.5615, 1.5615, 1.5615, 1.5615, 1.5614, 1.5614, 1.5614, 1.5029, 1.4418, 1.3617, 1.1949, 1.407, 0.7092, 1.2714, 1.3714, 0.4678, 0.5677, 0.7395, 0.3868, 1.0056, 1.0749, 0.232, 0.8093, 0.4521, 1.7166, 1.7166, 1.7165, 1.7165, 1.7165, 1.7165, 1.7165, 1.7164, 1.7164, 1.7164, 1.7164, 1.7164, 1.7164, 1.7164, 1.7164, 1.7163, 1.7163, 1.7163, 1.7162, 1.7162, 1.7162, 1.7161, 1.7161, 1.7161, 1.7161, 1.7161, 1.7161, 1.7161, 1.7161, 1.7161, 1.4736, 1.3639, 1.346, 0.745, 0.8751, 0.7147, 1.2445, 1.1982, 1.1617, 1.2022, 0.7496, 1.2479, -0.0397, 0.7985, 1.0732, 0.6835, 0.927, 0.5546, 0.5555, -0.0613, 1.121, 0.6689, 0.4182, 1.7546, 1.7546, 1.7545, 1.7545, 1.7545, 1.7545, 1.7545, 1.7545, 1.7544, 1.7544, 1.7544, 1.7543, 1.7543, 1.7543, 1.7543, 1.7543, 1.7542, 1.7542, 1.7542, 1.7542, 1.7542, 1.7542, 1.7542, 1.7542, 1.7542, 1.7542, 1.7541, 1.7541, 1.7541, 1.7541, 1.5788, 1.4157, 1.3226, 1.445, 1.2453, 1.3667, 1.0442, 1.1391, 1.1157, 0.7832, 0.2209, 0.9011, 0.279, 1.1229, -0.6409, -0.0045, 0.3565, -0.0659, -0.7651, 1.8153, 1.8153, 1.8153, 1.8152, 1.8152, 1.8152, 1.8151, 1.8151, 1.8151, 1.8151, 1.8151, 1.8151, 1.815, 1.815, 1.815, 1.815, 1.815, 1.815, 1.815, 1.815, 1.815, 1.815, 1.815, 1.815, 1.815, 1.8149, 1.8149, 1.8148, 1.8148, 1.8148, 1.642, 1.6184, 1.1369, 1.2789, 1.2907, 1.4503, 0.39, 1.4413, 0.2325, 0.2471, 0.9366, 0.7845, 1.1044, 0.4388, -0.0105, 1.0539, 1.3909, 0.3934, 1.0697, -0.137, 1.9632, 1.9631, 1.9631, 1.963, 1.963, 1.963, 1.963, 1.9629, 1.9629, 1.9629, 1.9629, 1.9628, 1.9628, 1.9628, 1.9628, 1.9628, 1.9628, 1.9628, 1.9628, 1.9628, 1.9628, 1.9627, 1.9627, 1.9627, 1.9627, 1.9627, 1.9627, 1.9627, 1.9627, 1.9626, 1.9626, 1.7903, 1.5791, 1.2059, 0.9645, 1.6913, 1.2042, 1.0672, -0.1404, 1.342, 0.8992, 0.5131, 0.7399, 0.7801, -0.0197, 0.3977, 0.7083, -0.3406, 2.0065, 2.0065, 2.0065, 2.0065, 2.0064, 2.0064, 2.0064, 2.0064, 2.0064, 2.0064, 2.0064, 2.0064, 2.0064, 2.0063, 2.0063, 2.0063, 2.0062, 2.0062, 2.0062, 2.0062, 2.0062, 2.0061, 2.0061, 2.0061, 2.0061, 2.0061, 2.006, 2.006, 2.006, 2.006, 1.1937, 0.826, 1.1364, 1.1642, 0.8671, 0.7274, 0.2305, 0.7028, 1.1013, 0.8637, 0.0608, 1.2825, -1.2402]}, \"token.table\": {\"Topic\": [1, 3, 2, 5, 1, 6, 3, 6, 5, 2, 5, 2, 4, 3, 6, 4, 5, 6, 1, 4, 1, 5, 2, 6, 1, 4, 6, 4, 5, 3, 5, 6, 6, 3, 4, 1, 2, 3, 4, 5, 3, 1, 5, 1, 3, 4, 5, 1, 6, 1, 6, 1, 4, 3, 3, 6, 2, 5, 6, 3, 1, 3, 1, 1, 6, 3, 1, 5, 4, 2, 6, 2, 2, 2, 3, 6, 4, 1, 6, 2, 1, 5, 3, 3, 5, 2, 3, 6, 3, 1, 4, 6, 5, 1, 2, 1, 3, 1, 1, 2, 3, 6, 5, 3, 5, 3, 5, 2, 4, 6, 5, 2, 2, 3, 5, 3, 2, 4, 3, 4, 5, 6, 4, 1, 1, 2, 3, 5, 6, 1, 4, 5, 4, 3, 3, 2, 1, 2, 3, 4, 5, 2, 3, 5, 2, 6, 1, 6, 1, 2, 3, 4, 5, 6, 3, 1, 2, 3, 4, 6, 5, 4, 5, 2, 4, 2, 4, 6, 6, 3, 6, 2, 3, 6, 1, 2, 6, 6, 5, 5, 4, 2, 1, 3, 6, 4, 5, 2, 3, 4, 2, 5, 4, 2, 1, 3, 4, 2, 3, 5, 5, 4, 1, 4, 5, 6, 1, 3, 4, 5, 6, 4, 5, 1, 2, 3, 4, 5, 6, 4, 4, 4, 1, 2, 3, 4, 4, 1, 4, 6, 2, 3, 2, 4, 6, 1, 2, 3, 4, 6, 1, 2, 3, 6, 5, 1, 2, 6, 1, 2, 2, 1, 1, 1, 3, 5, 2, 5, 2, 1, 3, 4, 3, 2, 2, 6, 3, 1, 2, 3, 1, 3, 1, 2, 3, 4, 6, 2, 2, 3, 4, 2, 3, 2, 3, 1, 4, 5, 6, 2, 1, 4, 4, 3, 4, 3, 1, 2, 3, 3, 5, 2, 4, 1, 3, 4, 6, 1, 3, 6, 6, 1, 1, 5, 6, 2, 1, 5, 1, 5, 5, 1, 4, 4, 4, 5, 1, 5, 6, 5, 6, 6, 1, 6, 6, 6, 1, 4, 5, 1, 5, 5, 2, 1, 4, 3, 1, 2, 3, 4, 5, 6, 1, 2, 3, 4, 5, 6, 6, 6, 5, 1, 5, 4, 2, 1, 2, 3, 4, 5, 6, 2, 2, 4, 2, 4, 2, 6, 6, 2, 3, 4], \"Freq\": [0.9997397834502024, 0.9997513266744151, 0.999766228281486, 0.9996280713108816, 0.9997482988477577, 0.9999152767669232, 0.9995993489788284, 0.9994012212089327, 0.9994313706550045, 0.1585192731057576, 0.841245383826762, 0.3456848996743028, 0.6541993800287881, 0.9996608813027716, 0.9996775034598249, 0.4911696657053588, 0.08988107531482213, 0.4188593269182463, 0.9997204912609549, 0.9997725355286371, 0.9992923366362831, 0.9993675473038346, 0.9992405434602435, 0.9994698470760902, 0.9995626189770129, 0.9996636493128064, 0.9998525658994833, 0.8408816981834816, 0.15897364185948865, 0.9998201742237864, 0.9994589406360066, 0.9998441168090116, 0.9997221589368581, 0.31187094300230306, 0.6879264072557397, 0.031148395272659748, 0.13057524013597413, 0.24707169739695214, 0.3567111308742533, 0.23452480281405408, 0.9996602588074971, 0.8265830074659096, 0.17313722156951938, 0.8867782107105734, 0.1130487924365372, 0.9995249230062428, 0.9996041449683445, 0.8565153167254678, 0.14330202373749165, 0.9998046571615502, 0.9998472027593548, 0.6145021802653776, 0.38536577406472833, 0.99993592863698, 0.9999582703376743, 0.9995522822315598, 0.6903387664137125, 0.16324303798465317, 0.14644693349837093, 0.9997985384323509, 0.9998780160637835, 0.9997705132468627, 0.9999541177013193, 0.9999501047061969, 0.9996843025273444, 0.9995996023609424, 0.9996520970998998, 0.999916020664316, 0.9999712004410524, 0.999536917250008, 0.9995870002942655, 0.9999107851710838, 0.9992948801444391, 0.9993234212566037, 0.9997063576072254, 0.9996426813895507, 0.9998586841226349, 0.9998531211919532, 0.9997768883816223, 0.999833056871318, 0.9996339233716957, 0.9993572215170271, 0.9998351897603293, 0.9995741273979757, 0.9996809482627189, 0.9997978357018074, 0.999592430299065, 0.9998930523865617, 0.9995245569863934, 0.9997732490045758, 0.8210546937926321, 0.1786050997588266, 0.9995701962988951, 0.7479233202736975, 0.25208464771087197, 0.4682457115921892, 0.5316501892708202, 0.9995058749816698, 0.47108911636535367, 0.32747576761702524, 0.08388139541027471, 0.11736395519156657, 0.9992179264474291, 0.9993689325895415, 0.9993333058122708, 0.999793410869099, 0.9992773505755624, 0.3131077674735797, 0.4153320297843902, 0.2714642505430067, 0.9992220469822065, 0.999606144953447, 0.19965932939587852, 0.33219979612776385, 0.46813478005185116, 0.9995914723279686, 0.9998325046184576, 0.9995912861730496, 0.09662403391472786, 0.5848148524984694, 0.20892951939773516, 0.10958235916276717, 0.9995972082244938, 0.9998339567754219, 0.171003946970202, 0.3098492930688629, 0.17288182147364964, 0.30632827837489857, 0.03990483319826264, 0.42628364356752274, 0.20538308196492577, 0.3683265525264384, 0.9997195491225702, 0.9999764640569792, 0.9997054625395382, 0.9998986141700367, 0.1469776553856499, 0.14601160506856115, 0.14283743974098373, 0.27905053445050154, 0.2851228507293453, 0.625738776795569, 0.11305986004242803, 0.2611999757241889, 0.5151358055929962, 0.484758725098234, 0.9997592769899937, 0.999801680586666, 0.3348619981737483, 0.17267247930913557, 0.09112893400965658, 0.24043067759433087, 0.12201894992372712, 0.03890042026020835, 0.999436440589722, 0.3088022234113235, 0.3784557041774627, 0.08046796527066855, 0.20839665400671228, 0.0238584954353479, 0.9998511138566898, 0.9998794555859247, 0.9995280681903164, 0.9992774647638388, 0.9998660393738493, 0.5978509661446473, 0.194610023688736, 0.20750924716090008, 0.9997424529143534, 0.8386460604261291, 0.16111919387497062, 0.3558391009565132, 0.6009263430631915, 0.04317599083744591, 0.30937676924641416, 0.4540390548662652, 0.2365898946636088, 0.9993670388312675, 0.9996574463527398, 0.9995833878425386, 0.9998574489921773, 0.9996280329398894, 0.36229902424396454, 0.5403417505379973, 0.09738578652995748, 0.9997442330343588, 0.999670861170972, 0.551123978857869, 0.3436632339522882, 0.1049931769869983, 0.9991365570195635, 0.9995634555473092, 0.9997717994075601, 0.9999435312129644, 0.999842650643218, 0.7125996978175816, 0.28738986843118375, 0.623605594206576, 0.3763263624062612, 0.9992608847797456, 0.999562359250937, 0.9998672658729213, 0.16934260261200312, 0.1977129866859621, 0.5372778937417191, 0.0956675742028849, 0.43938390066768884, 0.16191582053825548, 0.09172852211991037, 0.13766411173516876, 0.16928643791958575, 0.9998903447867973, 0.9994524523591836, 0.26451237661550325, 0.1689927209244024, 0.17216892463442432, 0.2524614860686553, 0.05338824765522165, 0.08851332397781717, 0.9996530664263399, 0.9998470270657532, 0.9995836098930416, 0.21931096272122988, 0.39925080989755696, 0.1560995485674789, 0.22534522917409186, 0.9995629081618029, 0.9427551575855336, 0.05718481158058839, 0.999907671469439, 0.3506795596630676, 0.6491739813365481, 0.30579223029212477, 0.6940520502496453, 0.9997311447935773, 0.24528456929547424, 0.16038199651974536, 0.16726089531289542, 0.14869729172042195, 0.2782655909064677, 0.3056288236067949, 0.059878891911577935, 0.20384920587815636, 0.43060607500577835, 0.9996871659441641, 0.5732847470651872, 0.22285642616604873, 0.20382055399235605, 0.9998066236007936, 0.9992571172931175, 0.999502358440203, 0.9997945013780167, 0.9994988976316891, 0.27986854142193723, 0.4259278812212648, 0.2942127203126239, 0.7027123970095163, 0.2970620815692899, 0.9994286553034496, 0.40129989032435226, 0.1316506517776589, 0.4669872176264127, 0.9998525902733294, 0.9997734826721328, 0.9991882270300086, 0.9996977974000862, 0.9999043890430298, 0.42573564492895494, 0.5741765523053244, 0.9996409512500032, 0.2662506896255731, 0.7337011433315862, 0.9995918838446657, 0.999430195994532, 0.999668172799997, 0.9997642275238774, 0.9996866938825657, 0.9994749468083866, 0.4310262392720901, 0.0615064717830617, 0.5073883141443709, 0.3214752487887871, 0.6784352819379659, 0.7842584030505254, 0.2157166043001634, 0.9997375299799576, 0.9996963733067825, 0.680964490710822, 0.31892962711920736, 0.9996075535520995, 0.9996481247775638, 0.999629056224891, 0.9994786981187019, 0.9995615035452587, 0.9995828112375528, 0.9998365523518656, 0.9997901137468761, 0.99916495894116, 0.9994690395635732, 0.9996952520107479, 0.9995531868425077, 0.9998129322013749, 0.999792390634302, 0.08406735034044512, 0.5278219242032328, 0.14537468251360228, 0.2427296735181866, 0.0649650999491193, 0.4914399725006761, 0.44360497353316536, 0.9998083811210481, 0.9999516970577665, 0.9997616907872726, 0.9997325729560478, 0.9991307934203968, 0.9996823764535601, 0.23769541994178905, 0.7620994239373949, 0.9995095354558114, 0.999457250750514, 0.9999196778325458, 0.9995355175891327, 0.9994585044607339, 0.9999767809004534, 0.5917426644937035, 0.40814196163029304, 0.3349587013065677, 0.34500856672658015, 0.3199391222173184, 0.9993136726617907, 0.99993214788683, 0.9995244195585614, 0.692829620648355, 0.3070790445122167, 0.9995655837332745, 0.9998596434600362, 0.37001060395295887, 0.16107885552464196, 0.46889525840654667, 0.8186777273057135, 0.181227118048952, 0.9998070133966808, 0.9996848955247343, 0.9998907875328605, 0.9997220235076976, 0.9994948045788291, 0.3296182100305594, 0.2729498139110507, 0.1613894604218611, 0.006928111124328654, 0.062441822056449284, 0.16671877667134466, 0.01950845021625195, 0.3671864465360299, 0.22862300219182938, 0.14194847223560494, 0.09985832279643123, 0.1428838088898088, 0.9997495977341698, 0.9999053438016474, 0.9992789141541268, 0.999704649781134, 0.9999825144544751, 0.9998128679630242, 0.9998915779477164, 0.2331449937598739, 0.31285759549960546, 0.07938422850908383, 0.23109266106832574, 0.11566947049565576, 0.027829631297393402, 0.999787950498303, 0.999914888876346, 0.9996613571947452, 0.5253924678673397, 0.4744394929415044, 0.5954734767298709, 0.4043973764466032, 0.9989790918444726, 0.3802138842101116, 0.3785544673668596, 0.24123772358775764], \"Term\": [\"able\", \"almond\", \"alternative\", \"amazing\", \"amazon\", \"amount\", \"animal\", \"apple\", \"aroma\", \"artificial\", \"artificial\", \"available\", \"available\", \"baby\", \"bad\", \"bag\", \"bag\", \"bag\", \"bar\", \"bean\", \"beef\", \"beverage\", \"big\", \"biscuit\", \"bite\", \"bitter\", \"black\", \"blend\", \"blend\", \"blue\", \"bold\", \"bottle\", \"bowl\", \"box\", \"box\", \"brand\", \"brand\", \"brand\", \"brand\", \"brand\", \"bread\", \"breakfast\", \"breakfast\", \"butter\", \"butter\", \"buying\", \"caffeine\", \"calorie\", \"calorie\", \"can\", \"candy\", \"case\", \"case\", \"cat\", \"cereal\", \"change\", \"cheap\", \"cheap\", \"cheap\", \"chew\", \"chicken\", \"child\", \"chip\", \"chocolate\", \"cinnamon\", \"coat\", \"cocoa\", \"coconut\", \"coffee\", \"cold\", \"color\", \"company\", \"condition\", \"consistency\", \"container\", \"content\", \"convenient\", \"cookie\", \"corn\", \"cost\", \"couple\", \"course\", \"cracker\", \"crunchy\", \"cube\", \"cup\", \"customer\", \"dark\", \"date\", \"day\", \"deal\", \"deal\", \"decent\", \"delicious\", \"delicious\", \"diet\", \"diet\", \"difference\", \"different\", \"different\", \"different\", \"different\", \"dinner\", \"disappointed\", \"dish\", \"dog\", \"double\", \"drink\", \"drink\", \"drink\", \"drinker\", \"energy\", \"enough\", \"enough\", \"enough\", \"experience\", \"family\", \"fast\", \"favorite\", \"favorite\", \"favorite\", \"favorite\", \"fiber\", \"fine\", \"first\", \"first\", \"first\", \"first\", \"first\", \"flavor\", \"flavor\", \"flavor\", \"flavorful\", \"food\", \"formula\", \"free\", \"fresh\", \"fresh\", \"fresh\", \"fresh\", \"fresh\", \"fruit\", \"fruit\", \"fruit\", \"full\", \"full\", \"ginger\", \"glass\", \"good\", \"good\", \"good\", \"good\", \"good\", \"good\", \"grain\", \"great\", \"great\", \"great\", \"great\", \"great\", \"green\", \"grocery\", \"guess\", \"hair\", \"half\", \"happy\", \"happy\", \"happy\", \"hard\", \"health\", \"health\", \"healthy\", \"healthy\", \"healthy\", \"high\", \"high\", \"high\", \"honey\", \"hour\", \"house\", \"huge\", \"idea\", \"ingredient\", \"ingredient\", \"ingredient\", \"instant\", \"italian\", \"item\", \"item\", \"item\", \"jar\", \"juice\", \"kcup\", \"kid\", \"kind\", \"large\", \"large\", \"last\", \"last\", \"leave\", \"lemon\", \"less\", \"light\", \"light\", \"light\", \"light\", \"little\", \"little\", \"little\", \"little\", \"little\", \"local\", \"loose\", \"love\", \"love\", \"love\", \"love\", \"love\", \"love\", \"lunch\", \"machine\", \"maker\", \"many\", \"many\", \"many\", \"many\", \"meat\", \"milk\", \"milk\", \"money\", \"month\", \"month\", \"morning\", \"morning\", \"mouth\", \"much\", \"much\", \"much\", \"much\", \"much\", \"natural\", \"natural\", \"natural\", \"natural\", \"need\", \"nice\", \"nice\", \"nice\", \"night\", \"noodle\", \"normal\", \"one\", \"option\", \"order\", \"order\", \"order\", \"organic\", \"organic\", \"ounce\", \"pack\", \"pack\", \"pack\", \"package\", \"packaging\", \"particular\", \"peach\", \"peanut\", \"people\", \"people\", \"picture\", \"piece\", \"piece\", \"plain\", \"plant\", \"plastic\", \"potato\", \"pound\", \"powder\", \"price\", \"price\", \"price\", \"problem\", \"problem\", \"product\", \"product\", \"protein\", \"restaurant\", \"review\", \"review\", \"reviewer\", \"rice\", \"rich\", \"roast\", \"salad\", \"sale\", \"salt\", \"sauce\", \"seasoning\", \"seed\", \"service\", \"shipment\", \"shipping\", \"shop\", \"size\", \"size\", \"size\", \"size\", \"small\", \"small\", \"small\", \"smell\", \"snack\", \"soda\", \"soup\", \"sour\", \"special\", \"spice\", \"spice\", \"spicy\", \"stale\", \"star\", \"stick\", \"stock\", \"store\", \"strong\", \"strong\", \"stuff\", \"stuff\", \"stuff\", \"subscribe\", \"sugar\", \"supermarket\", \"sweet\", \"sweet\", \"sweetness\", \"syrup\", \"taste\", \"taste\", \"taste\", \"tasty\", \"tasty\", \"tea\", \"terrible\", \"texture\", \"thank\", \"thick\", \"thing\", \"thing\", \"thing\", \"thing\", \"thing\", \"thing\", \"time\", \"time\", \"time\", \"time\", \"time\", \"time\", \"tooth\", \"treat\", \"true\", \"vanilla\", \"water\", \"weak\", \"week\", \"well\", \"well\", \"well\", \"well\", \"well\", \"well\", \"wheat\", \"whole\", \"wife\", \"wonderful\", \"wonderful\", \"work\", \"work\", \"world\", \"year\", \"year\", \"year\"]}, \"R\": 30, \"lambda.step\": 0.01, \"plot.opts\": {\"xlab\": \"PC1\", \"ylab\": \"PC2\"}, \"topic.order\": [2, 3, 5, 6, 4, 1]};\n",
              "\n",
              "function LDAvis_load_lib(url, callback){\n",
              "  var s = document.createElement('script');\n",
              "  s.src = url;\n",
              "  s.async = true;\n",
              "  s.onreadystatechange = s.onload = callback;\n",
              "  s.onerror = function(){console.warn(\"failed to load library \" + url);};\n",
              "  document.getElementsByTagName(\"head\")[0].appendChild(s);\n",
              "}\n",
              "\n",
              "if(typeof(LDAvis) !== \"undefined\"){\n",
              "   // already loaded: just create the visualization\n",
              "   !function(LDAvis){\n",
              "       new LDAvis(\"#\" + \"ldavis_el47451406650814728486690443715\", ldavis_el47451406650814728486690443715_data);\n",
              "   }(LDAvis);\n",
              "}else if(typeof define === \"function\" && define.amd){\n",
              "   // require.js is available: use it to load d3/LDAvis\n",
              "   require.config({paths: {d3: \"https://cdnjs.cloudflare.com/ajax/libs/d3/3.5.5/d3.min\"}});\n",
              "   require([\"d3\"], function(d3){\n",
              "      window.d3 = d3;\n",
              "      LDAvis_load_lib(\"https://cdn.rawgit.com/bmabey/pyLDAvis/files/ldavis.v1.0.0.js\", function(){\n",
              "        new LDAvis(\"#\" + \"ldavis_el47451406650814728486690443715\", ldavis_el47451406650814728486690443715_data);\n",
              "      });\n",
              "    });\n",
              "}else{\n",
              "    // require.js not available: dynamically load d3 & LDAvis\n",
              "    LDAvis_load_lib(\"https://cdnjs.cloudflare.com/ajax/libs/d3/3.5.5/d3.min.js\", function(){\n",
              "         LDAvis_load_lib(\"https://cdn.rawgit.com/bmabey/pyLDAvis/files/ldavis.v1.0.0.js\", function(){\n",
              "                 new LDAvis(\"#\" + \"ldavis_el47451406650814728486690443715\", ldavis_el47451406650814728486690443715_data);\n",
              "            })\n",
              "         });\n",
              "}\n",
              "</script>"
            ],
            "text/plain": [
              "PreparedData(topic_coordinates=              x         y  topics  cluster       Freq\n",
              "topic                                                \n",
              "1      0.112250 -0.044336       1        1  20.974004\n",
              "2     -0.191835 -0.079137       2        1  17.966543\n",
              "4     -0.241733 -0.023222       3        1  17.296924\n",
              "5      0.028784 -0.174194       4        1  16.277869\n",
              "3      0.288236 -0.042907       5        1  14.040100\n",
              "0      0.004297  0.363797       6        1  13.444561, topic_info=        Term          Freq         Total Category  logprob  loglift\n",
              "184   coffee  36112.000000  36112.000000  Default  30.0000  30.0000\n",
              "1       food  30726.000000  30726.000000  Default  29.0000  29.0000\n",
              "5    product  43914.000000  43914.000000  Default  28.0000  28.0000\n",
              "196    water  22340.000000  22340.000000  Default  27.0000  27.0000\n",
              "42    flavor  50330.000000  50330.000000  Default  26.0000  26.0000\n",
              "..       ...           ...           ...      ...      ...      ...\n",
              "479     work   2436.173185   6023.777952   Topic6  -5.0212   1.1013\n",
              "109   review   2596.799722   8142.862184   Topic6  -4.9574   0.8637\n",
              "120     time   3207.804522  22451.809095   Topic6  -4.7461   0.0608\n",
              "106     full   2282.044207   4707.496496   Topic6  -5.0866   1.2825\n",
              "2       good   2296.944121  59048.205254   Topic6  -5.0801  -1.2402\n",
              "\n",
              "[320 rows x 6 columns], token_table=      Topic      Freq         Term\n",
              "term                              \n",
              "162       1  0.999740         able\n",
              "1098      3  0.999751       almond\n",
              "698       2  0.999766  alternative\n",
              "499       5  0.999628      amazing\n",
              "613       1  0.999748       amazon\n",
              "...     ...       ...          ...\n",
              "479       6  0.404397         work\n",
              "145       6  0.998979        world\n",
              "113       2  0.380214         year\n",
              "113       3  0.378554         year\n",
              "113       4  0.241238         year\n",
              "\n",
              "[382 rows x 3 columns], R=30, lambda_step=0.01, plot_opts={'xlab': 'PC1', 'ylab': 'PC2'}, topic_order=[2, 3, 5, 6, 4, 1])"
            ]
          },
          "metadata": {
            "tags": []
          },
          "execution_count": 49
        }
      ]
    },
    {
      "cell_type": "code",
      "metadata": {
        "id": "fB4iMF2mjrZD"
      },
      "source": [
        "# compute the coherence score\r\n",
        "\r\n",
        "coherence_model_lda = CoherenceModel(model=lda_model, texts=tokenized_reviews, dictionary=dictionary , coherence='c_v')\r\n",
        "coherence_lda = coherence_model_lda.get_coherence()"
      ],
      "execution_count": 50,
      "outputs": []
    },
    {
      "cell_type": "markdown",
      "metadata": {
        "id": "_Vri74a5E3YW"
      },
      "source": [
        "> Next, I'll show the baseline **Coherence Score**. Topic Coherence measures score a single topic by measuring the degree of semantic similarity between high scoring words in the topic. These measurements help distinguish between topics that are semantically interpretable topics and topics that are artifacts of statistical inference."
      ]
    },
    {
      "cell_type": "code",
      "metadata": {
        "colab": {
          "base_uri": "https://localhost:8080/"
        },
        "id": "uKOzrLYZ1Jjt",
        "outputId": "3424cfd1-ff7e-4bbc-8934-98c57bb0a619"
      },
      "source": [
        "# print coherence score\r\n",
        "\r\n",
        "print('\\nBase Coherence Score: ', coherence_lda)"
      ],
      "execution_count": 58,
      "outputs": [
        {
          "output_type": "stream",
          "text": [
            "\n",
            "Base Coherence Score:  0.33753198858961736\n"
          ],
          "name": "stdout"
        }
      ]
    },
    {
      "cell_type": "code",
      "metadata": {
        "id": "d5Ott5AnMYVF"
      },
      "source": [
        "# function to compute coherence values\n",
        "\n",
        "def compute_coherence_values(dictionary, corpus, texts, limit, start=2, step=3):\n",
        "    \"\"\"\n",
        "    Compute c_v coherence for various number of topics\n",
        "\n",
        "    Parameters:\n",
        "    ----------\n",
        "    dictionary : Gensim dictionary\n",
        "    corpus : Gensim corpus\n",
        "    texts : List of input texts\n",
        "    limit : Max num of topics\n",
        "\n",
        "    Returns:\n",
        "    -------\n",
        "    model_list : List of LDA topic models\n",
        "    coherence_values : Coherence values corresponding to the LDA model with respective number of topics\n",
        "    \"\"\"\n",
        "    coherence_values = []\n",
        "    model_list = []\n",
        "    for num_topics in range(start, limit, step):\n",
        "        model = gensim.models.ldamodel.LdaModel(corpus=corpus, num_topics=num_topics, id2word=dictionary)\n",
        "        model_list.append(model)\n",
        "        coherencemodel = CoherenceModel(model=model, texts=texts, dictionary=dictionary, coherence='c_v')\n",
        "        coherence_values.append(coherencemodel.get_coherence())\n",
        "\n",
        "    return model_list, coherence_values"
      ],
      "execution_count": 52,
      "outputs": []
    },
    {
      "cell_type": "code",
      "metadata": {
        "id": "HDTlMzt8MYVF"
      },
      "source": [
        "# compute the coherence values\r\n",
        "\r\n",
        "model_list, coherence_values = compute_coherence_values(dictionary=dictionary, corpus=doc_term_matrix, texts=tokenized_reviews, start=2, limit=15, step=1)"
      ],
      "execution_count": 54,
      "outputs": []
    },
    {
      "cell_type": "code",
      "metadata": {
        "id": "F6jX_9WLMYVG",
        "colab": {
          "base_uri": "https://localhost:8080/",
          "height": 279
        },
        "outputId": "e7ce310e-b8e1-4029-bc78-153e4ebe5678"
      },
      "source": [
        "# show graph\n",
        "\n",
        "limit=15; start=2; step=1;\n",
        "x = range(start, limit, step)\n",
        "plt.plot(x, coherence_values)\n",
        "plt.xlabel(\"Num Topics\")\n",
        "plt.ylabel(\"Coherence score\")\n",
        "plt.legend((\"coherence_values\"), loc='best')\n",
        "plt.show()\n"
      ],
      "execution_count": 55,
      "outputs": [
        {
          "output_type": "display_data",
          "data": {
            "image/png": "[encoded data removed]",
            "text/plain": [
              "<Figure size 432x288 with 1 Axes>"
            ]
          },
          "metadata": {
            "tags": [],
            "needs_background": "light"
          }
        }
      ]
    },
    {
      "cell_type": "markdown",
      "metadata": {
        "id": "62sYBvEpPwGm"
      },
      "source": [
        "> As we can see with the coherence score seems to keep increasing with the number of topics, it may make better sense to pick the model that gave the highest CV before flattening out or a major drop. In this case is 9."
      ]
    },
    {
      "cell_type": "code",
      "metadata": {
        "id": "a9lkqNsIMYVH",
        "colab": {
          "base_uri": "https://localhost:8080/"
        },
        "outputId": "c3f97469-5216-48fc-a17b-048dd448034d"
      },
      "source": [
        "# print the coherence scores\n",
        "\n",
        "for m, cv in zip(x, coherence_values):\n",
        "    print(\"Num Topics =\", m, \" has Coherence Value of\", round(cv, 4))"
      ],
      "execution_count": 56,
      "outputs": [
        {
          "output_type": "stream",
          "text": [
            "Num Topics = 2  has Coherence Value of 0.3127\n",
            "Num Topics = 3  has Coherence Value of 0.3534\n",
            "Num Topics = 4  has Coherence Value of 0.3908\n",
            "Num Topics = 5  has Coherence Value of 0.4237\n",
            "Num Topics = 6  has Coherence Value of 0.3997\n",
            "Num Topics = 7  has Coherence Value of 0.4209\n",
            "Num Topics = 8  has Coherence Value of 0.4185\n",
            "Num Topics = 9  has Coherence Value of 0.423\n",
            "Num Topics = 10  has Coherence Value of 0.425\n",
            "Num Topics = 11  has Coherence Value of 0.4013\n",
            "Num Topics = 12  has Coherence Value of 0.426\n",
            "Num Topics = 13  has Coherence Value of 0.4261\n",
            "Num Topics = 14  has Coherence Value of 0.4099\n"
          ],
          "name": "stdout"
        }
      ]
    },
    {
      "cell_type": "markdown",
      "metadata": {
        "id": "Yr2-LCz_QPjz"
      },
      "source": [
        "> Since we want the amount number of 9, I would pick the index number 7 on the *model_list*."
      ]
    },
    {
      "cell_type": "code",
      "metadata": {
        "id": "WYt7Ttd0MYVH"
      },
      "source": [
        "# select model and print the topics\n",
        "\n",
        "optimal_model = model_list[7]\n",
        "model_topics = optimal_model.show_topics(formatted=False)"
      ],
      "execution_count": 61,
      "outputs": []
    },
    {
      "cell_type": "code",
      "metadata": {
        "colab": {
          "base_uri": "https://localhost:8080/"
        },
        "id": "AbFjKAceQu0d",
        "outputId": "45f93e1a-1de2-435c-ece9-d3a91976cc2e"
      },
      "source": [
        "# print optimal topics\r\n",
        "\r\n",
        "optimal_model.print_topics(num_words=10)"
      ],
      "execution_count": 62,
      "outputs": [
        {
          "output_type": "execute_result",
          "data": {
            "text/plain": [
              "[(0,\n",
              "  '0.021*\"bread\" + 0.020*\"sauce\" + 0.014*\"good\" + 0.012*\"chicken\" + 0.012*\"easy\" + 0.012*\"time\" + 0.012*\"recipe\" + 0.012*\"minute\" + 0.011*\"little\" + 0.010*\"meat\"'),\n",
              " (1,\n",
              "  '0.035*\"butter\" + 0.024*\"peanut\" + 0.022*\"product\" + 0.013*\"free\" + 0.011*\"seed\" + 0.010*\"ground\" + 0.010*\"pretzel\" + 0.009*\"year\" + 0.009*\"biscuit\" + 0.008*\"sick\"'),\n",
              " (2,\n",
              "  '0.037*\"product\" + 0.023*\"time\" + 0.023*\"order\" + 0.015*\"package\" + 0.015*\"good\" + 0.015*\"great\" + 0.013*\"bag\" + 0.011*\"item\" + 0.010*\"month\" + 0.010*\"cookie\"'),\n",
              " (3,\n",
              "  '0.085*\"food\" + 0.031*\"treat\" + 0.020*\"dog\" + 0.015*\"cat\" + 0.015*\"good\" + 0.014*\"product\" + 0.012*\"great\" + 0.012*\"love\" + 0.011*\"year\" + 0.011*\"small\"'),\n",
              " (4,\n",
              "  '0.046*\"store\" + 0.040*\"price\" + 0.034*\"product\" + 0.023*\"good\" + 0.020*\"local\" + 0.017*\"great\" + 0.014*\"grocery\" + 0.013*\"brand\" + 0.012*\"year\" + 0.011*\"time\"'),\n",
              " (5,\n",
              "  '0.031*\"chip\" + 0.031*\"good\" + 0.027*\"flavor\" + 0.022*\"salt\" + 0.022*\"great\" + 0.021*\"snack\" + 0.019*\"taste\" + 0.012*\"healthy\" + 0.011*\"love\" + 0.011*\"whole\"'),\n",
              " (6,\n",
              "  '0.051*\"water\" + 0.034*\"sugar\" + 0.027*\"taste\" + 0.025*\"drink\" + 0.023*\"product\" + 0.020*\"bottle\" + 0.018*\"good\" + 0.017*\"flavor\" + 0.016*\"syrup\" + 0.015*\"natural\"'),\n",
              " (7,\n",
              "  '0.041*\"flavor\" + 0.032*\"chocolate\" + 0.030*\"taste\" + 0.030*\"good\" + 0.020*\"sweet\" + 0.018*\"great\" + 0.016*\"milk\" + 0.015*\"cookie\" + 0.014*\"little\" + 0.013*\"cereal\"'),\n",
              " (8,\n",
              "  '0.120*\"coffee\" + 0.037*\"flavor\" + 0.029*\"good\" + 0.026*\"taste\" + 0.023*\"strong\" + 0.016*\"blend\" + 0.014*\"bean\" + 0.012*\"great\" + 0.012*\"tea\" + 0.012*\"bitter\"')]"
            ]
          },
          "metadata": {
            "tags": []
          },
          "execution_count": 62
        }
      ]
    },
    {
      "cell_type": "code",
      "metadata": {
        "id": "1xirMU-ZMYVI"
      },
      "source": [
        "# visualize the optimal topics\n",
        "\n",
        "pyLDAvis.enable_notebook()\n",
        "vis_opt = pyLDAvis.gensim.prepare(optimal_model, doc_term_matrix, dictionary)"
      ],
      "execution_count": 63,
      "outputs": []
    },
    {
      "cell_type": "code",
      "metadata": {
        "colab": {
          "base_uri": "https://localhost:8080/",
          "height": 861
        },
        "id": "TZ-AkPpW1dtX",
        "outputId": "562eb8c9-f03d-403c-fe6f-719eab541e2a"
      },
      "source": [
        "# show visualization of optimal topics\r\n",
        "\r\n",
        "vis_opt"
      ],
      "execution_count": 64,
      "outputs": [
        {
          "output_type": "execute_result",
          "data": {
            "text/html": [
              "\n",
              "<link rel=\"stylesheet\" type=\"text/css\" href=\"https://cdn.rawgit.com/bmabey/pyLDAvis/files/ldavis.v1.0.0.css\">\n",
              "\n",
              "\n",
              "<div id=\"ldavis_el47451406645905194165485370501\"></div>\n",
              "<script type=\"text/javascript\">\n",
              "\n",
              "var ldavis_el47451406645905194165485370501_data = {\"mdsDat\": {\"x\": [-0.15329245411823125, 0.12311652382802589, 0.07908650062587749, -0.15653113251612538, -0.1093990380379357, 0.16988719342317263, -0.14008552956008233, -0.026004771900521445, 0.21322270825582076], \"y\": [0.023693884313786363, 0.15418146806559294, 0.011972614802756095, 0.07942984113698243, 0.0026613503838724233, 0.17615117121115645, -0.09761647372391442, -0.1151867189367769, -0.23528713725345532], \"topics\": [1, 2, 3, 4, 5, 6, 7, 8, 9], \"cluster\": [1, 1, 1, 1, 1, 1, 1, 1, 1], \"Freq\": [17.28955962339373, 13.775324383524387, 13.75127221543849, 11.947403429250404, 11.065416135527965, 10.091179353181502, 8.730331210909027, 7.957588731948811, 5.391924916825686]}, \"tinfo\": {\"Term\": [\"coffee\", \"food\", \"store\", \"water\", \"chocolate\", \"flavor\", \"price\", \"treat\", \"sugar\", \"chip\", \"product\", \"taste\", \"snack\", \"strong\", \"drink\", \"local\", \"dog\", \"butter\", \"salt\", \"order\", \"sweet\", \"cookie\", \"bread\", \"sauce\", \"cat\", \"bottle\", \"grocery\", \"blend\", \"peanut\", \"milk\", \"licorice\", \"bar\", \"peach\", \"cocoa\", \"mango\", \"mint\", \"cube\", \"purse\", \"refreshing\", \"blueberry\", \"granola\", \"smoothie\", \"berry\", \"puff\", \"stool\", \"tart\", \"filling\", \"sport\", \"wasabi\", \"chocolate\", \"melt\", \"ring\", \"matcha\", \"proper\", \"grainy\", \"pearl\", \"banana\", \"cinnamon\", \"cluster\", \"woman\", \"peppermint\", \"yesterday\", \"raspberry\", \"cereal\", \"milk\", \"candy\", \"chewy\", \"sweet\", \"cookie\", \"fruit\", \"creamy\", \"honey\", \"flavor\", \"texture\", \"taste\", \"snack\", \"breakfast\", \"good\", \"little\", \"soft\", \"kid\", \"great\", \"nice\", \"delicious\", \"tasty\", \"love\", \"favorite\", \"sugar\", \"calorie\", \"perfect\", \"healthy\", \"thing\", \"product\", \"much\", \"time\", \"grocery\", \"return\", \"local\", \"mistake\", \"dollar\", \"refund\", \"buck\", \"retail\", \"productbr\", \"odor\", \"increase\", \"buyer\", \"prime\", \"suggestion\", \"pricing\", \"twining\", \"correct\", \"tight\", \"exact\", \"area\", \"numerous\", \"machine\", \"unusual\", \"naked\", \"joint\", \"carbs\", \"holder\", \"spray\", \"match\", \"store\", \"picture\", \"espresso\", \"tropical\", \"tin\", \"basket\", \"online\", \"target\", \"symptom\", \"save\", \"price\", \"gold\", \"amazon\", \"money\", \"cheap\", \"cost\", \"supermarket\", \"deal\", \"bulk\", \"subscribe\", \"shipping\", \"quantity\", \"sale\", \"available\", \"waste\", \"expensive\", \"purchase\", \"product\", \"buying\", \"brand\", \"worth\", \"year\", \"good\", \"well\", \"great\", \"free\", \"bag\", \"time\", \"item\", \"review\", \"order\", \"quality\", \"pack\", \"love\", \"dog\", \"treat\", \"wellness\", \"baby\", \"coat\", \"feed\", \"pill\", \"ball\", \"cat\", \"training\", \"liver\", \"shampoo\", \"canidae\", \"kibble\", \"shiny\", \"toy\", \"science\", \"human\", \"breath\", \"pet\", \"animal\", \"muscle\", \"rawhide\", \"fructose\", \"squirt\", \"diarrhea\", \"owner\", \"medicine\", \"puppy\", \"greenie\", \"hair\", \"chew\", \"old\", \"toddler\", \"eater\", \"food\", \"formula\", \"pocket\", \"picky\", \"skin\", \"busy\", \"allergy\", \"tooth\", \"month\", \"pouch\", \"problem\", \"weight\", \"small\", \"stomach\", \"piece\", \"healthy\", \"ingredient\", \"year\", \"love\", \"happy\", \"product\", \"little\", \"good\", \"time\", \"great\", \"large\", \"size\", \"brand\", \"quality\", \"week\", \"thing\", \"much\", \"coffee\", \"kcup\", \"bold\", \"roast\", \"weak\", \"pod\", \"caffeine\", \"drinker\", \"decaf\", \"brew\", \"creamer\", \"starbuck\", \"chamomile\", \"pero\", \"brewer\", \"hazelnut\", \"filter\", \"aroma\", \"senseo\", \"trader\", \"strength\", \"grind\", \"mocha\", \"joe\", \"mountain\", \"bodied\", \"sugarfree\", \"press\", \"newman\", \"sampler\", \"bean\", \"bitter\", \"blend\", \"french\", \"maker\", \"herbal\", \"strong\", \"cup\", \"tea\", \"smooth\", \"vanilla\", \"black\", \"green\", \"morning\", \"rich\", \"dark\", \"flavor\", \"taste\", \"good\", \"drink\", \"favorite\", \"great\", \"brand\", \"love\", \"different\", \"nice\", \"little\", \"salt\", \"chip\", \"pasta\", \"salty\", \"seasoning\", \"sodium\", \"vinegar\", \"mole\", \"gram\", \"olive\", \"fry\", \"chewer\", \"dressing\", \"garlic\", \"supplier\", \"garden\", \"tuna\", \"tortilla\", \"potato\", \"greasy\", \"spinach\", \"ahoy\", \"gritty\", \"byproduct\", \"tender\", \"raman\", \"cheddar\", \"andor\", \"movie\", \"imagine\", \"cracker\", \"pizza\", \"salad\", \"onion\", \"cashew\", \"cheese\", \"grinder\", \"blue\", \"tomato\", \"nut\", \"diamond\", \"pepper\", \"oil\", \"wheat\", \"snack\", \"whole\", \"spicy\", \"soup\", \"lunch\", \"grain\", \"healthy\", \"good\", \"flavor\", \"great\", \"taste\", \"texture\", \"tasty\", \"corn\", \"love\", \"little\", \"regular\", \"product\", \"high\", \"thing\", \"well\", \"brand\", \"date\", \"bone\", \"plant\", \"trap\", \"expiration\", \"lime\", \"smart\", \"selection\", \"drawer\", \"service\", \"wrap\", \"condition\", \"tear\", \"jasmine\", \"dental\", \"timely\", \"hole\", \"ridiculous\", \"marshmallow\", \"delighted\", \"manner\", \"shortbread\", \"kidney\", \"rose\", \"response\", \"concentrate\", \"dent\", \"auto\", \"wafer\", \"carton\", \"delivery\", \"flower\", \"freshness\", \"paper\", \"email\", \"seal\", \"broken\", \"customer\", \"damage\", \"shipment\", \"plastic\", \"birthday\", \"gift\", \"discount\", \"stock\", \"order\", \"fast\", \"packaging\", \"package\", \"item\", \"seller\", \"box\", \"container\", \"company\", \"open\", \"product\", \"bag\", \"time\", \"last\", \"day\", \"month\", \"week\", \"cookie\", \"fresh\", \"great\", \"good\", \"case\", \"problem\", \"first\", \"price\", \"pack\", \"syrup\", \"juice\", \"soda\", \"grade\", \"maple\", \"diabetic\", \"floor\", \"lucky\", \"cane\", \"apricot\", \"sardine\", \"sweetner\", \"cider\", \"dandy\", \"toffee\", \"self\", \"absolute\", \"feast\", \"liter\", \"fondant\", \"lemonade\", \"sugarbr\", \"cola\", \"curious\", \"aspect\", \"obvious\", \"alcohol\", \"holistic\", \"bird\", \"teabag\", \"beverage\", \"fancy\", \"potassium\", \"grape\", \"cocktail\", \"additive\", \"vitamin\", \"artificial\", \"sweetener\", \"rock\", \"pure\", \"water\", \"chemical\", \"sugar\", \"apple\", \"drink\", \"bottle\", \"energy\", \"crystal\", \"coconut\", \"natural\", \"glass\", \"oatmeal\", \"ingredient\", \"beer\", \"benefit\", \"taste\", \"packet\", \"corn\", \"product\", \"real\", \"organic\", \"flavor\", \"good\", \"stuff\", \"sweet\", \"great\", \"well\", \"regular\", \"sauce\", \"bread\", \"litter\", \"loaf\", \"gravy\", \"breast\", \"steak\", \"kitty\", \"hemp\", \"jerky\", \"success\", \"fudge\", \"tend\", \"bake\", \"roll\", \"sausage\", \"tonic\", \"boyfriend\", \"soap\", \"medication\", \"mold\", \"wing\", \"balsamic\", \"coin\", \"essential\", \"burger\", \"lotion\", \"retailer\", \"print\", \"hassle\", \"wine\", \"smoke\", \"paste\", \"conditioner\", \"sleep\", \"cake\", \"indian\", \"scratch\", \"pork\", \"yeast\", \"degree\", \"recipe\", \"beef\", \"microwave\", \"meat\", \"dish\", \"noodle\", \"minute\", \"heat\", \"chicken\", \"rice\", \"cooking\", \"night\", \"cook\", \"spice\", \"restaurant\", \"easy\", \"soup\", \"homemade\", \"stuff\", \"time\", \"little\", \"white\", \"good\", \"bottle\", \"water\", \"flour\", \"meal\", \"product\", \"year\", \"taste\", \"great\", \"first\", \"flavor\", \"wonderful\", \"peanut\", \"pretzel\", \"blood\", \"gluten\", \"root\", \"pumpkin\", \"mill\", \"storage\", \"pressure\", \"throat\", \"timothys\", \"play\", \"rescue\", \"secret\", \"rancid\", \"separate\", \"production\", \"visit\", \"sore\", \"round\", \"satisfie\", \"suppose\", \"finding\", \"waterbr\", \"load\", \"slim\", \"digestion\", \"rinse\", \"infection\", \"bobs\", \"butter\", \"sick\", \"supplement\", \"truffle\", \"mushroom\", \"holiday\", \"foot\", \"dead\", \"saver\", \"muffin\", \"ground\", \"biscuit\", \"advice\", \"space\", \"seed\", \"call\", \"farm\", \"tree\", \"free\", \"word\", \"product\", \"year\", \"friend\", \"wheat\", \"good\", \"work\", \"problem\", \"people\", \"natural\"], \"Freq\": [39300.0, 34257.0, 17579.0, 17289.0, 15228.0, 46330.0, 18561.0, 11854.0, 11531.0, 9543.0, 43680.0, 38181.0, 11579.0, 8896.0, 9015.0, 7689.0, 7592.0, 5181.0, 6724.0, 9541.0, 12640.0, 9831.0, 4544.0, 4409.0, 5631.0, 6858.0, 5473.0, 5209.0, 3561.0, 8727.0, 1840.3610131546511, 4265.262461890501, 2106.697140854323, 1249.712968320938, 1008.8230562164736, 1251.6393648735072, 971.8799432232627, 859.503493620417, 859.1431719875287, 851.0542084253344, 817.7169656567219, 762.6131337025964, 650.8465272194005, 588.8223304498549, 554.0219065100355, 611.9176920464778, 794.5385039505039, 435.80981667603146, 388.0504752463774, 15191.371469594973, 441.18442546084344, 331.9649230354522, 337.10612722102564, 330.43735724839473, 305.668631468838, 274.5485803468833, 700.8421075264214, 1762.2665931951753, 648.9859251647808, 258.31528079417836, 994.2352549416886, 294.95800596607853, 612.3453009936555, 6350.107646580459, 7361.490495793628, 3683.530732608324, 1342.474695847679, 9588.162521421555, 7098.705280561443, 3645.020936510997, 1066.9634977641988, 1669.8032077784644, 19610.39799535226, 3321.083550409822, 14099.768429954125, 4936.730809320587, 2098.68702011068, 14084.619108577512, 6779.174909454016, 2142.670033805502, 2540.987491654179, 8574.4530902977, 3641.958340855182, 2608.290729318028, 2590.7343245273555, 4979.7637283492195, 3255.5904907819963, 3391.867372304694, 2155.2172104329584, 2444.245252290986, 2708.0535443215385, 2406.9343535831867, 2765.9564622027165, 2224.400512053341, 2260.4510314542013, 5471.359283416687, 896.0888051498384, 7680.981243027913, 643.0655092487427, 1104.546847122541, 570.2756341453671, 784.9208388491418, 475.105932483866, 450.4517279359128, 435.5555432608759, 395.9887668867679, 373.6570004949584, 535.2101703053391, 365.3510275809748, 363.9409616839113, 336.0513740514747, 321.50971569954703, 317.6719946827779, 296.5628991857323, 1474.0304983631845, 319.8257376905187, 2331.427301458535, 270.3931694940055, 261.98601032701714, 258.7168838077049, 255.50271151156352, 250.11785841304476, 249.69126386620204, 235.90927331273608, 17512.768669627963, 1490.9440646849798, 846.539346347166, 449.43123131549163, 300.84556219138875, 647.8361084892301, 1771.6281227978623, 394.5428651095045, 344.2017571328015, 764.2043962324435, 15252.929078342677, 579.2049134968303, 2414.8097077003567, 3653.1174687492153, 4232.173135826724, 2497.575921818961, 1392.1261074286397, 2435.0184129412896, 1414.2497305703632, 1296.9943781441912, 3644.6211714094125, 1046.8593176276208, 1406.959210382169, 2693.252602640462, 1071.9379141483419, 3140.5802435599003, 2647.3745705118977, 12721.124802986626, 1573.850362514753, 5062.143222231496, 2774.880174065263, 4362.474951219763, 8840.77217206955, 3549.5549026264725, 6341.7964703744565, 3033.301142045994, 2945.3576454096974, 4327.530496799414, 2306.1958462970106, 2614.025308339615, 2843.4732645261656, 2496.3786025517998, 2157.3363751896463, 2793.642228653747, 7591.363833720122, 11850.191510210812, 2378.451480861858, 4045.512332955459, 1810.7268151555286, 1565.4256034772168, 1351.4084258659373, 1219.4331891690254, 5626.093682713501, 944.0450190639187, 848.157070347487, 949.3358629670424, 674.5464945294517, 660.7730887361316, 648.9733933961504, 641.542307357608, 636.5629792812216, 597.8250803503715, 659.8814164579339, 556.74360089014, 1517.1128584071123, 489.6556949215831, 485.5592442101608, 483.2360678794813, 464.63020906077753, 453.5115478270471, 558.7904410470169, 441.267093724838, 424.2580833274093, 425.18348409785824, 2631.2385708881584, 2186.456414191211, 1097.6176603414083, 597.1679244335502, 1050.270332896966, 32028.723996285986, 1991.8638578461257, 1056.5889503605788, 1401.420348172791, 1696.9732314927066, 702.7719655957695, 1621.4437479296225, 2013.2817582476036, 4138.040800714885, 1279.5750045893117, 3286.3199435759743, 1618.9428264024903, 4181.000433896172, 1357.0639068717298, 2422.9004446501376, 3754.3929653966466, 3339.5858078810293, 4205.327515697089, 4499.595462193563, 2300.537872219385, 5421.539479945143, 3736.8516868503148, 5559.165096598173, 3820.401603587731, 4584.292939209712, 2226.2482955239866, 2192.112246993533, 2491.1289189414056, 2109.4676786243926, 1910.6430100312555, 2058.1563958363936, 2001.3920909452418, 39299.64216680739, 3718.2445906942103, 2646.2816765638922, 2512.6648579049947, 2562.159887101772, 2066.362796098652, 2296.048896546956, 1746.040620737808, 1369.2896282298523, 1313.0469509898066, 1076.4595377391577, 1039.0564961751925, 910.3655843755037, 918.0748788598354, 882.3895815942494, 808.6230852625581, 792.383677376938, 1647.0552998952546, 714.0849493917872, 668.5777919560471, 742.9151631833431, 627.984888532296, 541.8845220243533, 513.153911421985, 508.0020157388234, 452.1350186519354, 408.04354843221273, 375.4071326780806, 370.2096571695639, 369.37214220593467, 4617.8431734748865, 3791.147248089372, 5156.322389687083, 1682.6824475429105, 1978.7836641754784, 877.050743676836, 7697.047150873315, 2978.0597087175124, 3838.081707382293, 2309.126676848513, 3083.987681315499, 2909.9282236529016, 3020.3116337308657, 2934.3287508465332, 2212.4354004599604, 2523.121397085039, 12273.01770906337, 8643.642850879505, 9548.869644249213, 2791.359853687696, 2825.2205061089317, 3930.014037378361, 2842.620155517087, 3012.632216382685, 2355.317034985846, 2288.497851548476, 2144.620414367053, 6723.875737016915, 9541.980689604592, 1589.2504770073617, 1850.2666164287577, 1369.316723937344, 1791.0472753962347, 1131.2557118377108, 893.158040267332, 686.2662831565929, 1898.1714859825104, 519.5869930644009, 510.398027791503, 512.9581751934853, 721.9765708489616, 494.18788923105956, 506.4911048522789, 526.19107640824, 464.0730894243586, 2357.032844239577, 441.65727387251445, 398.1841309362001, 393.45389148554654, 370.1362387991216, 365.1297086654732, 357.60779390058894, 339.88948612908973, 336.8260141017336, 324.6602007246317, 312.52938369556796, 343.76664978752507, 3110.896926773569, 708.2343648442037, 1759.3621692832758, 866.1608878255468, 500.43723203993153, 3041.4839881960033, 396.12776817225546, 1811.6147954505288, 667.7238096195157, 1141.7286432264475, 696.0166408072718, 1443.5227113869664, 898.7442217429551, 2265.1354774520823, 6415.87786730124, 3227.088482361552, 1460.0721269797557, 1748.516769179221, 1235.8436956805217, 1509.5975149912992, 3612.5827747254057, 9533.10654992168, 8071.302935275389, 6654.069876853287, 5911.472990650463, 2068.5383791300637, 2147.159780440354, 1622.6982101056358, 3425.057267675837, 2780.8498715990963, 1616.0689322220564, 2177.156427763638, 1641.4488924514658, 1614.5071538428733, 1551.965672123582, 1554.7271635299494, 1992.2800226610857, 1735.8115487847729, 1224.5926623356997, 1171.8715438850645, 922.8688918498896, 683.4671174778975, 482.22172916317146, 468.09809706954417, 482.5781203922556, 1996.0367812019276, 384.31091926138095, 1389.829628464067, 354.14471226015604, 342.4365956202261, 328.3571413238295, 325.52211428211206, 631.470915051361, 314.05847608763133, 307.2490930713782, 288.8543166897521, 284.2799623339813, 283.9445789544203, 275.69994998518405, 293.4389006742462, 326.61387705487317, 266.0567661918554, 264.1700450948573, 380.4861030329133, 259.468707808405, 256.72413391908907, 2156.7915564433997, 1024.6939062185181, 582.020696182396, 678.7327678564803, 520.1685853172825, 591.8754106264533, 440.96718548813305, 1821.0199027726594, 331.1312423749176, 1523.4213510824613, 2641.664986084324, 698.0042266467019, 2559.9196034451766, 455.3295842155881, 1479.2574945445037, 6314.310291803769, 1434.7673225313108, 2178.998950947319, 4261.456281005778, 3014.1195074944712, 1185.2610629697788, 2413.835342057499, 2113.409540425023, 2414.4740323151987, 1745.4303686358742, 10381.79912968477, 3484.8424885702566, 6415.330231164865, 2533.5032814487745, 2086.2091835407336, 2838.5289953737683, 2040.0052098801123, 2668.2364628280493, 2251.8968987353674, 4164.926793682849, 4190.035788490492, 1902.4930546613039, 1981.6951644331407, 2066.1063173233006, 2022.8588031740674, 1765.3237372202743, 3855.426838285706, 2550.346182418298, 1661.1268891678512, 1039.5411748640236, 914.5894037395202, 728.6112945585076, 527.0164544327503, 488.17139544631453, 387.93412871552147, 342.9034012324315, 329.65584751626113, 324.5805467590261, 312.22735667888844, 286.0209526759284, 276.24191618820913, 274.14195539610336, 267.5327100277186, 267.6446066861615, 248.0498211094624, 236.77148665558533, 235.61201057729366, 232.45058099718156, 213.57571138428943, 200.25961817298995, 191.80600430492584, 191.4638512366755, 367.5871396287356, 184.83324834740534, 185.93218353152702, 182.67521743315353, 1249.5786848732866, 497.97111941504835, 556.3753681100409, 410.1251512820513, 208.88956420041671, 581.0412666947817, 1360.7500251559459, 2299.264375056286, 1913.4790921251192, 409.94465929182337, 1445.931858925526, 12199.396275259662, 1226.6752703323336, 8097.037856572397, 1581.9137705683881, 5967.233041922782, 4688.400304612003, 1833.277999735991, 534.3667918166958, 1998.9306169427432, 3491.553199213225, 1333.3122274618825, 896.0536999337872, 3211.466035879142, 523.2882409176634, 1020.7289121015701, 6582.902750859671, 1323.8012348408574, 1492.4780770049877, 5529.435243971911, 1666.8569584706106, 1677.692619916436, 4057.817741614767, 4225.687297407755, 1830.4201680132237, 1944.200420206605, 2502.7682146109382, 1391.3460557815704, 1250.808878076288, 4408.532074357666, 4542.745953071147, 650.1840539857509, 552.149135398189, 508.36939900308005, 503.01042014861895, 779.8109713026354, 508.17996997162294, 437.8767592463798, 659.8228973061764, 453.63830308866153, 388.32167674631273, 388.0643800057079, 378.12134073659377, 821.2911960106691, 357.13601906673586, 345.52766347889343, 344.9325804723615, 344.25746599028787, 327.92249471720896, 314.69394071401985, 305.3233873289318, 286.3907903032862, 283.2411127763469, 282.4633442490156, 259.5053803049072, 259.1574151549684, 253.46584126542623, 252.03122935282227, 241.31874279405642, 911.3437828618638, 361.98529030431285, 365.0320084194742, 614.6385258118779, 627.4433074264514, 1469.1920245237636, 424.46167719367696, 402.556540670105, 587.0772124679144, 598.4835172081252, 458.65827421111413, 2573.5081083671616, 1999.7537318155946, 397.7116972470731, 2198.155653106631, 1498.4176362980543, 1466.9520593081568, 2535.274387820228, 1214.7734651620556, 2698.050011492759, 1869.5320114114886, 941.2689893342763, 1535.892419253078, 832.0444235526917, 1612.3444902320875, 962.8105615681616, 2696.0488428960657, 1457.6634204921525, 770.0736472793969, 1910.3238890882335, 2586.389282506243, 2441.661023764073, 946.9828040853839, 3084.952039285965, 1438.8009305301373, 1837.2726850463614, 954.0872579701652, 1036.5922023267108, 1391.0545339301027, 1143.6683619543735, 1258.7552015103759, 1167.2517165321585, 1040.8083978731822, 1118.3060438178697, 1017.9315596346469, 3561.0085350847503, 1444.361202440248, 1084.07485486625, 697.6791556533036, 576.6890688936501, 1143.3430189442258, 554.2983578302561, 552.4853338986284, 508.7020163796903, 456.13470240211603, 452.4758246460827, 388.75048534577377, 366.54389066635207, 341.48068149306823, 326.5223201998304, 456.27647098321927, 305.20816753217485, 312.53402706189155, 285.4823161109708, 349.2879196711965, 273.94966101912524, 267.0938689982916, 258.0814254548784, 254.1059047624087, 249.77208303426337, 248.01575274100438, 247.74628553284563, 239.8504549234709, 236.09229432992936, 235.67495466354373, 5158.186956955281, 1199.2901910744022, 648.0904992268828, 548.3961500479694, 669.322128855234, 671.3499954675411, 443.71265723706614, 341.5801022713024, 323.93696614356446, 588.3098163816105, 1455.7428296797602, 1262.0136323968973, 364.41481004637336, 508.16646151115873, 1563.6973109253033, 512.6069459056511, 438.66478534099974, 752.8679296721634, 1981.2513371990724, 602.9517416495008, 3220.8436701765945, 1394.62212165217, 976.2332781049037, 676.7149930925848, 867.1625805049093, 634.9927514157282, 618.750920637815, 535.1398393723262, 522.4285325049426], \"Total\": [39300.0, 34257.0, 17579.0, 17289.0, 15228.0, 46330.0, 18561.0, 11854.0, 11531.0, 9543.0, 43680.0, 38181.0, 11579.0, 8896.0, 9015.0, 7689.0, 7592.0, 5181.0, 6724.0, 9541.0, 12640.0, 9831.0, 4544.0, 4409.0, 5631.0, 6858.0, 5473.0, 5209.0, 3561.0, 8727.0, 1841.2828651850957, 4267.62609643192, 2108.15013016237, 1250.6807973657644, 1009.7335256197026, 1252.776810121076, 972.7834861000998, 860.40655644066, 860.0703610035099, 851.9826239687955, 818.6218232494524, 763.6518641701181, 651.7773365505095, 589.7245498820266, 554.9250850229507, 613.0566424608483, 796.0582702290745, 436.7128501708157, 388.95417270515065, 15228.858506000966, 442.29951352178955, 332.8674165845725, 338.0230810532023, 331.3410925209374, 306.57063692997207, 275.45108808320356, 703.1461484457911, 1768.2643091534378, 651.2155110967534, 259.21764807164317, 999.5689510009327, 296.0020201751568, 627.4737488584897, 7036.1335475296755, 8727.579544955792, 4257.4643193619995, 1487.8497309711554, 12640.121745513676, 9831.797448181993, 4873.293518124487, 1235.977619394136, 2153.0738064102243, 46330.92737802308, 5420.333798129525, 38181.19544778047, 11579.593121893264, 3464.5133262632885, 59934.37027710525, 20816.927504695464, 3788.4688418082196, 5093.023024838264, 38279.3804183722, 9640.478140761317, 6019.324600603254, 6166.528199341331, 21797.76569809551, 9716.353762903434, 11531.567231877027, 4464.517802243586, 7293.512890251689, 10838.04424976808, 10954.022943323282, 43680.32470719999, 10575.308738735112, 23132.233317940874, 5473.32174487264, 896.9838333222666, 7689.354836539757, 643.9574006469772, 1106.169701904985, 571.1860253260877, 786.2709606349256, 475.9981923355624, 451.35675386505056, 436.4478349718808, 396.8816955395299, 374.55176763792264, 536.4987538429177, 366.24340631544095, 364.8488385840329, 336.95807214260617, 322.40598060117543, 318.56415245581303, 297.46358258164946, 1478.5391320724991, 320.8453025359903, 2338.9826220848613, 271.28537387092126, 262.8787141943017, 259.60941430586973, 256.3953061861357, 251.00976616443887, 250.5833013600294, 236.80314192039594, 17579.333615437525, 1510.6176354154309, 852.9595010430959, 451.6748139162159, 302.24368661374587, 657.2527838125393, 1838.0895920097753, 397.89084035336043, 346.5480045290887, 783.4330516459876, 18561.985706076804, 598.5181419887426, 2831.5278475634177, 4519.546269222816, 5337.74439909284, 2996.043450545719, 1584.4063018495442, 3094.3140056357443, 1690.1111628845852, 1576.0314002651953, 5332.604053838598, 1246.0530755530403, 1790.021789014453, 4086.723859866817, 1305.8927157237913, 5286.542371633799, 4365.190638749945, 43680.32470719999, 2316.4156250537944, 14325.114546166476, 5799.003842428808, 14759.314007953657, 59934.37027710525, 11990.172014049827, 38279.3804183722, 9292.408175750745, 8804.63269194287, 23132.233317940874, 5563.59071865706, 7517.78823209724, 9541.269667188693, 8165.415021069014, 6729.348525008365, 21797.76569809551, 7592.26128983966, 11854.480354163981, 2379.344931771295, 4047.360088674389, 1811.7218123134085, 1566.3208964821945, 1352.3015450240582, 1220.3297284913258, 5631.362295728333, 944.9383723566356, 849.1398939044655, 950.5069107312132, 675.4396985901095, 661.671436870407, 649.8678069060152, 642.435530928602, 637.4601826063106, 598.720661612666, 660.9357097905186, 557.6408821837174, 1519.8521403868663, 490.5492389627622, 486.45251100661056, 484.13002145269314, 465.52843545622545, 454.4047791908443, 559.9067248695228, 442.16058077251665, 425.15123636904633, 426.08182450002954, 2642.3719106227204, 2197.7051172400647, 1104.9943912012482, 598.460017719587, 1059.6923385761834, 34257.02879160312, 2039.2741626514712, 1072.210235958089, 1490.800140625032, 1854.0315818446154, 723.1452618754295, 1936.3393701811788, 2829.891366482345, 8724.184759792928, 1676.2314607408236, 6981.167393724107, 2492.2593840258364, 11158.063424694214, 2000.9027261728268, 5052.3419673043145, 10838.04424976808, 8950.976041442538, 14759.314007953657, 21797.76569809551, 6041.733042015148, 43680.32470719999, 20816.927504695464, 59934.37027710525, 23132.233317940874, 38279.3804183722, 6778.539032062353, 6843.055578018482, 14325.114546166476, 8165.415021069014, 5245.437845997404, 10954.022943323282, 10575.308738735112, 39300.56255200768, 3719.124260592946, 2647.160922006611, 2513.5445990074286, 2563.12289107313, 2067.241965916597, 2297.0651072766104, 1746.9447991613185, 1370.1689107025343, 1313.926614145978, 1077.3406206840584, 1039.9357528842454, 911.2447889456685, 918.9618973454873, 883.2688775583342, 809.5062746978031, 793.2630295844515, 1648.9295188290323, 714.964033984002, 669.4573544230476, 743.9528546130489, 628.8645998328578, 542.7644230643813, 514.0334553564259, 508.88122658763643, 453.0141642792467, 408.9232809721507, 376.28633857672924, 371.0897059673396, 370.2517235225728, 4644.353034999988, 3818.29551526145, 5209.507429116313, 1694.002487777513, 1999.516942140332, 883.4424923746445, 8896.03202243142, 3364.8284823082117, 4467.834060199531, 2904.8104334835, 4437.140356116152, 4184.726292667566, 4622.664088664897, 4904.388807150132, 3309.8185367196415, 4215.916874936188, 46330.92737802308, 38181.19544778047, 59934.37027710525, 9015.64932396177, 9716.353762903434, 38279.3804183722, 14325.114546166476, 21797.76569809551, 8663.226824517289, 9640.478140761317, 20816.927504695464, 6724.882292238413, 9543.551947330076, 1590.1338760050196, 1851.418156993949, 1370.2073942059446, 1792.3892816448756, 1132.1350394993012, 894.0667300654936, 687.1479763011957, 1900.9733466765651, 520.4649103587977, 511.2762851730843, 513.8565583673372, 723.2477153466239, 495.066380997574, 507.39884217192684, 527.1842934337795, 464.951020076919, 2361.7247535048127, 442.54466642780926, 399.06239167368824, 394.33196044749906, 371.0144832589578, 366.00810015738807, 358.48578033242916, 340.7674769676568, 337.71548549060765, 325.53877339564036, 313.4111255152342, 344.7415813921696, 3176.2464451229107, 713.911112471927, 1806.4764117981815, 877.8163581296345, 504.42136375975474, 3234.8710149947237, 397.9476749828102, 1997.9312066681637, 708.5946895727977, 1314.1260124348073, 754.2379622122094, 1755.3556997024891, 1015.7226095028619, 3149.9455824880492, 11579.593121893264, 7657.7666837286, 2402.16567507872, 3207.5289062069087, 1971.0470040884434, 2687.8293168687437, 10838.04424976808, 59934.37027710525, 46330.92737802308, 38279.3804183722, 38181.19544778047, 5420.333798129525, 6166.528199341331, 3621.2328221817224, 21797.76569809551, 20816.927504695464, 7032.545540748193, 43680.32470719999, 7803.586348987075, 10954.022943323282, 11990.172014049827, 14325.114546166476, 1993.233550526858, 1736.708127915485, 1225.4918866008463, 1172.7700836628937, 923.7682359409428, 684.4145801874606, 483.1181899622623, 468.99776917174086, 483.6155321503035, 2000.631544318324, 385.2334714588211, 1393.2644484935017, 355.0404781408506, 343.332379305138, 329.2531614849155, 326.4177042401116, 633.2367406916787, 314.9583454348922, 308.1695188618082, 289.7609918824949, 285.1756199466727, 284.84045778865425, 276.5959620322696, 294.39687286798835, 327.6955691711083, 266.9535927001441, 265.0656023872328, 381.77919990217885, 260.3643487057382, 257.6199941246775, 2165.5581488371886, 1028.8059778442728, 584.116463840359, 682.5462596802827, 524.0839993534933, 597.2202809615999, 447.7549999004105, 1935.432290985159, 334.26405767756535, 1667.5278566045176, 3082.4027968396185, 755.1336808415995, 3159.951900502902, 473.70112252341255, 1782.3833208043463, 9541.269667188693, 1809.8147623608888, 2999.0286000659917, 7675.421750364716, 5563.59071865706, 1650.0351399685583, 4323.580374920204, 3800.871310104145, 4596.966034521778, 3084.1727528905826, 43680.32470719999, 8804.63269194287, 23132.233317940874, 5531.635143272322, 4736.0390514209175, 8724.184759792928, 5245.437845997404, 9831.797448181993, 7517.674402306213, 38279.3804183722, 59934.37027710525, 5745.233749438167, 6981.167393724107, 8514.192420487829, 18561.985706076804, 6729.348525008365, 3856.3537409818186, 2551.451314624475, 1662.0648088470793, 1040.463991768879, 915.4825687862283, 729.5714447160842, 527.9106679163073, 489.0649521807482, 388.8274031857132, 343.79662604606654, 330.5489733940909, 325.49933296612954, 313.12057228905417, 286.91588138090776, 277.1355532676748, 275.0360401999288, 268.42638687674213, 268.544735002483, 248.9471360158934, 237.66460082368062, 236.50695219294488, 233.34389036922605, 214.50538388851785, 201.1537802606389, 192.69932432310972, 192.35752172039858, 369.35409926089926, 185.72693876518431, 186.83514293457034, 183.56851377410806, 1262.2445483082472, 500.79687299670064, 563.046802797605, 413.99026162896774, 210.24412929466678, 605.4038813315343, 1488.916340333781, 2612.474639545926, 2155.4948303174356, 426.84992334772744, 1690.0459285985612, 17289.75464839917, 1422.0188333310716, 11531.567231877027, 1933.8823100419102, 9015.64932396177, 6858.312822852824, 2416.192393457032, 593.7063854155019, 2979.5780784722483, 6480.42777540214, 1985.9714630302897, 1306.8039775415766, 8950.976041442538, 605.5802024794029, 1746.2855762947268, 38181.19544778047, 2704.497981280905, 3621.2328221817224, 43680.32470719999, 5246.955885529009, 5586.824098229105, 46330.92737802308, 59934.37027710525, 9140.351692295275, 12640.121745513676, 38279.3804183722, 11990.172014049827, 7032.545540748193, 4409.746508694048, 4544.558434540918, 651.0677377817487, 553.0311139923074, 509.25150057445165, 503.8927833453467, 781.1794872394489, 509.1045207120042, 438.7606669982248, 661.1676545408237, 454.6518046313976, 389.2040197529293, 388.9513668752763, 379.0413829277755, 823.3051680259031, 358.0180982388612, 346.41054353881407, 345.81510236371895, 345.1458974870053, 328.80467958679407, 315.593547594828, 306.20567877663103, 287.27297078502227, 284.1237855558279, 283.3460496322001, 260.3878009582792, 260.03956314001016, 254.34839699641577, 252.9231767888203, 242.20126580149548, 915.3037871341808, 363.4320623589966, 367.0348919544477, 622.1376019385517, 636.790369621555, 1549.5608646251028, 431.05802326364307, 408.25116522532494, 608.0705210409608, 623.4763210183498, 470.13986063860733, 3201.619074856056, 2453.649370693807, 407.03531616844094, 3043.5846394680225, 1938.3547103769317, 1977.554787279562, 3968.230823250769, 1615.3600492171545, 4519.688131431333, 2949.470712648532, 1264.895680259117, 2505.1390811631222, 1094.3426649079881, 2902.385817233456, 1438.7937916422175, 8721.507455161422, 3207.5289062069087, 1179.5427055175855, 9140.351692295275, 23132.233317940874, 20816.927504695464, 2086.485615622478, 59934.37027710525, 6858.312822852824, 17289.75464839917, 2309.7626326491186, 3789.594045194765, 43680.32470719999, 14759.314007953657, 38181.19544778047, 38279.3804183722, 8514.192420487829, 46330.92737802308, 6306.515575700288, 3561.925063354862, 1445.2494624401531, 1085.2495428668128, 698.582725817173, 577.5784349560016, 1145.1190275479128, 555.1869381836237, 553.3740193380914, 509.5933681704613, 457.0284448238831, 453.3646789526399, 389.63902447685393, 367.4324637333346, 342.3696007987816, 327.41418718850906, 457.599496615673, 306.0967042104468, 313.46705495869804, 286.3706219102848, 350.40882004247385, 274.8381172015928, 267.99938869300183, 258.97084183786046, 254.9947730157133, 250.66055415998036, 248.90405819112107, 248.6347626690875, 240.73898021748008, 236.98078992680925, 236.56319315729544, 5181.708691655972, 1209.459759727258, 652.0302611653843, 551.1979581805073, 674.8139361097702, 678.0224058422004, 446.31443335687516, 343.46941197808655, 325.8301183744622, 607.9298322752882, 1697.0150778708453, 1531.7815123410146, 375.8175593011378, 565.1425424364974, 2383.2638659604672, 618.7872432897378, 505.19111989729777, 1426.5279388534268, 9292.408175750745, 1065.3448053033176, 43680.32470719999, 14759.314007953657, 5499.49400556047, 3149.9455824880492, 59934.37027710525, 5943.969185885249, 6981.167393724107, 5868.707464369723, 6480.42777540214], \"Category\": [\"Default\", \"Default\", \"Default\", \"Default\", \"Default\", \"Default\", \"Default\", \"Default\", \"Default\", \"Default\", \"Default\", \"Default\", \"Default\", \"Default\", \"Default\", \"Default\", \"Default\", \"Default\", \"Default\", \"Default\", \"Default\", \"Default\", \"Default\", \"Default\", \"Default\", \"Default\", \"Default\", \"Default\", \"Default\", \"Default\", \"Topic1\", \"Topic1\", \"Topic1\", \"Topic1\", \"Topic1\", \"Topic1\", \"Topic1\", \"Topic1\", \"Topic1\", \"Topic1\", \"Topic1\", \"Topic1\", \"Topic1\", \"Topic1\", \"Topic1\", \"Topic1\", \"Topic1\", \"Topic1\", \"Topic1\", \"Topic1\", \"Topic1\", \"Topic1\", \"Topic1\", \"Topic1\", \"Topic1\", \"Topic1\", \"Topic1\", \"Topic1\", \"Topic1\", \"Topic1\", \"Topic1\", \"Topic1\", \"Topic1\", \"Topic1\", \"Topic1\", \"Topic1\", \"Topic1\", \"Topic1\", \"Topic1\", \"Topic1\", \"Topic1\", \"Topic1\", \"Topic1\", \"Topic1\", \"Topic1\", \"Topic1\", \"Topic1\", \"Topic1\", \"Topic1\", \"Topic1\", \"Topic1\", \"Topic1\", \"Topic1\", \"Topic1\", \"Topic1\", \"Topic1\", \"Topic1\", \"Topic1\", \"Topic1\", \"Topic1\", \"Topic1\", \"Topic1\", \"Topic1\", \"Topic1\", \"Topic1\", \"Topic2\", \"Topic2\", \"Topic2\", \"Topic2\", \"Topic2\", \"Topic2\", \"Topic2\", \"Topic2\", \"Topic2\", \"Topic2\", \"Topic2\", \"Topic2\", \"Topic2\", \"Topic2\", \"Topic2\", \"Topic2\", \"Topic2\", \"Topic2\", \"Topic2\", \"Topic2\", \"Topic2\", \"Topic2\", \"Topic2\", \"Topic2\", \"Topic2\", \"Topic2\", \"Topic2\", \"Topic2\", \"Topic2\", \"Topic2\", \"Topic2\", \"Topic2\", \"Topic2\", \"Topic2\", \"Topic2\", \"Topic2\", \"Topic2\", \"Topic2\", \"Topic2\", \"Topic2\", \"Topic2\", \"Topic2\", \"Topic2\", \"Topic2\", \"Topic2\", \"Topic2\", \"Topic2\", \"Topic2\", \"Topic2\", \"Topic2\", \"Topic2\", \"Topic2\", \"Topic2\", \"Topic2\", \"Topic2\", \"Topic2\", \"Topic2\", \"Topic2\", \"Topic2\", \"Topic2\", \"Topic2\", \"Topic2\", \"Topic2\", \"Topic2\", \"Topic2\", \"Topic2\", \"Topic2\", \"Topic2\", \"Topic2\", \"Topic2\", \"Topic2\", \"Topic2\", \"Topic2\", \"Topic3\", \"Topic3\", \"Topic3\", \"Topic3\", \"Topic3\", \"Topic3\", \"Topic3\", \"Topic3\", \"Topic3\", \"Topic3\", \"Topic3\", \"Topic3\", \"Topic3\", \"Topic3\", \"Topic3\", \"Topic3\", \"Topic3\", \"Topic3\", \"Topic3\", \"Topic3\", \"Topic3\", \"Topic3\", \"Topic3\", \"Topic3\", \"Topic3\", \"Topic3\", \"Topic3\", \"Topic3\", \"Topic3\", \"Topic3\", \"Topic3\", \"Topic3\", \"Topic3\", \"Topic3\", \"Topic3\", \"Topic3\", \"Topic3\", \"Topic3\", \"Topic3\", \"Topic3\", \"Topic3\", \"Topic3\", \"Topic3\", \"Topic3\", \"Topic3\", \"Topic3\", \"Topic3\", \"Topic3\", \"Topic3\", \"Topic3\", \"Topic3\", \"Topic3\", \"Topic3\", \"Topic3\", \"Topic3\", \"Topic3\", \"Topic3\", \"Topic3\", \"Topic3\", \"Topic3\", \"Topic3\", \"Topic3\", \"Topic3\", \"Topic3\", \"Topic3\", \"Topic3\", \"Topic3\", \"Topic4\", \"Topic4\", \"Topic4\", \"Topic4\", \"Topic4\", \"Topic4\", \"Topic4\", \"Topic4\", \"Topic4\", \"Topic4\", \"Topic4\", \"Topic4\", \"Topic4\", \"Topic4\", \"Topic4\", \"Topic4\", \"Topic4\", \"Topic4\", \"Topic4\", \"Topic4\", \"Topic4\", \"Topic4\", \"Topic4\", \"Topic4\", \"Topic4\", \"Topic4\", \"Topic4\", \"Topic4\", \"Topic4\", \"Topic4\", \"Topic4\", \"Topic4\", \"Topic4\", \"Topic4\", \"Topic4\", \"Topic4\", \"Topic4\", \"Topic4\", \"Topic4\", \"Topic4\", \"Topic4\", \"Topic4\", \"Topic4\", \"Topic4\", \"Topic4\", \"Topic4\", \"Topic4\", \"Topic4\", \"Topic4\", \"Topic4\", \"Topic4\", \"Topic4\", \"Topic4\", \"Topic4\", \"Topic4\", \"Topic4\", \"Topic4\", \"Topic5\", \"Topic5\", \"Topic5\", \"Topic5\", \"Topic5\", \"Topic5\", \"Topic5\", \"Topic5\", \"Topic5\", \"Topic5\", \"Topic5\", \"Topic5\", \"Topic5\", \"Topic5\", \"Topic5\", \"Topic5\", \"Topic5\", \"Topic5\", \"Topic5\", \"Topic5\", \"Topic5\", \"Topic5\", \"Topic5\", \"Topic5\", \"Topic5\", \"Topic5\", \"Topic5\", \"Topic5\", \"Topic5\", \"Topic5\", \"Topic5\", \"Topic5\", \"Topic5\", \"Topic5\", \"Topic5\", \"Topic5\", \"Topic5\", \"Topic5\", \"Topic5\", \"Topic5\", \"Topic5\", \"Topic5\", \"Topic5\", \"Topic5\", \"Topic5\", \"Topic5\", \"Topic5\", \"Topic5\", \"Topic5\", \"Topic5\", \"Topic5\", \"Topic5\", \"Topic5\", \"Topic5\", \"Topic5\", \"Topic5\", \"Topic5\", \"Topic5\", \"Topic5\", \"Topic5\", \"Topic5\", \"Topic5\", \"Topic5\", \"Topic5\", \"Topic5\", \"Topic5\", \"Topic6\", \"Topic6\", \"Topic6\", \"Topic6\", \"Topic6\", \"Topic6\", \"Topic6\", \"Topic6\", \"Topic6\", \"Topic6\", \"Topic6\", \"Topic6\", \"Topic6\", \"Topic6\", \"Topic6\", \"Topic6\", \"Topic6\", \"Topic6\", \"Topic6\", \"Topic6\", \"Topic6\", \"Topic6\", \"Topic6\", \"Topic6\", \"Topic6\", \"Topic6\", \"Topic6\", \"Topic6\", \"Topic6\", \"Topic6\", \"Topic6\", \"Topic6\", \"Topic6\", \"Topic6\", \"Topic6\", \"Topic6\", \"Topic6\", \"Topic6\", \"Topic6\", \"Topic6\", \"Topic6\", \"Topic6\", \"Topic6\", \"Topic6\", \"Topic6\", \"Topic6\", \"Topic6\", \"Topic6\", \"Topic6\", \"Topic6\", \"Topic6\", \"Topic6\", \"Topic6\", \"Topic6\", \"Topic6\", \"Topic6\", \"Topic6\", \"Topic6\", \"Topic6\", \"Topic6\", \"Topic6\", \"Topic6\", \"Topic6\", \"Topic6\", \"Topic6\", \"Topic6\", \"Topic6\", \"Topic6\", \"Topic6\", \"Topic6\", \"Topic6\", \"Topic7\", \"Topic7\", \"Topic7\", \"Topic7\", \"Topic7\", \"Topic7\", \"Topic7\", \"Topic7\", \"Topic7\", \"Topic7\", \"Topic7\", \"Topic7\", \"Topic7\", \"Topic7\", \"Topic7\", \"Topic7\", \"Topic7\", \"Topic7\", \"Topic7\", \"Topic7\", \"Topic7\", \"Topic7\", \"Topic7\", \"Topic7\", \"Topic7\", \"Topic7\", \"Topic7\", \"Topic7\", \"Topic7\", \"Topic7\", \"Topic7\", \"Topic7\", \"Topic7\", \"Topic7\", \"Topic7\", \"Topic7\", \"Topic7\", \"Topic7\", \"Topic7\", \"Topic7\", \"Topic7\", \"Topic7\", \"Topic7\", \"Topic7\", \"Topic7\", \"Topic7\", \"Topic7\", \"Topic7\", \"Topic7\", \"Topic7\", \"Topic7\", \"Topic7\", \"Topic7\", \"Topic7\", \"Topic7\", \"Topic7\", \"Topic7\", \"Topic7\", \"Topic7\", \"Topic7\", \"Topic7\", \"Topic7\", \"Topic7\", \"Topic7\", \"Topic7\", \"Topic7\", \"Topic7\", \"Topic7\", \"Topic7\", \"Topic8\", \"Topic8\", \"Topic8\", \"Topic8\", \"Topic8\", \"Topic8\", \"Topic8\", \"Topic8\", \"Topic8\", \"Topic8\", \"Topic8\", \"Topic8\", \"Topic8\", \"Topic8\", \"Topic8\", \"Topic8\", \"Topic8\", \"Topic8\", \"Topic8\", \"Topic8\", \"Topic8\", \"Topic8\", \"Topic8\", \"Topic8\", \"Topic8\", \"Topic8\", \"Topic8\", \"Topic8\", \"Topic8\", \"Topic8\", \"Topic8\", \"Topic8\", \"Topic8\", \"Topic8\", \"Topic8\", \"Topic8\", \"Topic8\", \"Topic8\", \"Topic8\", \"Topic8\", \"Topic8\", \"Topic8\", \"Topic8\", \"Topic8\", \"Topic8\", \"Topic8\", \"Topic8\", \"Topic8\", \"Topic8\", \"Topic8\", \"Topic8\", \"Topic8\", \"Topic8\", \"Topic8\", \"Topic8\", \"Topic8\", \"Topic8\", \"Topic8\", \"Topic8\", \"Topic8\", \"Topic8\", \"Topic8\", \"Topic8\", \"Topic8\", \"Topic8\", \"Topic8\", \"Topic8\", \"Topic8\", \"Topic8\", \"Topic8\", \"Topic8\", \"Topic8\", \"Topic8\", \"Topic8\", \"Topic8\", \"Topic9\", \"Topic9\", \"Topic9\", \"Topic9\", \"Topic9\", \"Topic9\", \"Topic9\", \"Topic9\", \"Topic9\", \"Topic9\", \"Topic9\", \"Topic9\", \"Topic9\", \"Topic9\", \"Topic9\", \"Topic9\", \"Topic9\", \"Topic9\", \"Topic9\", \"Topic9\", \"Topic9\", \"Topic9\", \"Topic9\", \"Topic9\", \"Topic9\", \"Topic9\", \"Topic9\", \"Topic9\", \"Topic9\", \"Topic9\", \"Topic9\", \"Topic9\", \"Topic9\", \"Topic9\", \"Topic9\", \"Topic9\", \"Topic9\", \"Topic9\", \"Topic9\", \"Topic9\", \"Topic9\", \"Topic9\", \"Topic9\", \"Topic9\", \"Topic9\", \"Topic9\", \"Topic9\", \"Topic9\", \"Topic9\", \"Topic9\", \"Topic9\", \"Topic9\", \"Topic9\", \"Topic9\", \"Topic9\", \"Topic9\", \"Topic9\", \"Topic9\", \"Topic9\"], \"logprob\": [30.0, 29.0, 28.0, 27.0, 26.0, 25.0, 24.0, 23.0, 22.0, 21.0, 20.0, 19.0, 18.0, 17.0, 16.0, 15.0, 14.0, 13.0, 12.0, 11.0, 10.0, 9.0, 8.0, 7.0, 6.0, 5.0, 4.0, 3.0, 2.0, 1.0, -5.553199768066406, -4.712699890136719, -5.418099880218506, -5.940299987792969, -6.154399871826172, -5.938700199127197, -6.191699981689453, -6.314599990844727, -6.315000057220459, -6.32450008392334, -6.3643999099731445, -6.434199810028076, -6.592700004577637, -6.692800045013428, -6.753699779510498, -6.654300212860107, -6.393199920654297, -6.99370002746582, -7.109799861907959, -3.4423999786376953, -6.981500148773193, -7.265900135040283, -7.250500202178955, -7.270500183105469, -7.348400115966797, -7.4558000564575195, -6.518599987030029, -5.59660005569458, -6.5954999923706055, -7.51669979095459, -6.169000148773193, -7.384099960327148, -6.653600215911865, -4.314700126647949, -4.166900157928467, -4.859300136566162, -5.86870002746582, -3.902600049972534, -4.2032999992370605, -4.869800090789795, -6.098400115966797, -5.6504998207092285, -3.1870999336242676, -4.962900161743164, -3.5169999599456787, -4.566500186920166, -5.421899795532227, -3.5181000232696533, -4.249300003051758, -5.401100158691406, -5.230599880218506, -4.014400005340576, -4.870699882507324, -5.204500198364258, -5.21120023727417, -4.557799816131592, -4.982800006866455, -4.941800117492676, -5.395299911499023, -5.269400119781494, -5.166900157928467, -5.284800052642822, -5.1458001136779785, -5.363699913024902, -5.347599983215332, -4.236400127410889, -6.0457000732421875, -3.897200107574463, -6.377500057220459, -5.83650016784668, -6.497600078582764, -6.178100109100342, -6.680200099945068, -6.733500003814697, -6.767099857330322, -6.862299919128418, -6.920400142669678, -6.560999870300293, -6.942800045013428, -6.946700096130371, -7.026400089263916, -7.070700168609619, -7.082699775695801, -7.151400089263916, -5.547900199890137, -7.075900077819824, -5.0894999504089355, -7.243800163269043, -7.275400161743164, -7.288000106811523, -7.30049991607666, -7.321800231933594, -7.323500156402588, -7.380300045013428, -3.072999954223633, -5.536499977111816, -6.102499961853027, -6.7357001304626465, -7.1371002197265625, -6.370100021362305, -5.364099979400635, -6.866000175476074, -7.002500057220459, -6.204899787902832, -3.211199998855591, -6.48199987411499, -5.054299831390381, -4.640399932861328, -4.493199825286865, -5.020599842071533, -5.605100154876709, -5.046000003814697, -5.589399814605713, -5.675899982452393, -4.6427001953125, -5.890200138092041, -5.5945000648498535, -4.945199966430664, -5.866499900817871, -4.791500091552734, -4.962399959564209, -3.392699956893921, -5.482399940490723, -4.314199924468994, -4.915299892425537, -4.462900161743164, -3.7565999031066895, -4.669099807739258, -4.088799953460693, -4.826300144195557, -4.8557000160217285, -4.4710001945495605, -5.100399971008301, -4.975100040435791, -4.890900135040283, -5.021100044250488, -5.167099952697754, -4.908599853515625, -3.9072000980377197, -3.461899995803833, -5.067800045013428, -4.536600112915039, -5.3404998779296875, -5.486000061035156, -5.6331000328063965, -5.735799789428711, -4.2067999839782715, -5.991799831390381, -6.098899841308594, -5.986199855804443, -6.327899932861328, -6.348499774932861, -6.366600036621094, -6.3780999183654785, -6.385900020599365, -6.448699951171875, -6.349899768829346, -6.519899845123291, -5.517399787902832, -6.6483001708984375, -6.656700134277344, -6.661499977111816, -6.700699806213379, -6.724899768829346, -6.516200065612793, -6.752299785614014, -6.791600227355957, -6.789400100708008, -4.966700077056885, -5.151899814605713, -5.841100215911865, -6.44980001449585, -5.885200023651123, -2.467600107192993, -5.245100021362305, -5.879199981689453, -5.596700191497803, -5.405399799346924, -6.286900043487549, -5.450900077819824, -5.234399795532227, -4.513999938964844, -5.687699794769287, -4.7444000244140625, -5.452400207519531, -4.503699779510498, -5.628900051116943, -5.049200057983398, -4.611299991607666, -4.728400230407715, -4.497900009155273, -4.430200099945068, -5.101099967956543, -4.243800163269043, -4.616000175476074, -4.218800067901611, -4.593800067901611, -4.411600112915039, -5.133900165557861, -5.1493000984191895, -5.021500110626221, -5.18779993057251, -5.286799907684326, -5.212399959564209, -5.2403998374938965, -2.1224000453948975, -4.480299949645996, -4.820400238037109, -4.872200012207031, -4.852700233459473, -5.067800045013428, -4.962399959564209, -5.236199855804443, -5.479300022125244, -5.521200180053711, -5.719900131225586, -5.755300045013428, -5.887499809265137, -5.8790998458862305, -5.918700218200684, -6.00600004196167, -6.026299953460693, -5.294600009918213, -6.130300045013428, -6.196199893951416, -6.090799808502197, -6.258800029754639, -6.406300067901611, -6.4608001708984375, -6.470900058746338, -6.587399959564209, -6.690000057220459, -6.7733001708984375, -6.787300109863281, -6.7895002365112305, -4.263700008392334, -4.460899829864502, -4.15339994430542, -5.273200035095215, -5.111100196838379, -5.924799919128418, -3.752700090408325, -4.702300071716309, -4.448599815368652, -4.956699848175049, -4.667399883270264, -4.725500106811523, -4.688199996948242, -4.717100143432617, -4.999499797821045, -4.868100166320801, -3.2862000465393066, -3.6368000507354736, -3.5371999740600586, -4.767099857330322, -4.755000114440918, -4.424900054931641, -4.748899936676025, -4.690800189971924, -4.9369001388549805, -4.965700149536133, -5.030600070953369, -3.811199903488159, -3.461199998855591, -5.253600120544434, -5.101600170135498, -5.402599811553955, -5.134099960327148, -5.593599796295166, -5.829899787902832, -6.093400001525879, -5.076000213623047, -6.371600151062012, -6.389500141143799, -6.384500026702881, -6.042699813842773, -6.4217000007629395, -6.39709997177124, -6.359000205993652, -6.484600067138672, -4.859499931335449, -6.53410005569458, -6.637700080871582, -6.649700164794922, -6.7108001708984375, -6.724400043487549, -6.745200157165527, -6.796000003814697, -6.805099964141846, -6.841899871826172, -6.880000114440918, -6.7846999168396, -4.581999778747559, -6.0619001388549805, -5.151899814605713, -5.860599994659424, -6.409200191497803, -4.604599952697754, -6.642899990081787, -5.122700214385986, -6.120800018310547, -5.584400177001953, -6.0792999267578125, -5.349800109863281, -5.823699951171875, -4.8993000984191895, -3.858099937438965, -4.545300006866455, -5.338399887084961, -5.158100128173828, -5.505099773406982, -5.305099964141846, -4.432499885559082, -3.462100028991699, -3.6285998821258545, -3.821700096130371, -3.940000057220459, -4.990099906921387, -4.952700138092041, -5.232800006866455, -4.485799789428711, -4.6940999031066895, -5.2368998527526855, -4.938899993896484, -5.22130012512207, -5.2378997802734375, -5.277400016784668, -5.275599956512451, -4.935500144958496, -5.073299884796143, -5.422100067138672, -5.466100215911865, -5.704999923706055, -6.005300045013428, -6.354100227355957, -6.383800029754639, -6.353300094604492, -4.933599948883057, -6.580999851226807, -5.295599937438965, -6.662799835205078, -6.696400165557861, -6.738399982452393, -6.747099876403809, -6.084400177001953, -6.782899856567383, -6.804800033569336, -6.866600036621094, -6.882500171661377, -6.883699893951416, -6.9131999015808105, -6.850800037384033, -6.74370002746582, -6.948800086975098, -6.955900192260742, -6.591000080108643, -6.973899841308594, -6.984499931335449, -4.856100082397461, -5.600299835205078, -6.165999889373779, -6.01230001449585, -6.278299808502197, -6.149199962615967, -6.44350004196167, -5.025300025939941, -6.730000019073486, -5.203800201416016, -4.653299808502197, -5.984300136566162, -4.684800148010254, -6.411499977111816, -5.2332000732421875, -3.781899929046631, -5.263700008392334, -4.845900058746338, -4.175099849700928, -4.521399974822998, -5.454800128936768, -4.743500232696533, -4.876399993896484, -4.743299961090088, -5.067699909210205, -3.2846999168395996, -4.376299858093262, -3.7660000324249268, -4.695099830627441, -4.889400005340576, -4.581399917602539, -4.911799907684326, -4.6433000564575195, -4.813000202178955, -4.197999954223633, -4.191999912261963, -4.981599807739258, -4.940800189971924, -4.899099826812744, -4.920199871063232, -5.056399822235107, -4.13040018081665, -4.543600082397461, -4.972400188446045, -5.441100120544434, -5.569200038909912, -5.796500205993652, -6.1203999519348145, -6.197000026702881, -6.426799774169922, -6.55019998550415, -6.589600086212158, -6.605100154876709, -6.643899917602539, -6.731599807739258, -6.76639986038208, -6.77400016784668, -6.798399925231934, -6.797999858856201, -6.874000072479248, -6.920499801635742, -6.9253997802734375, -6.939000129699707, -7.023600101470947, -7.0879998207092285, -7.131100177764893, -7.132900238037109, -6.4807000160217285, -7.1682000160217285, -7.162199974060059, -7.179900169372559, -5.2571001052856445, -6.17710018157959, -6.066199779510498, -6.371200084686279, -7.04580020904541, -6.022799968719482, -5.171800136566162, -4.647299766540527, -4.830999851226807, -6.371600151062012, -5.111100196838379, -2.9784998893737793, -5.275599956512451, -3.388400077819824, -5.021200180053711, -3.6935999393463135, -3.934799909591675, -4.873799800872803, -6.106500148773193, -4.787300109863281, -4.229499816894531, -5.192200183868408, -5.589600086212158, -4.3130998611450195, -6.127500057220459, -5.459400177001953, -3.595400094985962, -5.199399948120117, -5.079400062561035, -3.7697999477386475, -4.968900203704834, -4.962500095367432, -4.07919979095459, -4.038700103759766, -4.87529993057251, -4.815000057220459, -4.5625, -5.149600028991699, -5.256100177764893, -3.903700113296509, -3.873699903488159, -5.817699909210205, -5.981100082397461, -6.063700199127197, -6.0742998123168945, -5.635900020599365, -6.0640997886657715, -6.2129998207092285, -5.802999973297119, -6.177700042724609, -6.333099842071533, -6.333799839019775, -6.3597002029418945, -5.584099769592285, -6.416800022125244, -6.449900150299072, -6.451600074768066, -6.45359992980957, -6.502200126647949, -6.543399810791016, -6.573599815368652, -6.637599945068359, -6.64870023727417, -6.651400089263916, -6.736199855804443, -6.737500190734863, -6.759699821472168, -6.765399932861328, -6.808800220489502, -5.480000019073486, -6.403299808502197, -6.394999980926514, -5.873899936676025, -5.853300094604492, -5.002500057220459, -6.244100093841553, -6.297100067138672, -5.9197998046875, -5.900599956512451, -6.166600227355957, -4.44189977645874, -4.694200038909912, -6.309199810028076, -4.599599838256836, -4.982800006866455, -5.004000186920166, -4.456900119781494, -5.192599773406982, -4.394700050354004, -4.761499881744385, -5.447700023651123, -4.958099842071533, -5.571100234985352, -4.9095001220703125, -5.425099849700928, -4.395400047302246, -5.01039981842041, -5.648499965667725, -4.7399001121521, -4.4369001388549805, -4.494500160217285, -5.441699981689453, -4.260700225830078, -5.023399829864502, -4.778900146484375, -5.434199810028076, -5.35129976272583, -5.05709981918335, -5.252999782562256, -5.157100200653076, -5.232500076293945, -5.3471999168396, -5.275400161743164, -5.3694000244140625, -3.7279000282287598, -4.630300045013428, -4.917200088500977, -5.357999801635742, -5.548399925231934, -4.863999843597412, -5.5879998207092285, -5.591300010681152, -5.673900127410889, -5.782899856567383, -5.790999889373779, -5.942800045013428, -6.0015997886657715, -6.072400093078613, -6.117199897766113, -5.782599925994873, -6.184700012207031, -6.160999774932861, -6.251500129699707, -6.049799919128418, -6.292799949645996, -6.3180999755859375, -6.352499961853027, -6.368000030517578, -6.385200023651123, -6.392199993133545, -6.3933000564575195, -6.4257001876831055, -6.441500186920166, -6.443299770355225, -3.3573999404907227, -4.816199779510498, -5.431700229644775, -5.598700046539307, -5.399499893188477, -5.396399974822998, -5.8105998039245605, -6.0721001625061035, -6.125199794769287, -5.528500080108643, -4.622499942779541, -4.7652997970581055, -6.007400035858154, -5.674900054931641, -4.550899982452393, -5.666200160980225, -5.822000026702881, -5.281799793243408, -4.314199924468994, -5.503900051116943, -3.8282999992370605, -4.66540002822876, -5.021999835968018, -5.388500213623047, -5.140500068664551, -5.452099800109863, -5.478000164031982, -5.623199939727783, -5.647200107574463], \"loglift\": [30.0, 29.0, 28.0, 27.0, 26.0, 25.0, 24.0, 23.0, 22.0, 21.0, 20.0, 19.0, 18.0, 17.0, 16.0, 15.0, 14.0, 13.0, 12.0, 11.0, 10.0, 9.0, 8.0, 7.0, 6.0, 5.0, 4.0, 3.0, 2.0, 1.0, 1.7546, 1.7545, 1.7544, 1.7543, 1.7542, 1.7542, 1.7541, 1.754, 1.754, 1.754, 1.754, 1.7537, 1.7536, 1.7535, 1.7534, 1.7532, 1.7532, 1.753, 1.7527, 1.7526, 1.7525, 1.7524, 1.7524, 1.7523, 1.7521, 1.7518, 1.7518, 1.7517, 1.7516, 1.7516, 1.7497, 1.7515, 1.7307, 1.6525, 1.5848, 1.6103, 1.6523, 1.4787, 1.4294, 1.4647, 1.608, 1.5009, 0.8953, 1.2652, 0.7589, 0.9025, 1.2538, 0.3069, 0.6332, 1.1852, 1.0597, 0.2589, 0.7816, 0.9188, 0.8879, 0.2786, 0.6616, 0.5314, 1.0268, 0.6618, 0.3682, 0.2397, -1.0044, 0.196, -0.5706, 1.9819, 1.9813, 1.9812, 1.9809, 1.9808, 1.9807, 1.9806, 1.9804, 1.9803, 1.9802, 1.98, 1.9799, 1.9799, 1.9799, 1.9798, 1.9796, 1.9795, 1.9795, 1.9793, 1.9792, 1.9791, 1.9791, 1.979, 1.9789, 1.9788, 1.9788, 1.9787, 1.9787, 1.9785, 1.9785, 1.9692, 1.9747, 1.9773, 1.9777, 1.9679, 1.9455, 1.9738, 1.9755, 1.9574, 1.7859, 1.9495, 1.8231, 1.7695, 1.7502, 1.8003, 1.8529, 1.7427, 1.8041, 1.7874, 1.6017, 1.8081, 1.7415, 1.5653, 1.7849, 1.4615, 1.4822, 0.7487, 1.5958, 0.9421, 1.2452, 0.7635, 0.0684, 0.765, 0.1845, 0.8627, 0.8872, 0.3061, 1.1016, 0.9259, 0.7717, 0.7972, 0.8447, -0.0722, 1.9839, 1.9837, 1.9837, 1.9836, 1.9835, 1.9835, 1.9834, 1.9833, 1.9831, 1.9831, 1.9829, 1.9828, 1.9827, 1.9827, 1.9827, 1.9826, 1.9826, 1.9825, 1.9824, 1.9824, 1.9822, 1.9822, 1.9822, 1.9822, 1.9821, 1.9821, 1.982, 1.982, 1.9819, 1.9819, 1.9798, 1.9789, 1.9773, 1.9819, 1.9751, 1.9168, 1.9605, 1.9694, 1.9222, 1.8955, 1.9555, 1.8066, 1.6436, 1.2382, 1.714, 1.2306, 1.5526, 1.0024, 1.5958, 1.2492, 0.9239, 0.9981, 0.7285, 0.4062, 1.0185, -0.1025, 0.2665, -0.3938, 0.1832, -0.1382, 0.8706, 0.8457, 0.2348, 0.6306, 0.9741, 0.3121, 0.3194, 2.1246, 2.1244, 2.1243, 2.1243, 2.1243, 2.1242, 2.1242, 2.1241, 2.124, 2.124, 2.1238, 2.1238, 2.1237, 2.1237, 2.1237, 2.1236, 2.1235, 2.1235, 2.1234, 2.1233, 2.1233, 2.1233, 2.123, 2.1229, 2.1229, 2.1227, 2.1225, 2.1223, 2.1223, 2.1223, 2.1189, 2.1175, 2.1144, 2.118, 2.1142, 2.1174, 1.9799, 2.0026, 1.9727, 1.8952, 1.7609, 1.7613, 1.699, 1.611, 1.7219, 1.6113, 0.7962, 0.6391, 0.2878, 0.9522, 0.8894, -0.1516, 0.5074, 0.1457, 0.8222, 0.6866, -0.1481, 2.2012, 2.2012, 2.2008, 2.2007, 2.2007, 2.2006, 2.2006, 2.2003, 2.2001, 2.1999, 2.1997, 2.1996, 2.1996, 2.1996, 2.1996, 2.1996, 2.1995, 2.1995, 2.1994, 2.1993, 2.1991, 2.1991, 2.199, 2.1989, 2.1989, 2.1988, 2.1987, 2.1986, 2.1985, 2.1985, 2.1806, 2.1934, 2.1749, 2.188, 2.1934, 2.1397, 2.1968, 2.1035, 2.1419, 2.0607, 2.121, 2.0058, 2.079, 1.8716, 1.6109, 1.3372, 1.7035, 1.5946, 1.7345, 1.6245, 1.1027, 0.3629, 0.4539, 0.4517, 0.3359, 1.238, 1.1464, 1.3986, 0.3507, 0.1883, 0.7308, -0.7975, 0.6423, 0.2867, 0.1568, -0.0194, 2.293, 2.293, 2.2928, 2.2927, 2.2925, 2.2921, 2.2917, 2.2916, 2.2914, 2.2912, 2.2911, 2.291, 2.291, 2.2909, 2.2908, 2.2908, 2.2907, 2.2906, 2.2905, 2.2904, 2.2904, 2.2904, 2.2903, 2.2902, 2.2902, 2.2901, 2.2901, 2.2901, 2.2901, 2.29, 2.2895, 2.2895, 2.2899, 2.2879, 2.286, 2.2845, 2.2782, 2.2326, 2.2841, 2.2031, 2.1392, 2.2148, 2.0829, 2.254, 2.1071, 1.8807, 2.0613, 1.9741, 1.7051, 1.6806, 1.9627, 1.7106, 1.7066, 1.6496, 1.7242, 0.8567, 1.3667, 1.011, 1.5126, 1.4737, 1.1707, 1.3491, 0.9893, 1.088, 0.0753, -0.367, 1.1883, 1.0342, 0.8774, 0.0769, 0.9554, 2.4381, 2.4379, 2.4378, 2.4375, 2.4374, 2.437, 2.4367, 2.4365, 2.4361, 2.4358, 2.4357, 2.4355, 2.4355, 2.4352, 2.4351, 2.4351, 2.435, 2.435, 2.4348, 2.4346, 2.4346, 2.4345, 2.434, 2.4339, 2.4337, 2.4337, 2.4336, 2.4335, 2.4335, 2.4335, 2.4283, 2.4327, 2.4264, 2.429, 2.4319, 2.3973, 2.3484, 2.3107, 2.3193, 2.398, 2.2824, 2.0896, 2.2906, 2.0848, 2.2375, 2.0257, 2.058, 2.1623, 2.3331, 2.0392, 1.8199, 2.0399, 2.061, 1.4133, 2.2923, 1.9014, 0.6805, 1.724, 1.552, 0.3716, 1.2917, 1.2354, 0.0032, -0.2137, 0.8302, 0.5663, -0.2891, 0.2846, 0.7116, 2.5308, 2.5306, 2.5297, 2.5294, 2.5293, 2.5293, 2.5293, 2.5292, 2.529, 2.529, 2.5288, 2.5288, 2.5288, 2.5286, 2.5286, 2.5286, 2.5285, 2.5285, 2.5285, 2.5284, 2.5282, 2.5282, 2.528, 2.5279, 2.5279, 2.5276, 2.5276, 2.5276, 2.5275, 2.5274, 2.5267, 2.5271, 2.5256, 2.5189, 2.5163, 2.4778, 2.5156, 2.517, 2.4959, 2.4901, 2.5063, 2.3127, 2.3265, 2.5079, 2.2056, 2.2736, 2.2324, 2.083, 2.246, 2.0151, 2.0751, 2.2355, 2.0418, 2.257, 1.9432, 2.1293, 1.357, 1.7424, 2.1046, 0.9656, 0.3401, 0.388, 1.7411, -0.4357, 0.9694, 0.2892, 1.6469, 1.2347, -0.9158, -0.0266, -0.8812, -0.9592, 0.4293, -1.193, 0.7072, 2.92, 2.9197, 2.9192, 2.919, 2.9187, 2.9187, 2.9187, 2.9187, 2.9185, 2.9183, 2.9183, 2.918, 2.9178, 2.9177, 2.9175, 2.9174, 2.9174, 2.9173, 2.9172, 2.9171, 2.917, 2.9169, 2.9168, 2.9168, 2.9167, 2.9167, 2.9167, 2.9166, 2.9165, 2.9165, 2.9157, 2.9118, 2.9142, 2.9152, 2.9121, 2.9104, 2.9144, 2.9148, 2.9144, 2.8875, 2.7669, 2.7265, 2.8895, 2.814, 2.4988, 2.732, 2.7791, 2.2812, 1.3748, 2.3511, 0.313, 0.561, 1.1916, 1.3824, -1.3155, 0.6837, 0.497, 0.5254, 0.4022]}, \"token.table\": {\"Topic\": [7, 5, 7, 8, 1, 9, 5, 1, 7, 2, 3, 9, 2, 3, 4, 6, 5, 2, 3, 1, 7, 7, 2, 3, 4, 8, 1, 4, 5, 7, 7, 4, 6, 1, 2, 3, 4, 5, 6, 7, 8, 9, 3, 7, 1, 2, 3, 4, 5, 6, 7, 9, 8, 3, 8, 1, 7, 1, 6, 1, 2, 1, 4, 5, 6, 8, 3, 5, 8, 5, 7, 8, 1, 2, 3, 5, 7, 1, 1, 4, 7, 7, 2, 6, 8, 1, 8, 9, 1, 4, 7, 1, 2, 3, 4, 5, 6, 7, 8, 9, 1, 2, 4, 8, 9, 9, 5, 7, 8, 1, 9, 4, 4, 6, 1, 2, 3, 6, 7, 8, 1, 2, 4, 5, 6, 8, 9, 8, 1, 2, 3, 4, 5, 6, 7, 8, 9, 2, 8, 1, 2, 3, 4, 5, 6, 7, 8, 9, 8, 3, 4, 4, 5, 6, 2, 4, 1, 2, 3, 6, 7, 9, 8, 3, 6, 8, 1, 5, 8, 9, 2, 1, 2, 3, 4, 5, 6, 7, 8, 9, 5, 4, 1, 2, 6, 7, 8, 4, 5, 9, 1, 3, 5, 7, 9, 1, 2, 6, 7, 7, 3, 2, 6, 1, 2, 3, 4, 5, 6, 7, 8, 9, 1, 2, 5, 3, 8, 1, 2, 3, 6, 4, 1, 2, 3, 4, 5, 6, 7, 8, 9, 5, 1, 5, 8, 1, 2, 3, 4, 5, 6, 7, 8, 9, 3, 6, 5, 1, 3, 5, 6, 3, 5, 8, 5, 6, 1, 4, 6, 7, 1, 2, 6, 7, 1, 3, 3, 1, 7, 1, 1, 6, 7, 4, 8, 7, 1, 2, 3, 4, 5, 6, 7, 9, 6, 3, 6, 9, 5, 8, 1, 2, 3, 4, 5, 6, 7, 8, 9, 5, 8, 1, 5, 6, 9, 1, 2, 5, 6, 7, 8, 9, 3, 5, 7, 2, 2, 3, 4, 5, 6, 7, 9, 1, 5, 4, 1, 8, 5, 7, 1, 1, 2, 4, 6, 9, 7, 2, 4, 6, 9, 3, 6, 7, 1, 4, 6, 1, 2, 3, 4, 5, 6, 7, 8, 9, 3, 9, 1, 2, 3, 4, 5, 6, 7, 9, 4, 1, 2, 8, 1, 2, 3, 4, 5, 6, 7, 8, 9, 6, 2, 4, 6, 6, 6, 7, 4, 5, 3, 1, 2, 3, 4, 5, 6, 7, 8, 9, 9, 4, 5, 6, 7, 9, 5, 8, 3, 2, 3, 6, 5, 1, 4, 7, 4, 1, 2, 3, 4, 5, 6, 7, 8, 9, 3, 8, 2, 6, 1, 3, 4, 7, 8, 9, 1, 2, 8, 2, 1, 2, 3, 4, 5, 6, 7, 8, 9, 6, 1, 6, 7, 1, 2, 3, 5, 6, 7, 9, 1, 2, 3, 4, 5, 6, 7, 8, 1, 2, 3, 4, 5, 6, 7, 8, 9, 7, 3, 1, 9, 4, 9, 1, 2, 3, 4, 5, 6, 7, 8, 9, 1, 2, 3, 4, 5, 6, 7, 8, 9, 7, 2, 5, 7, 8, 9, 4, 6, 7, 1, 2, 3, 5, 6, 7, 8, 9, 1, 9, 2, 3, 7, 8, 1, 2, 3, 4, 5, 6, 7, 8, 9, 4, 5, 8, 1, 2, 3, 4, 5, 6, 7, 8, 9, 1, 6, 1, 2, 3, 4, 5, 6, 7, 8, 9, 3, 1, 2, 3, 5, 7, 5, 8, 5, 5, 8, 1, 2, 4, 5, 6, 8, 9, 1, 6, 7, 8, 9, 9, 1, 2, 3, 1, 2, 3, 4, 5, 6, 7, 8, 9, 7, 1, 2, 3, 5, 9, 1, 5, 1, 1, 7, 8, 5, 1, 2, 3, 4, 5, 6, 7, 8, 9, 1, 4, 5, 6, 7, 8, 9, 3, 4, 5, 6, 5, 2, 5, 8, 9, 3, 8, 1, 2, 3, 4, 5, 6, 7, 8, 9, 8, 4, 1, 2, 3, 5, 6, 7, 9, 1, 2, 5, 8, 8, 4, 7, 9, 1, 2, 3, 4, 5, 6, 7, 8, 9, 2, 5, 6, 2, 4, 9, 7, 1, 2, 3, 4, 5, 6, 7, 8, 9, 1, 2, 7, 8, 9, 3, 5, 2, 2, 8, 9, 1, 2, 3, 5, 6, 7, 8, 9, 1, 2, 3, 5, 6, 7, 8, 9, 6, 8, 9, 4, 2, 7, 4, 3, 1, 2, 3, 5, 6, 7, 8, 9, 6, 8, 1, 2, 3, 4, 5, 6, 7, 8, 9, 1, 2, 3, 4, 5, 6, 7, 8, 9, 7, 1, 6, 7, 8, 1, 2, 3, 4, 5, 6, 7, 8, 9, 3, 9, 8, 2, 5, 6, 8, 1, 2, 3, 4, 5, 6, 7, 8, 9, 7, 1, 2, 3, 5, 6, 7, 8, 9, 2, 7, 2, 4, 8, 1, 6, 7, 6, 2, 1, 1, 2, 3, 5, 6, 8, 9, 3, 8, 8, 3, 1, 1, 6, 8, 1, 2, 4, 6, 7, 8, 9, 9, 1, 1, 2, 3, 4, 5, 6, 8, 2, 4, 8, 5, 1, 2, 3, 4, 5, 6, 7, 8, 9, 1, 2, 3, 4, 5, 6, 7, 8, 9, 1, 2, 3, 4, 6, 7, 8, 9, 4, 5, 1, 2, 3, 4, 5, 6, 7, 8, 9, 5, 7, 9, 3, 1, 9, 2, 1, 2, 3, 5, 7, 9, 4, 1, 2, 3, 4, 5, 6, 7, 8, 9, 1, 2, 3, 5, 6, 8, 9, 5, 8, 2, 2, 5, 8, 1, 6, 7, 7, 2, 1, 3, 5, 7, 8, 2, 3, 8, 5, 8, 5, 8, 2, 6, 9, 1, 2, 3, 4, 5, 6, 7, 8, 9, 1, 2, 3, 4, 5, 6, 7, 8, 9, 1, 2, 3, 4, 5, 6, 7, 8, 9, 3, 1, 2, 3, 4, 5, 6, 7, 8, 9, 1, 2, 3, 4, 5, 6, 7, 8, 9, 1, 2, 3, 4, 5, 6, 7, 8, 9, 1, 2, 4, 5, 6, 7, 8, 9, 1, 2, 6, 5, 1, 8, 1, 7, 9, 1, 1, 2, 3, 4, 5, 6, 7, 8, 9, 5, 8, 1, 6, 1, 2, 3, 4, 5, 6, 7, 8, 9, 4, 3, 3, 4, 1, 2, 1, 2, 3, 5, 6, 8, 9, 3, 1, 5, 6, 1, 2, 3, 4, 6, 7, 8, 9, 9, 1, 3, 4, 5, 8, 5, 7, 3, 5, 1, 2, 3, 4, 7, 4, 9, 9, 1, 2, 3, 4, 5, 6, 7, 8, 9, 2, 2, 8, 1, 2, 3, 4, 5, 6, 7, 8, 9, 1, 2, 3, 4, 5, 6, 7, 8, 9, 2, 9, 1, 1, 1, 9, 3, 1, 2, 3, 4, 5, 6, 7, 8, 9, 1, 3, 4, 5, 7, 8, 1, 1, 2, 3, 4, 5, 6, 7, 8, 9, 1, 2, 3, 4, 5, 6, 7, 9, 5, 9, 1, 4, 3, 1, 2, 3, 4, 5, 6, 7, 8, 9, 1, 2, 5, 7, 8, 9, 1, 2, 1, 2, 3, 4, 5, 6, 7, 8, 9, 9, 6, 1, 2, 5, 6, 7, 8, 9, 2, 8, 2, 1, 2, 3, 4, 5, 6, 7, 8, 9, 1, 2, 3, 5, 7, 8, 1, 2, 4, 5, 8, 9, 6, 1, 9, 4, 3, 7, 3, 8, 9, 6, 9, 5, 8, 1, 2, 3, 4, 5, 6, 7, 9, 5, 5, 4, 7, 9, 8, 8, 2, 3, 4, 6, 6, 9, 3, 2, 8, 5, 6, 5, 9, 1, 2, 5, 8, 9, 6, 7, 2, 6, 4, 3, 9, 2, 6, 3, 3, 2, 6, 2, 6, 9, 6, 2, 6, 9, 1, 2, 3, 4, 5, 6, 7, 9, 3, 5, 8, 9, 4, 6, 8, 9, 1, 2, 3, 4, 5, 6, 7, 8, 9, 6, 1, 8, 1, 4, 1, 1, 2, 3, 5, 6, 9, 8, 7, 5, 1, 3, 5, 6, 7, 9, 1, 5, 8, 1, 9, 1, 2, 4, 5, 8, 9, 1, 5, 8, 5, 1, 2, 3, 4, 5, 8, 3, 4, 6, 9, 1, 2, 3, 4, 7, 9, 1, 9, 1, 2, 3, 5, 6, 7, 9, 4, 1, 2, 3, 4, 5, 6, 7, 8, 9, 1, 2, 3, 4, 5, 6, 7, 8, 9, 1, 2, 3, 4, 6, 7, 8, 1, 2, 4, 7, 9, 7, 4, 2, 1, 2, 4, 5, 6, 7, 8, 6, 9, 5, 9, 1, 2, 3, 4, 5, 6, 7, 8, 1, 4, 7, 7, 2, 8, 7, 2, 5, 7, 9, 1, 1, 2, 3, 4, 5, 6, 7, 8, 9, 1, 2, 3, 4, 5, 6, 7, 8, 9, 1, 2, 4, 7, 7, 6, 8, 5, 1, 3, 5, 6, 7, 8, 9, 1, 2, 3, 4, 5, 6, 7, 8, 9, 9, 2, 1, 2, 3, 4, 5, 6, 7, 8, 9, 6, 9, 2, 9, 3, 7, 1, 5, 8, 8, 1, 3, 5, 7, 5, 3, 4, 3, 6, 1, 3, 6, 8, 2, 7, 9, 2, 8, 5, 9, 5, 2, 2, 1, 4, 5, 9, 1, 3, 5, 7, 6, 1, 1, 2, 3, 4, 5, 6, 9, 1, 2, 3, 4, 5, 6, 7, 8, 9, 9, 4, 1, 2, 3, 4, 5, 6, 7, 8, 9, 1, 2, 3, 5, 6, 7, 9, 1, 2, 3, 4, 5, 6, 7, 8, 9, 3, 1, 2, 3, 5, 8, 9, 1, 2, 3, 4, 5, 6, 7, 8, 9, 1, 2, 3, 4, 5, 6, 7, 8, 9, 1, 8, 8, 1, 1, 2, 3, 4, 5, 6, 7, 8, 9, 1, 8, 9, 1, 2, 3, 4, 5, 6, 7, 8, 9, 1, 2, 3, 4, 5, 6, 7, 8, 9, 6, 1, 2, 3, 4, 5, 6, 7, 8, 9, 2, 8, 9, 1], \"Freq\": [0.998411531438085, 0.03633937719661273, 0.9596899159650909, 0.0033035797451466124, 0.029269521148653516, 0.9685550634645346, 0.9966222356260763, 0.002707429001061753, 0.996333872390725, 0.000516438396801503, 0.8371466412152364, 0.16164521819887043, 0.8528964326019793, 0.0003531662246799086, 0.0003531662246799086, 0.14621081701748218, 0.9983449793398786, 0.001315917480953717, 0.9981234093033943, 0.18150018653016858, 0.8180435757570561, 0.9976828567073843, 0.9969299885447492, 0.002029029827431647, 0.998829835473864, 0.0006064540591826739, 0.11751310246340214, 0.001531115341542699, 0.0007655576707713495, 0.8800085425516663, 0.9963709041245151, 0.002619315039311268, 0.9953397149382818, 0.05823735788396436, 0.6589630453004874, 0.005138590401526266, 0.09640974372387376, 0.04061933365016001, 0.0880901211690217, 0.03817238583990941, 0.008564317335877111, 0.006117369525626508, 0.9996639565927937, 0.00024707463089292976, 0.03884318766789268, 0.33448300491796473, 0.0010221891491550704, 0.12311700418712182, 0.10040168976145358, 0.39581435386726893, 0.00022715314425668232, 0.0060195583228020814, 0.997252587778855, 0.9989103531117203, 0.9955687763399959, 0.9969477917918843, 0.0014221794462081089, 0.9993846470209479, 0.00023432230879740865, 0.01369336155229883, 0.9859220317655157, 0.00021531524250287802, 0.9943257898782907, 0.0040909896075546825, 0.00043063048500575603, 0.0008612609700115121, 0.18177006271840976, 0.0028528933610512744, 0.8151123888717927, 0.008256544681495033, 0.8636345736843806, 0.12715078809502353, 0.21703208521263925, 0.025196337069541233, 0.1448789381498621, 0.028632201215387766, 0.5846695488182182, 0.9988073587298639, 0.006337916064460082, 0.003168958032230041, 0.9902993850718879, 0.9955300543492355, 0.0026485376705366816, 0.924339647017302, 0.07283478593975876, 0.0006528346189997454, 0.17495967789193176, 0.8238772891776787, 0.006285527116503618, 0.9928513874443841, 0.0005237939263753015, 0.0831595606646394, 0.0009558570191337863, 0.00047792850956689315, 0.6953859814198295, 0.0007168927643503398, 0.0019117140382675726, 0.1010818797733979, 0.11016252145516887, 0.006213070624369611, 0.009597836394386616, 0.0001919567278877323, 0.9897288889891478, 0.0001919567278877323, 0.0001919567278877323, 0.9988486123997694, 0.9069381337817779, 0.0740766246135227, 0.018519156153380675, 0.9988466619609939, 0.9976192697191022, 0.9977612967557863, 0.9995614463794172, 0.9995922585355002, 0.002041318376926481, 0.059052424475373205, 0.00014580845549474865, 0.04534642965886683, 0.6835500393593817, 0.20981836745694332, 0.07771336967598323, 0.2988264095874117, 0.060135345582606074, 0.0034693468605349657, 0.5583335547554271, 0.00023128979070233106, 0.0011564489535116553, 0.9976429532482892, 0.03490373486289534, 0.3533654117519524, 0.1738904070869446, 0.1984626364304229, 0.1085506154236045, 0.0033507585468379526, 0.08369915620122302, 0.029179522345380505, 0.014589761172690252, 0.00022004338032040685, 0.9996570767956083, 0.6058571009348414, 0.009813788199992665, 0.020782139717631525, 0.3094229691291805, 0.000288640829411549, 0.01731844976469294, 0.029441364599977995, 0.003752330782350137, 0.003752330782350137, 0.9982282275617851, 0.9985842650402184, 0.9992947748100983, 0.9985634300148309, 0.013400185372211406, 0.9849136248575383, 0.9983835589783205, 0.0012718261897813, 0.044967456383334894, 0.8366313595530992, 0.0011833541153509182, 0.10176845392017897, 0.0029583852883772956, 0.012425218211184641, 0.9985106792374605, 0.9721421643236878, 0.0138284802890994, 0.0138284802890994, 0.0034737576099144922, 0.00019298653388413845, 0.0007719461355365538, 0.9954245417743862, 0.9985268588067217, 0.00043170145684748475, 0.679498093077941, 0.030650803436171416, 0.0423067427710535, 0.12907873559739794, 0.10317664818654886, 0.0008634029136949695, 0.0008634029136949695, 0.013814446619119512, 0.9972456889425273, 0.9995363182030687, 0.0271044532414423, 0.01742429136949862, 0.0064534412479624525, 0.0006453441247962452, 0.9480105193256843, 0.16968675605168435, 0.0016160643433493747, 0.8290410081382292, 0.4826949058008085, 0.0015679184875200276, 0.3097758954628854, 0.20427738008832358, 0.0015679184875200276, 0.8653037873379205, 0.0011744079632707934, 0.13223833666429133, 0.0014092895559249519, 0.9978720553671522, 0.9993490187339783, 0.9984582159790057, 0.9975933773044905, 0.05674268693277796, 0.3449816119655396, 0.04386244511368112, 0.0008702866093984349, 0.1794530988579573, 0.33105702621516464, 0.04090347064172644, 0.0017405732187968698, 0.000348114643759374, 0.003964939123697699, 0.0019824695618488493, 0.9912347809244246, 0.9990477800136566, 0.0007103076999741604, 0.9024842915651351, 0.0007106175524134922, 0.08584260033154986, 0.010943510307167779, 0.9986339686539017, 0.0029975208259727147, 0.792844258469783, 0.12477180438111425, 0.04102856630550153, 0.015362294233110163, 0.0014987604129863574, 0.016673709594473226, 0.002248140619479536, 0.002248140619479536, 0.9978813956678112, 0.002782182027747613, 0.9400683940422768, 0.05688016590061787, 0.025316120403040085, 0.001406451133502227, 0.0675096544081069, 0.004219353400506681, 0.006329030100760021, 0.0007032255667511135, 0.8628577704036162, 0.0007032255667511135, 0.030941924937048993, 0.9946739363947223, 0.004550200989911813, 0.9975037270256878, 0.9019728081840928, 0.027556546300706263, 0.06721108853830796, 0.0020163326561492387, 0.4026826513411727, 0.0002212542040336114, 0.5969438424826835, 0.9998373826287487, 0.00010478279004702879, 0.997514028645939, 0.0005253184273035029, 0.00183861449556226, 0.9964212754184043, 0.9964573683238357, 0.001131052631468599, 0.001131052631468599, 0.0005655263157342995, 0.9965978834057221, 0.0015355899590226844, 0.9996015876673214, 0.004756375378255885, 0.9940824540554801, 0.9994556585763543, 0.32789877434624837, 0.0010068539642157062, 0.6709003581557322, 0.9999856859044464, 0.9960447325674284, 0.9976439570916295, 0.014139760770880253, 0.20491776378721846, 0.09723804714743806, 0.0352406345366554, 0.0352406345366554, 0.5251289615523835, 0.030237334571574695, 0.05786425177006381, 0.9964278708875994, 0.0014354776669730895, 0.9976569785462972, 0.0007177388334865447, 0.01125153017304906, 0.9885272937750246, 0.13970480889168818, 0.14575605296797597, 0.0689315629559742, 0.0021047805482740213, 0.028940732538767795, 0.5559251623128759, 0.007103634350424822, 0.04183251339694617, 0.009997707604301602, 0.2384993369713359, 0.7602737485063275, 0.7220449808303041, 0.0030513240491490527, 0.27136441877098905, 0.0034581672557022596, 0.0015811580600783577, 0.02767026605137126, 0.14309480443709138, 0.0007905790300391788, 0.06245574337309513, 0.7439348672668673, 0.019764475750979473, 0.13945526973759928, 0.4481899065032151, 0.4120143810861349, 0.9987407783180126, 0.8337662791722856, 0.08444470321480715, 0.014352261811212283, 0.0003337735304933089, 0.04439187955561008, 0.020693958890585153, 0.0020026411829598533, 0.020149569973788164, 0.979458002944609, 0.9987556204061003, 0.8632842401491323, 0.1359247913261989, 0.09769138655870956, 0.8994344900405328, 0.9991945935438925, 0.0005943839368085817, 0.019317477946278905, 0.8850376819079782, 0.0005943839368085817, 0.0942098539841602, 0.9942641880299543, 0.0547681262184815, 0.003100082616140462, 0.9408750739986304, 0.0010333608720468207, 0.005983293608938419, 0.9902350922793084, 0.9968078400662254, 0.4013361862182375, 0.598446334414074, 0.9993811309635382, 0.020058956222393877, 0.07073421404738893, 0.2673119850268489, 0.020903543852810458, 0.0019003221684373145, 0.4404524492622487, 0.022803866021247773, 0.05679851814551529, 0.09923904657394865, 0.002911467412020376, 0.9957218549109687, 0.0119574160646305, 0.7869272464155478, 0.021975791686347945, 0.005493947921586986, 0.016158670357608783, 0.12829984263941374, 0.02326848531495665, 0.005817121328739162, 0.999146885691681, 0.0042540532455242796, 0.01914323960485926, 0.9763052198478221, 0.4332712011807151, 0.04419100441490422, 0.0006645263821790109, 0.10001122051794113, 0.2101564683641122, 0.050836268236694335, 0.05881058482284246, 0.0951934042471433, 0.006811395417334862, 0.9973737255744779, 0.0027706482983251876, 0.0013853241491625938, 0.996048063247905, 0.9959798541280507, 0.9961939272526229, 0.9992167391963832, 0.07557296616682721, 0.9227856921423112, 0.9991092100933333, 0.1725684932742484, 0.15248359840487097, 0.10931261747873794, 0.27183866331829765, 0.09730785272922501, 0.035783433387971235, 0.06394845837721311, 0.08391792281630674, 0.012581916900931822, 0.9974470075613187, 0.0021110357405804444, 0.03166553610870666, 0.9605212619641021, 0.0021110357405804444, 0.0021110357405804444, 0.22648073525956053, 0.7728203676966325, 0.9998338716501567, 0.9989425655910024, 0.0009040204213493234, 0.998727228326256, 0.9983330788458578, 0.02839507070440327, 0.3095728216249591, 0.6618491675514622, 0.9994591705692292, 0.13266055277121652, 0.12727157612450332, 0.214641793247811, 0.08198124047659447, 0.054807039087849174, 0.035314995897609926, 0.03451238235448243, 0.3091208731816765, 0.00963136251752998, 0.9908536296589573, 0.00754936098787777, 0.005724273215173104, 0.9922073572966714, 0.005380366246994058, 0.23011412564066894, 0.0004138743266918506, 0.7586316408261622, 0.0004138743266918506, 0.004966491920302207, 0.007034331633169591, 0.9930131488824405, 0.9952494498019389, 0.9984415484489695, 0.021942508324992456, 0.5941501607655285, 0.26368841900896106, 0.052586356158171574, 0.007188063071980287, 0.004161510199567535, 0.028752252287921148, 0.015132764362063763, 0.012673690153228402, 0.9991683672256166, 0.00199681757998235, 0.00199681757998235, 0.9944151548312102, 0.0019794488869940823, 0.047506773287857976, 0.0019794488869940823, 0.05740401772282838, 0.0019794488869940823, 0.019794488869940823, 0.8689780613904021, 0.018233910279829835, 0.012708482922305642, 0.15305433780342012, 0.002210170943009677, 0.0011050854715048384, 0.7928988258047216, 0.015471196601067739, 0.004420341886019354, 0.3351051309423551, 0.07214640564821588, 0.05825230470312438, 0.2907469271843222, 0.15479057645494534, 0.02737652482514326, 0.023671431239785524, 0.03458087346333885, 0.003190497254058049, 0.9979715297621532, 0.9991566884632893, 0.9986706121038477, 0.0012561894491872297, 0.9984078048045261, 0.996251153871337, 0.1777032894346204, 0.08115860740206392, 0.12132683277327355, 0.12684702748803042, 0.06917861036152771, 0.2426536655465471, 0.04803743911352264, 0.122266440384296, 0.010922938478135955, 0.42325938870159413, 0.015216617492841604, 0.008482454857711702, 0.2648986475030426, 0.17420329047478664, 0.0016619568041827, 0.08758728196588828, 0.024130749442548814, 0.0005395963649943832, 0.9982749582994757, 0.001298834762323275, 0.5385834814433847, 0.005628283970067525, 0.41302945441880146, 0.0415627123943448, 0.002916001719086143, 0.9963005873544323, 0.9972036187914511, 8.757326907274988e-05, 0.003969988197964661, 0.9349614117103686, 0.03911606018582828, 2.9191089690916626e-05, 0.0003502930762909995, 0.018740679581568474, 0.0027731535206370794, 0.004481145691295155, 0.9948143434675245, 0.02010519269595985, 0.9768181426915128, 0.0024518527677999816, 0.0004903705535599964, 0.09599233945918807, 0.3263954771073065, 0.04821139919026486, 0.0017218356853666021, 0.15744035048070867, 0.04444488362852542, 0.0937324301221444, 0.018940192539032622, 0.2131847807944524, 0.9935050344631147, 0.005312861146861576, 0.0011806358104136836, 0.22267524641483055, 0.13235476116054742, 0.016095403116006272, 0.07914681697540274, 0.16361442836931994, 0.29956072576236464, 0.021017137953132155, 0.0566664605571791, 0.008779310790548875, 0.0017119873550992793, 0.9963766406677806, 0.128739116595845, 0.08764442683502442, 0.05800533643230869, 0.09291763923796158, 0.09019011558126994, 0.2560235539081211, 0.006546056776059915, 0.10255488949160534, 0.17747087259540215, 0.9976658719711239, 0.7479541272126777, 0.00020520003490059747, 0.012312002094035848, 0.00020520003490059747, 0.23905804065919603, 0.999106740244069, 0.9969064560183792, 0.9972431112259952, 0.9982748437082503, 0.0013826521381000696, 0.061393339553404334, 0.11139410063298105, 0.009810275908018218, 0.001265842052647512, 0.8101389136944077, 0.005063368210590048, 0.000632921026323756, 0.20241982701332942, 0.10926642403455843, 0.6712080333551446, 0.014602425331807348, 0.0020141276319734273, 0.9991658456534387, 0.023391103824323713, 0.9673892224488163, 0.008353965651544183, 0.23500705746766523, 0.14751135215276026, 0.09275145420395818, 0.15932427346529893, 0.15905731479156923, 0.06990980268296182, 0.07051045969885363, 0.0514729692785053, 0.014465823132727424, 0.9995540530258139, 0.0509704984390905, 0.0003720474338619745, 0.37762814536990413, 0.5617916251315814, 0.009301185846549362, 0.9981386445365855, 0.9983293608643438, 0.9992404023056897, 0.007246547269483123, 0.9903614601626936, 0.9975424705218543, 0.9987692396516588, 0.223984816532843, 0.16567666275382437, 0.1197511545354038, 0.10266623850875588, 0.17382726489497752, 0.10880531383943212, 0.06538768320290483, 0.030486386854890104, 0.009404540932099775, 0.331843277075113, 0.6533029313995053, 0.0006489764219200385, 0.0017306037917867692, 0.011681575594560692, 0.00021632547397334615, 0.0008653018958933846, 0.9974609935514172, 0.9986251415120398, 0.995105700811308, 0.0025128931838669395, 0.9972656505211154, 0.9995758069814158, 0.0001827044063208583, 0.14142478940205722, 0.8579770557058137, 0.9956963247387683, 0.0037844786193035667, 0.03144793036678558, 0.27823142603456086, 0.38085098828407166, 0.03409617713451489, 0.012579172146714232, 0.2123562876872942, 0.01671705772129128, 0.009765409956001838, 0.02416525175552997, 0.9950402166664148, 0.9993745882970554, 0.24986057794125982, 9.226756940223774e-05, 0.3463724555360005, 0.33336272825028496, 9.226756940223774e-05, 0.06910840948227608, 0.0010149432634246152, 0.11390649415229205, 0.0006190570334363698, 0.13247820515538314, 0.7521542956251893, 0.9982663281933887, 0.9927075135843563, 0.004527742365265023, 0.0011319355913162557, 0.14877774757380632, 0.17363811194014434, 0.22528103379392897, 0.01819676154649483, 0.21028792744928182, 0.015121252552721056, 0.14198599854588925, 0.0037162400341433106, 0.06291978816428846, 0.9959771837571556, 0.0015791882178341533, 0.9964677654533507, 0.007374387567309501, 0.0014748775134619003, 0.9896428115329351, 0.9960859810105233, 0.16277494583441135, 0.007630075585988032, 0.0016955723524417847, 0.0008477861762208924, 0.14158029142888903, 0.0025433585286626773, 0.029672516167731235, 0.6527953556900872, 0.0008477861762208924, 0.77563527781909, 0.0009289045243342396, 0.21968592000504766, 0.0004644522621671198, 0.0027867135730027187, 0.9987963308118932, 0.9978488774427068, 0.9977784424188892, 0.013919239815031325, 0.9836262802622137, 0.9958613104162909, 0.10736259325805607, 0.0022343931999595436, 0.37314366439324376, 0.12266818667777894, 0.00011171965999797717, 0.3587318282535047, 0.028711952619480133, 0.006926618919874584, 0.015098163083476408, 0.414480524648769, 0.0008987001835402623, 0.022108024515090453, 0.5417364706380702, 0.0010784402202483148, 0.0012581802569563672, 0.0032353206607449443, 0.9961192727938025, 0.9982339509006461, 0.0015124756831827971, 0.9979895173248806, 0.9976525723941901, 0.9994311807494989, 0.9996977082468422, 0.9989852412647843, 0.4989178308457957, 0.014136986942501886, 0.07088128175337752, 0.28254339180916965, 0.010995434288612578, 0.10347489053747909, 0.0029452056130212264, 0.016296804392050786, 0.9978453697303069, 0.9978304637514129, 0.04706028813747866, 0.2910656692640921, 0.3283893460627821, 0.09338295420383697, 0.05768204596161177, 0.15460558610682643, 0.0019178173849129234, 0.02153856447671437, 0.004425732426722131, 0.027116755916635753, 0.19144429677144842, 0.1820438213870147, 0.014643048194983306, 0.005604129556104722, 0.45809239661836665, 0.008315805147768297, 0.07972326239490911, 0.033263220591073187, 0.9978565019410875, 0.9993032764224595, 0.9979331530501978, 0.9961954331708683, 0.9983600204405971, 0.32564844156136535, 0.06456284193221346, 0.17951736629515008, 0.10304114281592103, 0.13359320194455776, 0.023682649607575323, 0.03213730747965089, 0.11730837797504856, 0.020560190734365595, 0.9986575899770483, 0.9973647462713309, 0.998135522638385, 0.9989134541561204, 0.00013004992242626227, 0.0009103494569838358, 0.9960022885461839, 0.2284637824341376, 0.12817827472308843, 0.2064431768983171, 0.13822517599880654, 0.15712619575038578, 0.05073914525545305, 0.05339996842436469, 0.029727817473357662, 0.007753088199070131, 0.9978224729128522, 0.35615589001372205, 0.0010146891453382395, 0.008117513162705916, 0.627077891819032, 0.005580790299360317, 0.0005073445726691198, 0.0010146891453382395, 0.0005073445726691198, 0.9965871392076672, 0.002565217861538397, 0.002500603968200378, 0.9897390506137096, 0.007501811904601134, 0.9992735453452906, 0.9958775580223422, 0.9994728804210132, 0.9962049495805824, 0.9966083983773073, 0.9969733396606687, 0.15621726046109363, 0.0002638805075356311, 0.24540887200813694, 0.32378138274621937, 0.0002638805075356311, 0.2736440863144495, 0.0005277610150712622, 0.27763315304012526, 0.7221747578487518, 0.9975527124863147, 0.9973752052467252, 0.9970619151003757, 0.019654314213583886, 0.0024567892766979857, 0.9778021321257984, 0.8434182652914779, 0.0008020551361282904, 0.05075863218640466, 0.0008020551361282904, 0.0050414894270921105, 0.0979653059128126, 0.001031213746450659, 0.9978620927439198, 0.999379929357887, 0.08820051443309956, 0.0035280205773239827, 0.2615775256615924, 0.0002520014698088559, 0.0007560044094265676, 0.007056041154647965, 0.6388237259654497, 0.9985132546873203, 0.9985916116976395, 0.998119265747505, 0.9988068786930305, 0.019470981102519512, 0.808266976903452, 0.09425724942810582, 0.03518052267387048, 0.010620535146828824, 0.003982700680060809, 0.01924971995362724, 0.005752789871198947, 0.0030976560844917403, 0.007450552892869133, 0.14293599165242782, 0.4743136595491149, 0.018912941958821643, 0.010660021831335836, 0.32541722558239183, 0.003897212282423854, 0.0064189378769334065, 0.009972278487378685, 0.19166506510037895, 0.0038740811030927662, 0.10276509873467127, 0.5982396819196935, 0.011214445298426428, 0.010194950271296754, 0.005301374141074311, 0.07666602604015157, 0.9982683059590435, 0.9986882229705206, 0.21030118882997334, 0.12576464979490312, 0.18921433401473772, 0.1256700899078393, 0.13597711759779751, 0.04548330567770557, 0.10968946899405085, 0.05191337799804648, 0.00586271299795789, 0.013159413431083884, 0.01809419346774034, 0.9672168871846655, 0.9988803591583925, 0.007409449823790632, 0.9913843864231866, 0.9966573398801234, 0.12607192431047523, 0.0007715540043480737, 0.23624983613138018, 0.017437120498266467, 0.5388533166366947, 0.08055023805393889, 0.9970634971819037, 0.37778209201067575, 0.03568287744417146, 0.054354150525423965, 0.23733262672169853, 0.14076065317366473, 0.07354407008115571, 0.021264505453648688, 0.05756975866719523, 0.0017633980132294035, 0.0007983588675928568, 0.0003991794337964284, 0.1333259308880071, 0.003991794337964284, 0.06307035053983569, 0.613139610311314, 0.1852192572815428, 0.25789424560094504, 0.7418252123462478, 0.9973653890853039, 0.13012450737747128, 0.8690186399127029, 0.0007609620314472004, 0.08494005367876108, 0.22880248693648253, 0.6856422351006299, 0.9929427156876568, 0.9989739095122109, 0.036427268285491234, 0.07088549504203699, 0.8850841672609897, 0.005907124586836417, 0.000984520764472736, 0.0009049819691056459, 0.9936702020779993, 0.0036199278764225836, 0.9984358819750085, 0.001052092604820873, 0.9865389178269454, 0.012531094799187528, 0.9640444120367861, 0.035362802924599944, 0.0005440431219169222, 0.07003498743627706, 0.0077816652706974515, 0.10083741246612114, 0.1241824082782135, 0.058362489530230884, 0.5657919123902939, 0.0006484721058914543, 0.05090506031247916, 0.02139957949441799, 0.0006288471250983814, 0.29796872944244973, 0.00010480785418306357, 0.031023124838186814, 0.006498086959349941, 0.6617567913118634, 0.0003144235625491907, 0.0003144235625491907, 0.0013625021043798264, 0.11258632613820409, 0.12887464995152137, 0.22016086033384902, 0.12744270939650446, 0.08341053732973466, 0.004474814234427825, 0.30034953141479565, 0.000894962846885565, 0.0220160860333849, 0.9983805787120451, 0.13418832397284364, 0.3205362290248325, 0.015900499075408938, 0.09570020004264818, 0.13240509043167628, 0.2622839333466988, 0.02823453106848316, 0.009807784476420466, 0.000743013975486399, 0.10618309019452557, 0.16077292429453321, 0.0029965780054896788, 0.012246884022436079, 0.11400025020884648, 0.5551486470170227, 0.00026057200047736336, 0.04651210208520936, 0.0018240040033415436, 0.060019434291503325, 0.13237619674292678, 0.0010003239048583887, 0.06802202553037044, 0.00033344130161946293, 0.7265685962288098, 0.0006668826032389259, 0.00033344130161946293, 0.010336680350203352, 0.15012028214112777, 0.11277508880060091, 0.05065635136289287, 0.06433726377476905, 0.02810133360277269, 0.48955481171146104, 0.08430400080831807, 0.020336491423059183, 0.0014651021609413237, 0.0029302043218826473, 0.9948043672791588, 0.9992869304766537, 0.0027245366092445208, 0.9944558623742501, 0.9994544363108138, 0.0004743495188945485, 0.9997402911800759, 0.9983623659418354, 0.16000115965924108, 0.16477222725291388, 0.08417526397408423, 0.15676364950639168, 0.11535759860415998, 0.0500962097335643, 0.11331285534972878, 0.06457980778578527, 0.09116147009339082, 0.8226252948304096, 0.17717206834643862, 0.9944286474731372, 0.004001724939529727, 0.3350922987010257, 0.035373900599371774, 0.07828874900093521, 0.17289336688297602, 0.1933224800198225, 0.12230046253736289, 0.007815164085907718, 0.04990736363632297, 0.0049358931068890855, 0.9989532783151664, 0.9988507259704351, 0.9397637965157539, 0.05902870384966905, 0.01191565593966462, 0.9870135003355526, 0.26858831187233145, 0.011875680701798001, 0.4795795723409427, 0.034241546023517574, 0.16091547350936292, 0.04433587462004587, 0.00039585602339326675, 0.9990375334341314, 0.007003673024065183, 0.9917201002076299, 0.999598621087398, 0.0032442223353330007, 0.015572267209598404, 0.0006488444670666001, 0.010381511473065602, 0.8571235409949788, 0.09083822538932401, 0.021087445179664505, 0.0009732667005999002, 0.9983599577128808, 0.013989793696192923, 0.9858141291250613, 0.9993992159906417, 0.03289092187163068, 0.9653485569323604, 0.01065630773532122, 0.9874845168064331, 0.0016936774677336881, 0.9979994478620757, 0.15988245434884946, 0.019090442310310384, 0.7636176924124154, 0.05548159796433955, 0.002386305288788798, 0.9965814900918415, 0.9988356046064892, 0.9991354693617782, 0.0014545857554001222, 0.8217332047080764, 0.023650486911876063, 0.0393815624887959, 0.001508459301896423, 0.10898618456201657, 0.001562332848392724, 0.00032324127897780493, 0.0014545857554001222, 0.9976734513193815, 0.9972064169167548, 0.9963499715583949, 0.015040464449311494, 0.0700455915782221, 0.4706949160041673, 0.022632317933249674, 0.032659294232790674, 0.28390667179557505, 0.007448610965373311, 0.009024278669586897, 0.08866711899165537, 0.06332370509013341, 0.2912295200475731, 0.12412911388239456, 0.001625445792263005, 0.04983937309516285, 0.23768138331372562, 0.12657872937214304, 0.031845001366730144, 0.0737402943222414, 0.9969940543629127, 0.9964171315948153, 0.9959525318434427, 0.9987713757513206, 0.0008732716651659682, 0.9981495132847017, 0.9972921721247283, 0.002290850693032662, 0.6063881784457457, 0.015348699643318836, 0.0826997100184791, 0.008247062494917584, 0.2767347637183456, 0.005956211801884922, 0.0006872552079097986, 0.0016035954851228635, 0.13076567699154784, 0.0017750996876680703, 0.005325299063004212, 0.004141899271225498, 0.8555980494560099, 0.0017750996876680703, 0.9995274833302737, 0.06368322965314771, 0.30567950233510904, 0.25828448334324716, 0.09234068299706419, 0.04029188953054923, 0.20047970565808232, 0.006123387466648819, 0.01249171043196359, 0.020574581887940032, 0.0425343037466336, 0.8402531325042524, 0.030496293252303335, 0.0008025340329553508, 0.033706429384124735, 0.04815204197732105, 0.0024076020988660525, 0.0016050680659107017, 0.9977477986617553, 0.9987349748278604, 0.9753396076144384, 0.022311690370264932, 0.9990697735208023, 0.23175342551548828, 0.030875045175583142, 0.07394763906250777, 0.0958651094031995, 0.085001667582161, 0.0017152802875323968, 0.31770802659072284, 0.11435201916882645, 0.04879019484536595, 0.01811583409641188, 0.061843709501544004, 0.017803492129232365, 0.08714340884308473, 0.803968223520072, 0.01093196885128303, 0.9987554960012097, 0.9979235743286776, 0.12954057598652657, 0.07863440013232624, 0.08062514443947373, 0.21656454141326015, 0.2297887714535971, 0.015499366391362675, 0.177887223445823, 0.02118720726892696, 0.05019519574450481, 0.9988230116388179, 0.9978773922001213, 0.11398436728922279, 0.17792681723195752, 0.03127619834155503, 0.0020850798894370024, 0.004865186408686339, 0.6693106445092777, 0.0006950266298123341, 0.9979029493144405, 0.9946986219990418, 0.9989031760822014, 0.10694634847085974, 0.34770865037665094, 0.06863720872010401, 0.10641427708543257, 0.041634585909675496, 0.20963612585830216, 0.03192428312562977, 0.052808085003645915, 0.034451622206408794, 0.0023733071733789894, 0.0006780877638225683, 0.0813705316587082, 0.2793721586948982, 0.002034263291467705, 0.6340120591741014, 0.3214677748027025, 0.00030213136729577303, 0.6683145844582499, 0.0042298391421408225, 0.0054383646113239145, 0.00030213136729577303, 0.9969572311742719, 0.9973941078599019, 0.9969303674178046, 0.9997833342572702, 0.037483900370683255, 0.9605249469987585, 0.001214616449448229, 0.9972001049969961, 0.998998517048086, 0.99525513686888, 0.995979496057482, 0.9737187756850237, 0.025463936146396297, 0.05586524176058093, 0.7860239515713737, 0.003910566923240665, 0.01731822494578009, 0.019552834616203326, 0.11173048352116186, 0.005027871758452283, 0.0011173048352116186, 0.9998688018317538, 0.9992340158334346, 0.9966192634819796, 0.9983392070819218, 0.9969505059555547, 0.9998307139214064, 0.9971562939307554, 0.9751950066375693, 0.0012764332547612162, 0.01021146603808973, 0.012764332547612164, 0.0030690839907277817, 0.9943832129958013, 0.9992780998423634, 0.012247362471679325, 0.9871374152173535, 0.008372120236689502, 0.991259036024037, 0.9991188237554036, 0.995999642504515, 0.018881669227953816, 0.00041959264951008476, 0.32140796952472495, 0.0029371485465705936, 0.6562429038337726, 0.9978725502820559, 0.996233074766581, 0.2812061323789999, 0.7181665234248165, 0.9986516328959514, 0.0021853170892796596, 0.9965045927115248, 0.0019993686550428364, 0.9976849588663753, 0.9984146241187726, 0.99866464087497, 0.08575568883819544, 0.9133280706333682, 0.6835309659595296, 0.31616823281420214, 0.00018752564223855408, 0.9970493735504461, 0.006614523497502768, 0.000826815437187846, 0.9913517091882273, 0.1538786274632177, 0.268593463701229, 0.32032474017034496, 0.03361071634999058, 0.15227115842039207, 0.06356809396628652, 0.0075989445660848256, 0.0001461335493477851, 0.9153026391878496, 0.0021574605520043597, 0.08144413583816458, 0.0010787302760021798, 0.003140751015422236, 0.010992628553977826, 0.9846254433348711, 0.9963678447121707, 0.16983233809247975, 0.18578492710591582, 0.3747065992425635, 0.03871639580788984, 0.07348945500571682, 0.11561145970411549, 0.025631687965408552, 0.013891299421812327, 0.00224053216480844, 0.9976854732744597, 0.0027515458969390666, 0.996059614691942, 0.20483264351486974, 0.7948883594551835, 0.9991463856755899, 0.42635349515569165, 0.0001727176403304402, 0.019344375717009303, 0.5540781901800522, 8.63588201652201e-05, 8.63588201652201e-05, 0.9966799620237455, 0.999359345771951, 0.9992248996023896, 0.5656638841398404, 0.36083179170282864, 0.04804051652517543, 0.007918766460193752, 0.017421286212426255, 0.9952138180196634, 0.0003117664810642529, 0.5452795753813783, 0.4545555293916807, 0.09909004506821831, 0.8988882659759804, 0.17399478628977186, 0.023084456794880623, 0.006546338494070624, 0.23566818578654247, 0.5554051396022025, 0.005168161969003124, 0.06827172734229733, 0.6077848897545982, 0.3238744138555325, 0.9973377805178972, 0.9983676913318742, 0.9976722257354598, 0.9988648696492458, 0.9991001820240817, 0.0012801155385349715, 0.9984901200572778, 0.028052327137709197, 0.14138372877405433, 0.829787836733438, 0.0005610465427541839, 0.05797383275191788, 0.0009995488405503082, 0.6781938883133842, 0.12144518412686246, 0.07796480956292405, 0.06297157695466943, 0.9983329551178742, 0.9975170150927307, 0.00011376995532092716, 0.9962266137676986, 0.00011376995532092716, 0.0009101596425674173, 0.0022753991064185432, 0.00017065493298139072, 0.00011376995532092716, 0.9987192002730543, 0.12983316574037254, 0.00011240966730768185, 0.0007868676711537729, 0.8652172092672271, 0.0004496386692307274, 0.00011240966730768185, 0.002135783678845955, 0.000674458003846091, 0.000674458003846091, 0.16848367019598604, 0.15612090738290396, 0.17734547362837233, 0.03544721372954512, 0.01695777200024535, 0.002406909574228372, 0.20021111458354185, 0.20896351303528138, 0.03402494898113744, 0.001269010249201548, 0.8229531466072039, 0.005076040996806192, 0.057105461214069654, 0.1072313660575308, 0.006345051246007739, 0.9985663652387213, 0.29414908934697115, 0.00017343696305835562, 0.0033820207796379344, 0.7021595449417527, 8.671848152917781e-05, 0.9942407304210984, 0.9977421657921854, 0.9966049728295449, 0.009467268580344492, 0.8785625242559688, 0.0006311512386896328, 0.03976252803744686, 0.05364785528861878, 0.009467268580344492, 0.008204966102965226, 0.004601013447808467, 0.9938189047266288, 0.9978459838144832, 0.9962709292066831, 0.7585369977471177, 7.911316205122212e-05, 0.0003955658102561106, 0.0012658105928195539, 0.08552132817737111, 7.911316205122212e-05, 0.1537959870275758, 0.00031645264820488847, 0.029691558105279632, 0.08257964598030898, 0.8874992289906241, 0.9984659478052402, 0.9926474702038723, 0.005771206222115537, 0.9996489582977225, 0.9927345893391436, 0.005026504249818448, 0.002513252124909224, 0.002513252124909224, 0.9982764358337154, 0.36929173732352727, 0.025169458125383667, 0.0016762178148018259, 0.2263941686116716, 0.1548144297389624, 0.008459661784077966, 0.17241471679438156, 0.03297434732555467, 0.008800143527709586, 0.42017159676278687, 0.05513637317612796, 0.019622062218563184, 0.02529786533963518, 0.34816998002690214, 0.030325005246870377, 0.04800107782392316, 0.05092006228618876, 0.0024324870518879983, 0.13518854815593254, 0.004252619892322382, 0.859029218249121, 0.001342932597575489, 0.9969029886312222, 0.9970694098140611, 0.9975540210003135, 0.9986449104564797, 0.6126928937745544, 0.0012914333804341705, 0.38171080915975697, 0.0003689809658383344, 0.0003689809658383344, 0.003136338209625843, 0.0003689809658383344, 0.21973662210257827, 0.1120136415952902, 0.18787618125762612, 0.04619307469210827, 0.14743441823666967, 0.06618572954896935, 0.08444386183834021, 0.0916558240926417, 0.04436726146317118, 0.9977497137529823, 0.9982290774041461, 0.09769917019846032, 0.1870982339021842, 0.16513753546819399, 0.0734040668128255, 0.05654447549539208, 0.27731866231111635, 0.01322829472598622, 0.11179205935098159, 0.017724185743968467, 0.9987203382822509, 0.9969898869144536, 0.9958851527134287, 0.0033085885472206936, 0.9975603755031951, 0.9959025348632262, 0.0014112439942259329, 0.9427109881429231, 0.05644975976903731, 0.9988148641937393, 0.2738621026867729, 0.7113347260754501, 0.001060111365239121, 0.013428077293028865, 0.9979545800829479, 0.9993220628255531, 0.9993168281444279, 0.9990069486179344, 0.9993433634830721, 8.435629147158205e-05, 0.9996220539382473, 8.435629147158205e-05, 0.0001687125829431641, 0.47107384418991516, 0.0007010027443302309, 0.5278550664806638, 0.9940780095905191, 0.002213982203987793, 0.0036284604656409785, 0.9941981675856281, 0.9977535494730586, 0.9971567022077432, 0.9952619123818565, 0.3047007512702193, 0.6950422462406481, 0.9989974345288322, 0.9985100349420785, 0.01208932934134151, 0.05373035262818449, 0.020148882235569186, 0.9140876240869886, 0.9947598482183896, 0.9975468248649592, 0.007657596891071942, 0.8208943867229123, 0.030630387564287768, 0.1194585115007223, 0.003063038756428777, 0.010720635647500719, 0.006891837201964748, 0.10676843237743217, 0.0009254035308986536, 5.783772068116585e-05, 0.0777338965954869, 0.0001156754413623317, 0.0003470263240869951, 0.7055623545895422, 0.10624789289130167, 0.0021978333858843025, 0.996098849384446, 0.9995619050974727, 0.00838824160953022, 0.07282518851910329, 0.3643165844502785, 0.010104018302388676, 0.004575404514289211, 0.38890938371458295, 0.005528613788099464, 0.1016121085881729, 0.04384762659527161, 0.08706958890028216, 0.045340385003372737, 0.6496113568182341, 0.048550323764673456, 0.04293293093239719, 0.020463359603292118, 0.10592797912292391, 0.15254159805687664, 0.29607581908251074, 0.09190860637434559, 0.10516946700367494, 0.129439344004523, 0.03235983600113075, 0.11601168009683731, 0.05137540973375398, 0.025187295031807954, 0.9994347470375834, 0.00031746580180922666, 0.0022222606126645864, 0.042857883244245595, 0.7190600410978983, 0.020317811315790506, 0.21492434782484643, 0.17781095504428707, 0.06470209954441712, 0.004792748114401268, 0.004792748114401268, 0.064222824732977, 0.02252591613768596, 0.1878757260845297, 0.4538732464338001, 0.019650267269045202, 0.1992748098792929, 0.09415277714480352, 0.12301236625576273, 0.0518427912988724, 0.4214022355704313, 0.029773693743433017, 0.019979715538356365, 0.02468082507679316, 0.0357806670425467, 0.00327760033572352, 0.9952979686147089, 0.9960625198675347, 0.9953026035044241, 0.2833577398723174, 0.08404006834489547, 0.03234749800445033, 0.1807654300248695, 0.11971745584980394, 0.08467433301164941, 0.028859042337303728, 0.1614203576888747, 0.024894888170091677, 0.42803043458795564, 0.0046933161687275834, 0.5660139299485466, 0.14401151372599416, 0.08916600733034687, 0.16251766619078314, 0.15360106545774846, 0.023385047205506063, 0.10464388030089763, 0.07688465160371417, 0.13896438123559718, 0.10683097104673633, 0.12916011445274278, 0.47853046409394023, 0.16261413608669753, 0.04655972083076175, 0.0496637022194792, 0.02724605885651984, 0.03466112550734486, 0.04086908828477976, 0.030522483655721595, 0.996798119711275, 0.02574645405573874, 0.29554219102929574, 0.2849048402746879, 0.06755056498308296, 0.038687434910070574, 0.08306619124298867, 0.03238632904906083, 0.07751037747306609, 0.09451658791514615, 0.004811730452088341, 0.959138270116276, 0.03368211316461839, 0.996614819809122], \"Term\": [\"absolute\", \"additive\", \"additive\", \"additive\", \"advice\", \"advice\", \"ahoy\", \"alcohol\", \"alcohol\", \"allergy\", \"allergy\", \"allergy\", \"amazon\", \"amazon\", \"amazon\", \"amazon\", \"andor\", \"animal\", \"animal\", \"apple\", \"apple\", \"apricot\", \"area\", \"area\", \"aroma\", \"aroma\", \"artificial\", \"artificial\", \"artificial\", \"artificial\", \"aspect\", \"auto\", \"auto\", \"available\", \"available\", \"available\", \"available\", \"available\", \"available\", \"available\", \"available\", \"available\", \"baby\", \"baby\", \"bag\", \"bag\", \"bag\", \"bag\", \"bag\", \"bag\", \"bag\", \"bag\", \"bake\", \"ball\", \"balsamic\", \"banana\", \"banana\", \"bar\", \"bar\", \"basket\", \"basket\", \"bean\", \"bean\", \"bean\", \"bean\", \"bean\", \"beef\", \"beef\", \"beef\", \"beer\", \"beer\", \"beer\", \"benefit\", \"benefit\", \"benefit\", \"benefit\", \"benefit\", \"berry\", \"beverage\", \"beverage\", \"beverage\", \"bird\", \"birthday\", \"birthday\", \"birthday\", \"biscuit\", \"biscuit\", \"biscuit\", \"bitter\", \"bitter\", \"bitter\", \"black\", \"black\", \"black\", \"black\", \"black\", \"black\", \"black\", \"black\", \"black\", \"blend\", \"blend\", \"blend\", \"blend\", \"blend\", \"blood\", \"blue\", \"blue\", \"blue\", \"blueberry\", \"bobs\", \"bodied\", \"bold\", \"bone\", \"bottle\", \"bottle\", \"bottle\", \"bottle\", \"bottle\", \"bottle\", \"box\", \"box\", \"box\", \"box\", \"box\", \"box\", \"box\", \"boyfriend\", \"brand\", \"brand\", \"brand\", \"brand\", \"brand\", \"brand\", \"brand\", \"brand\", \"brand\", \"bread\", \"bread\", \"breakfast\", \"breakfast\", \"breakfast\", \"breakfast\", \"breakfast\", \"breakfast\", \"breakfast\", \"breakfast\", \"breakfast\", \"breast\", \"breath\", \"brew\", \"brewer\", \"broken\", \"broken\", \"buck\", \"buck\", \"bulk\", \"bulk\", \"bulk\", \"bulk\", \"bulk\", \"bulk\", \"burger\", \"busy\", \"busy\", \"busy\", \"butter\", \"butter\", \"butter\", \"butter\", \"buyer\", \"buying\", \"buying\", \"buying\", \"buying\", \"buying\", \"buying\", \"buying\", \"buying\", \"buying\", \"byproduct\", \"caffeine\", \"cake\", \"cake\", \"cake\", \"cake\", \"cake\", \"call\", \"call\", \"call\", \"calorie\", \"calorie\", \"calorie\", \"calorie\", \"calorie\", \"candy\", \"candy\", \"candy\", \"candy\", \"cane\", \"canidae\", \"carbs\", \"carton\", \"case\", \"case\", \"case\", \"case\", \"case\", \"case\", \"case\", \"case\", \"case\", \"cashew\", \"cashew\", \"cashew\", \"cat\", \"cat\", \"cereal\", \"cereal\", \"cereal\", \"cereal\", \"chamomile\", \"cheap\", \"cheap\", \"cheap\", \"cheap\", \"cheap\", \"cheap\", \"cheap\", \"cheap\", \"cheap\", \"cheddar\", \"cheese\", \"cheese\", \"cheese\", \"chemical\", \"chemical\", \"chemical\", \"chemical\", \"chemical\", \"chemical\", \"chemical\", \"chemical\", \"chemical\", \"chew\", \"chew\", \"chewer\", \"chewy\", \"chewy\", \"chewy\", \"chewy\", \"chicken\", \"chicken\", \"chicken\", \"chip\", \"chip\", \"chocolate\", \"chocolate\", \"chocolate\", \"cider\", \"cinnamon\", \"cinnamon\", \"cinnamon\", \"cinnamon\", \"cluster\", \"cluster\", \"coat\", \"cocktail\", \"cocktail\", \"cocoa\", \"coconut\", \"coconut\", \"coconut\", \"coffee\", \"coin\", \"cola\", \"company\", \"company\", \"company\", \"company\", \"company\", \"company\", \"company\", \"company\", \"concentrate\", \"condition\", \"condition\", \"condition\", \"conditioner\", \"conditioner\", \"container\", \"container\", \"container\", \"container\", \"container\", \"container\", \"container\", \"container\", \"container\", \"cook\", \"cook\", \"cookie\", \"cookie\", \"cookie\", \"cookie\", \"cooking\", \"cooking\", \"cooking\", \"cooking\", \"cooking\", \"cooking\", \"cooking\", \"corn\", \"corn\", \"corn\", \"correct\", \"cost\", \"cost\", \"cost\", \"cost\", \"cost\", \"cost\", \"cost\", \"cracker\", \"cracker\", \"creamer\", \"creamy\", \"creamy\", \"crystal\", \"crystal\", \"cube\", \"cup\", \"cup\", \"cup\", \"cup\", \"cup\", \"curious\", \"customer\", \"customer\", \"customer\", \"customer\", \"damage\", \"damage\", \"dandy\", \"dark\", \"dark\", \"date\", \"day\", \"day\", \"day\", \"day\", \"day\", \"day\", \"day\", \"day\", \"day\", \"dead\", \"dead\", \"deal\", \"deal\", \"deal\", \"deal\", \"deal\", \"deal\", \"deal\", \"deal\", \"decaf\", \"degree\", \"degree\", \"degree\", \"delicious\", \"delicious\", \"delicious\", \"delicious\", \"delicious\", \"delicious\", \"delicious\", \"delicious\", \"delicious\", \"delighted\", \"delivery\", \"delivery\", \"delivery\", \"dent\", \"dental\", \"diabetic\", \"diamond\", \"diamond\", \"diarrhea\", \"different\", \"different\", \"different\", \"different\", \"different\", \"different\", \"different\", \"different\", \"different\", \"digestion\", \"discount\", \"discount\", \"discount\", \"discount\", \"discount\", \"dish\", \"dish\", \"dog\", \"dollar\", \"dollar\", \"drawer\", \"dressing\", \"drink\", \"drink\", \"drink\", \"drinker\", \"easy\", \"easy\", \"easy\", \"easy\", \"easy\", \"easy\", \"easy\", \"easy\", \"easy\", \"eater\", \"eater\", \"email\", \"email\", \"energy\", \"energy\", \"energy\", \"energy\", \"energy\", \"energy\", \"espresso\", \"espresso\", \"essential\", \"exact\", \"expensive\", \"expensive\", \"expensive\", \"expensive\", \"expensive\", \"expensive\", \"expensive\", \"expensive\", \"expensive\", \"expiration\", \"fancy\", \"fancy\", \"fancy\", \"farm\", \"farm\", \"farm\", \"farm\", \"farm\", \"farm\", \"farm\", \"fast\", \"fast\", \"fast\", \"fast\", \"fast\", \"fast\", \"fast\", \"fast\", \"favorite\", \"favorite\", \"favorite\", \"favorite\", \"favorite\", \"favorite\", \"favorite\", \"favorite\", \"favorite\", \"feast\", \"feed\", \"filling\", \"filling\", \"filter\", \"finding\", \"first\", \"first\", \"first\", \"first\", \"first\", \"first\", \"first\", \"first\", \"first\", \"flavor\", \"flavor\", \"flavor\", \"flavor\", \"flavor\", \"flavor\", \"flavor\", \"flavor\", \"flavor\", \"floor\", \"flour\", \"flour\", \"flour\", \"flour\", \"flour\", \"flower\", \"flower\", \"fondant\", \"food\", \"food\", \"food\", \"food\", \"food\", \"food\", \"food\", \"food\", \"foot\", \"foot\", \"formula\", \"formula\", \"formula\", \"formula\", \"free\", \"free\", \"free\", \"free\", \"free\", \"free\", \"free\", \"free\", \"free\", \"french\", \"french\", \"french\", \"fresh\", \"fresh\", \"fresh\", \"fresh\", \"fresh\", \"fresh\", \"fresh\", \"fresh\", \"fresh\", \"freshness\", \"freshness\", \"friend\", \"friend\", \"friend\", \"friend\", \"friend\", \"friend\", \"friend\", \"friend\", \"friend\", \"fructose\", \"fruit\", \"fruit\", \"fruit\", \"fruit\", \"fruit\", \"fry\", \"fudge\", \"garden\", \"garlic\", \"garlic\", \"gift\", \"gift\", \"gift\", \"gift\", \"gift\", \"gift\", \"gift\", \"glass\", \"glass\", \"glass\", \"glass\", \"glass\", \"gluten\", \"gold\", \"gold\", \"gold\", \"good\", \"good\", \"good\", \"good\", \"good\", \"good\", \"good\", \"good\", \"good\", \"grade\", \"grain\", \"grain\", \"grain\", \"grain\", \"grain\", \"grainy\", \"gram\", \"granola\", \"grape\", \"grape\", \"gravy\", \"greasy\", \"great\", \"great\", \"great\", \"great\", \"great\", \"great\", \"great\", \"great\", \"great\", \"green\", \"green\", \"green\", \"green\", \"green\", \"green\", \"green\", \"greenie\", \"grind\", \"grinder\", \"grinder\", \"gritty\", \"grocery\", \"grocery\", \"ground\", \"ground\", \"hair\", \"hair\", \"happy\", \"happy\", \"happy\", \"happy\", \"happy\", \"happy\", \"happy\", \"happy\", \"happy\", \"hassle\", \"hazelnut\", \"healthy\", \"healthy\", \"healthy\", \"healthy\", \"healthy\", \"healthy\", \"healthy\", \"heat\", \"heat\", \"heat\", \"heat\", \"hemp\", \"herbal\", \"herbal\", \"herbal\", \"high\", \"high\", \"high\", \"high\", \"high\", \"high\", \"high\", \"high\", \"high\", \"holder\", \"hole\", \"hole\", \"holiday\", \"holiday\", \"holiday\", \"holistic\", \"homemade\", \"homemade\", \"homemade\", \"homemade\", \"homemade\", \"homemade\", \"homemade\", \"homemade\", \"homemade\", \"honey\", \"honey\", \"honey\", \"honey\", \"honey\", \"human\", \"imagine\", \"increase\", \"indian\", \"indian\", \"infection\", \"ingredient\", \"ingredient\", \"ingredient\", \"ingredient\", \"ingredient\", \"ingredient\", \"ingredient\", \"ingredient\", \"item\", \"item\", \"item\", \"item\", \"item\", \"item\", \"item\", \"item\", \"jasmine\", \"jerky\", \"jerky\", \"joe\", \"joint\", \"juice\", \"kcup\", \"kibble\", \"kid\", \"kid\", \"kid\", \"kid\", \"kid\", \"kid\", \"kid\", \"kid\", \"kidney\", \"kitty\", \"large\", \"large\", \"large\", \"large\", \"large\", \"large\", \"large\", \"large\", \"large\", \"last\", \"last\", \"last\", \"last\", \"last\", \"last\", \"last\", \"last\", \"last\", \"lemonade\", \"licorice\", \"lime\", \"liter\", \"litter\", \"little\", \"little\", \"little\", \"little\", \"little\", \"little\", \"little\", \"little\", \"little\", \"liver\", \"load\", \"loaf\", \"local\", \"local\", \"local\", \"lotion\", \"love\", \"love\", \"love\", \"love\", \"love\", \"love\", \"love\", \"love\", \"love\", \"lucky\", \"lunch\", \"lunch\", \"lunch\", \"lunch\", \"lunch\", \"lunch\", \"lunch\", \"lunch\", \"machine\", \"machine\", \"maker\", \"maker\", \"maker\", \"mango\", \"manner\", \"maple\", \"marshmallow\", \"match\", \"matcha\", \"meal\", \"meal\", \"meal\", \"meal\", \"meal\", \"meal\", \"meal\", \"meat\", \"meat\", \"medication\", \"medicine\", \"melt\", \"microwave\", \"microwave\", \"microwave\", \"milk\", \"milk\", \"milk\", \"milk\", \"milk\", \"milk\", \"milk\", \"mill\", \"mint\", \"minute\", \"minute\", \"minute\", \"minute\", \"minute\", \"minute\", \"minute\", \"mistake\", \"mocha\", \"mold\", \"mole\", \"money\", \"money\", \"money\", \"money\", \"money\", \"money\", \"money\", \"money\", \"money\", \"month\", \"month\", \"month\", \"month\", \"month\", \"month\", \"month\", \"month\", \"month\", \"morning\", \"morning\", \"morning\", \"morning\", \"morning\", \"morning\", \"morning\", \"morning\", \"mountain\", \"movie\", \"much\", \"much\", \"much\", \"much\", \"much\", \"much\", \"much\", \"much\", \"much\", \"muffin\", \"muffin\", \"muffin\", \"muscle\", \"mushroom\", \"mushroom\", \"naked\", \"natural\", \"natural\", \"natural\", \"natural\", \"natural\", \"natural\", \"newman\", \"nice\", \"nice\", \"nice\", \"nice\", \"nice\", \"nice\", \"nice\", \"nice\", \"nice\", \"night\", \"night\", \"night\", \"night\", \"night\", \"night\", \"night\", \"noodle\", \"noodle\", \"numerous\", \"nut\", \"nut\", \"nut\", \"oatmeal\", \"oatmeal\", \"oatmeal\", \"obvious\", \"odor\", \"oil\", \"oil\", \"oil\", \"oil\", \"oil\", \"old\", \"old\", \"old\", \"olive\", \"olive\", \"onion\", \"onion\", \"online\", \"online\", \"online\", \"open\", \"open\", \"open\", \"open\", \"open\", \"open\", \"open\", \"open\", \"open\", \"order\", \"order\", \"order\", \"order\", \"order\", \"order\", \"order\", \"order\", \"order\", \"organic\", \"organic\", \"organic\", \"organic\", \"organic\", \"organic\", \"organic\", \"organic\", \"organic\", \"owner\", \"pack\", \"pack\", \"pack\", \"pack\", \"pack\", \"pack\", \"pack\", \"pack\", \"pack\", \"package\", \"package\", \"package\", \"package\", \"package\", \"package\", \"package\", \"package\", \"package\", \"packaging\", \"packaging\", \"packaging\", \"packaging\", \"packaging\", \"packaging\", \"packaging\", \"packaging\", \"packaging\", \"packet\", \"packet\", \"packet\", \"packet\", \"packet\", \"packet\", \"packet\", \"packet\", \"paper\", \"paper\", \"paper\", \"pasta\", \"paste\", \"paste\", \"peach\", \"peach\", \"peanut\", \"pearl\", \"people\", \"people\", \"people\", \"people\", \"people\", \"people\", \"people\", \"people\", \"people\", \"pepper\", \"pepper\", \"peppermint\", \"peppermint\", \"perfect\", \"perfect\", \"perfect\", \"perfect\", \"perfect\", \"perfect\", \"perfect\", \"perfect\", \"perfect\", \"pero\", \"pet\", \"picky\", \"picky\", \"picture\", \"picture\", \"piece\", \"piece\", \"piece\", \"piece\", \"piece\", \"piece\", \"piece\", \"pill\", \"pizza\", \"pizza\", \"plant\", \"plastic\", \"plastic\", \"plastic\", \"plastic\", \"plastic\", \"plastic\", \"plastic\", \"plastic\", \"play\", \"pocket\", \"pocket\", \"pod\", \"pork\", \"pork\", \"potassium\", \"potassium\", \"potato\", \"potato\", \"pouch\", \"pouch\", \"pouch\", \"pouch\", \"pouch\", \"press\", \"pressure\", \"pretzel\", \"price\", \"price\", \"price\", \"price\", \"price\", \"price\", \"price\", \"price\", \"price\", \"pricing\", \"prime\", \"print\", \"problem\", \"problem\", \"problem\", \"problem\", \"problem\", \"problem\", \"problem\", \"problem\", \"problem\", \"product\", \"product\", \"product\", \"product\", \"product\", \"product\", \"product\", \"product\", \"product\", \"productbr\", \"production\", \"proper\", \"puff\", \"pumpkin\", \"pumpkin\", \"puppy\", \"purchase\", \"purchase\", \"purchase\", \"purchase\", \"purchase\", \"purchase\", \"purchase\", \"purchase\", \"purchase\", \"pure\", \"pure\", \"pure\", \"pure\", \"pure\", \"pure\", \"purse\", \"quality\", \"quality\", \"quality\", \"quality\", \"quality\", \"quality\", \"quality\", \"quality\", \"quality\", \"quantity\", \"quantity\", \"quantity\", \"quantity\", \"quantity\", \"quantity\", \"quantity\", \"quantity\", \"raman\", \"rancid\", \"raspberry\", \"raspberry\", \"rawhide\", \"real\", \"real\", \"real\", \"real\", \"real\", \"real\", \"real\", \"real\", \"real\", \"recipe\", \"recipe\", \"recipe\", \"recipe\", \"recipe\", \"recipe\", \"refreshing\", \"refund\", \"regular\", \"regular\", \"regular\", \"regular\", \"regular\", \"regular\", \"regular\", \"regular\", \"regular\", \"rescue\", \"response\", \"restaurant\", \"restaurant\", \"restaurant\", \"restaurant\", \"restaurant\", \"restaurant\", \"restaurant\", \"retail\", \"retailer\", \"return\", \"review\", \"review\", \"review\", \"review\", \"review\", \"review\", \"review\", \"review\", \"review\", \"rice\", \"rice\", \"rice\", \"rice\", \"rice\", \"rice\", \"rich\", \"rich\", \"rich\", \"rich\", \"rich\", \"rich\", \"ridiculous\", \"ring\", \"rinse\", \"roast\", \"rock\", \"rock\", \"roll\", \"roll\", \"root\", \"rose\", \"round\", \"salad\", \"salad\", \"sale\", \"sale\", \"sale\", \"sale\", \"sale\", \"sale\", \"sale\", \"sale\", \"salt\", \"salty\", \"sampler\", \"sardine\", \"satisfie\", \"sauce\", \"sausage\", \"save\", \"save\", \"save\", \"save\", \"saver\", \"saver\", \"science\", \"scratch\", \"scratch\", \"seal\", \"seal\", \"seasoning\", \"secret\", \"seed\", \"seed\", \"seed\", \"seed\", \"seed\", \"selection\", \"self\", \"seller\", \"seller\", \"senseo\", \"separate\", \"separate\", \"service\", \"service\", \"shampoo\", \"shiny\", \"shipment\", \"shipment\", \"shipping\", \"shipping\", \"shipping\", \"shortbread\", \"sick\", \"sick\", \"sick\", \"size\", \"size\", \"size\", \"size\", \"size\", \"size\", \"size\", \"size\", \"skin\", \"skin\", \"skin\", \"skin\", \"sleep\", \"sleep\", \"sleep\", \"slim\", \"small\", \"small\", \"small\", \"small\", \"small\", \"small\", \"small\", \"small\", \"small\", \"smart\", \"smoke\", \"smoke\", \"smooth\", \"smooth\", \"smoothie\", \"snack\", \"snack\", \"snack\", \"snack\", \"snack\", \"snack\", \"soap\", \"soda\", \"sodium\", \"soft\", \"soft\", \"soft\", \"soft\", \"soft\", \"sore\", \"soup\", \"soup\", \"soup\", \"space\", \"space\", \"spice\", \"spice\", \"spice\", \"spice\", \"spice\", \"spice\", \"spicy\", \"spicy\", \"spicy\", \"spinach\", \"sport\", \"spray\", \"squirt\", \"starbuck\", \"steak\", \"steak\", \"stock\", \"stock\", \"stock\", \"stock\", \"stomach\", \"stomach\", \"stomach\", \"stomach\", \"stomach\", \"stomach\", \"stool\", \"storage\", \"store\", \"store\", \"store\", \"store\", \"store\", \"store\", \"store\", \"strength\", \"strong\", \"strong\", \"strong\", \"strong\", \"strong\", \"strong\", \"strong\", \"strong\", \"strong\", \"stuff\", \"stuff\", \"stuff\", \"stuff\", \"stuff\", \"stuff\", \"stuff\", \"stuff\", \"stuff\", \"subscribe\", \"subscribe\", \"subscribe\", \"subscribe\", \"subscribe\", \"subscribe\", \"success\", \"sugar\", \"sugar\", \"sugar\", \"sugar\", \"sugar\", \"sugarbr\", \"sugarfree\", \"suggestion\", \"supermarket\", \"supermarket\", \"supermarket\", \"supermarket\", \"supermarket\", \"supermarket\", \"supermarket\", \"supplement\", \"supplement\", \"supplier\", \"suppose\", \"sweet\", \"sweet\", \"sweet\", \"sweet\", \"sweet\", \"sweet\", \"sweet\", \"sweet\", \"sweetener\", \"sweetener\", \"sweetener\", \"sweetner\", \"symptom\", \"symptom\", \"syrup\", \"target\", \"target\", \"target\", \"target\", \"tart\", \"taste\", \"taste\", \"taste\", \"taste\", \"taste\", \"taste\", \"taste\", \"taste\", \"taste\", \"tasty\", \"tasty\", \"tasty\", \"tasty\", \"tasty\", \"tasty\", \"tasty\", \"tasty\", \"tasty\", \"tea\", \"tea\", \"tea\", \"tea\", \"teabag\", \"tear\", \"tend\", \"tender\", \"texture\", \"texture\", \"texture\", \"texture\", \"texture\", \"texture\", \"texture\", \"thing\", \"thing\", \"thing\", \"thing\", \"thing\", \"thing\", \"thing\", \"thing\", \"thing\", \"throat\", \"tight\", \"time\", \"time\", \"time\", \"time\", \"time\", \"time\", \"time\", \"time\", \"time\", \"timely\", \"timothys\", \"tin\", \"tin\", \"toddler\", \"toffee\", \"tomato\", \"tomato\", \"tomato\", \"tonic\", \"tooth\", \"tooth\", \"tooth\", \"tooth\", \"tortilla\", \"toy\", \"trader\", \"training\", \"trap\", \"treat\", \"treat\", \"treat\", \"treat\", \"tree\", \"tree\", \"tree\", \"tropical\", \"tropical\", \"truffle\", \"truffle\", \"tuna\", \"twining\", \"unusual\", \"vanilla\", \"vanilla\", \"vinegar\", \"visit\", \"vitamin\", \"vitamin\", \"vitamin\", \"vitamin\", \"wafer\", \"wasabi\", \"waste\", \"waste\", \"waste\", \"waste\", \"waste\", \"waste\", \"waste\", \"water\", \"water\", \"water\", \"water\", \"water\", \"water\", \"water\", \"water\", \"water\", \"waterbr\", \"weak\", \"week\", \"week\", \"week\", \"week\", \"week\", \"week\", \"week\", \"week\", \"week\", \"weight\", \"weight\", \"weight\", \"weight\", \"weight\", \"weight\", \"weight\", \"well\", \"well\", \"well\", \"well\", \"well\", \"well\", \"well\", \"well\", \"well\", \"wellness\", \"wheat\", \"wheat\", \"wheat\", \"wheat\", \"wheat\", \"wheat\", \"white\", \"white\", \"white\", \"white\", \"white\", \"white\", \"white\", \"white\", \"white\", \"whole\", \"whole\", \"whole\", \"whole\", \"whole\", \"whole\", \"whole\", \"whole\", \"whole\", \"wine\", \"wine\", \"wing\", \"woman\", \"wonderful\", \"wonderful\", \"wonderful\", \"wonderful\", \"wonderful\", \"wonderful\", \"wonderful\", \"wonderful\", \"wonderful\", \"word\", \"word\", \"word\", \"work\", \"work\", \"work\", \"work\", \"work\", \"work\", \"work\", \"work\", \"work\", \"worth\", \"worth\", \"worth\", \"worth\", \"worth\", \"worth\", \"worth\", \"worth\", \"worth\", \"wrap\", \"year\", \"year\", \"year\", \"year\", \"year\", \"year\", \"year\", \"year\", \"year\", \"yeast\", \"yeast\", \"yeast\", \"yesterday\"]}, \"R\": 30, \"lambda.step\": 0.01, \"plot.opts\": {\"xlab\": \"PC1\", \"ylab\": \"PC2\"}, \"topic.order\": [8, 5, 4, 9, 6, 3, 7, 1, 2]};\n",
              "\n",
              "function LDAvis_load_lib(url, callback){\n",
              "  var s = document.createElement('script');\n",
              "  s.src = url;\n",
              "  s.async = true;\n",
              "  s.onreadystatechange = s.onload = callback;\n",
              "  s.onerror = function(){console.warn(\"failed to load library \" + url);};\n",
              "  document.getElementsByTagName(\"head\")[0].appendChild(s);\n",
              "}\n",
              "\n",
              "if(typeof(LDAvis) !== \"undefined\"){\n",
              "   // already loaded: just create the visualization\n",
              "   !function(LDAvis){\n",
              "       new LDAvis(\"#\" + \"ldavis_el47451406645905194165485370501\", ldavis_el47451406645905194165485370501_data);\n",
              "   }(LDAvis);\n",
              "}else if(typeof define === \"function\" && define.amd){\n",
              "   // require.js is available: use it to load d3/LDAvis\n",
              "   require.config({paths: {d3: \"https://cdnjs.cloudflare.com/ajax/libs/d3/3.5.5/d3.min\"}});\n",
              "   require([\"d3\"], function(d3){\n",
              "      window.d3 = d3;\n",
              "      LDAvis_load_lib(\"https://cdn.rawgit.com/bmabey/pyLDAvis/files/ldavis.v1.0.0.js\", function(){\n",
              "        new LDAvis(\"#\" + \"ldavis_el47451406645905194165485370501\", ldavis_el47451406645905194165485370501_data);\n",
              "      });\n",
              "    });\n",
              "}else{\n",
              "    // require.js not available: dynamically load d3 & LDAvis\n",
              "    LDAvis_load_lib(\"https://cdnjs.cloudflare.com/ajax/libs/d3/3.5.5/d3.min.js\", function(){\n",
              "         LDAvis_load_lib(\"https://cdn.rawgit.com/bmabey/pyLDAvis/files/ldavis.v1.0.0.js\", function(){\n",
              "                 new LDAvis(\"#\" + \"ldavis_el47451406645905194165485370501\", ldavis_el47451406645905194165485370501_data);\n",
              "            })\n",
              "         });\n",
              "}\n",
              "</script>"
            ],
            "text/plain": [
              "PreparedData(topic_coordinates=              x         y  topics  cluster       Freq\n",
              "topic                                                \n",
              "7     -0.153292  0.023694       1        1  17.289560\n",
              "4      0.123117  0.154181       2        1  13.775324\n",
              "3      0.079087  0.011973       3        1  13.751272\n",
              "8     -0.156531  0.079430       4        1  11.947403\n",
              "5     -0.109399  0.002661       5        1  11.065416\n",
              "2      0.169887  0.176151       6        1  10.091179\n",
              "6     -0.140086 -0.097616       7        1   8.730331\n",
              "0     -0.026005 -0.115187       8        1   7.957589\n",
              "1      0.213223 -0.235287       9        1   5.391925, topic_info=          Term          Freq         Total Category  logprob  loglift\n",
              "184     coffee  39300.000000  39300.000000  Default  30.0000  30.0000\n",
              "1         food  34257.000000  34257.000000  Default  29.0000  29.0000\n",
              "234      store  17579.000000  17579.000000  Default  28.0000  28.0000\n",
              "196      water  17289.000000  17289.000000  Default  27.0000  27.0000\n",
              "171  chocolate  15228.000000  15228.000000  Default  26.0000  26.0000\n",
              "..         ...           ...           ...      ...      ...      ...\n",
              "2         good    867.162581  59934.370277   Topic9  -5.1405  -1.3155\n",
              "479       work    634.992751   5943.969186   Topic9  -5.4521   0.6837\n",
              "343    problem    618.750921   6981.167394   Topic9  -5.4780   0.4970\n",
              "633     people    535.139839   5868.707464   Topic9  -5.6232   0.5254\n",
              "410    natural    522.428533   6480.427775   Topic9  -5.6472   0.4022\n",
              "\n",
              "[632 rows x 6 columns], token_table=      Topic      Freq       Term\n",
              "term                            \n",
              "1705      7  0.998412   absolute\n",
              "480       5  0.036339   additive\n",
              "480       7  0.959690   additive\n",
              "480       8  0.003304   additive\n",
              "3977      1  0.029270     advice\n",
              "...     ...       ...        ...\n",
              "113       9  0.094517       year\n",
              "2017      2  0.004812      yeast\n",
              "2017      8  0.959138      yeast\n",
              "2017      9  0.033682      yeast\n",
              "4648      1  0.996615  yesterday\n",
              "\n",
              "[1623 rows x 3 columns], R=30, lambda_step=0.01, plot_opts={'xlab': 'PC1', 'ylab': 'PC2'}, topic_order=[8, 5, 4, 9, 6, 3, 7, 1, 2])"
            ]
          },
          "metadata": {
            "tags": []
          },
          "execution_count": 64
        }
      ]
    },
    {
      "cell_type": "markdown",
      "metadata": {
        "id": "IQOuNUmNMYVE"
      },
      "source": [
        "> References : \n",
        "> - https://towardsdatascience.com/evaluate-topic-model-in-python-latent-dirichlet-allocation-lda-7d57484bb5d0\n",
        "\n",
        "> Method to find optimal number of topics\n",
        "code : \n",
        "> - https://www.machinelearningplus.com/nlp/topic-modeling-gensim-python/#14computemodelperplexityandcoherencescore\n",
        "\n",
        "> More on visualization with pyLDAvis on : \n",
        "> - https://github.com/bmabey/pyLDAvis and \n",
        "> - https://speakerdeck.com/bmabey/visualizing-topic-models\n"
      ]
    }
  ]
}
